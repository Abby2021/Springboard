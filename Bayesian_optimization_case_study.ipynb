{
 "cells": [
  {
   "cell_type": "markdown",
   "metadata": {
    "colab_type": "text",
    "id": "WNK7vbHo-KYU"
   },
   "source": [
    "## Bayesian methods of hyperparameter optimization"
   ]
  },
  {
   "cell_type": "markdown",
   "metadata": {
    "colab_type": "text",
    "id": "BlFdvPwF-KYW"
   },
   "source": [
    "In addition to the random search and the grid search methods for selecting optimal hyperparameters, we can use Bayesian methods of probabilities to select the optimal hyperparameters for an algorithm.\n",
    "\n",
    "In this case study, we will be using the BayesianOptimization library to perform hyperparmater tuning. This library has very good documentation which you can find here: https://github.com/fmfn/BayesianOptimization\n",
    "\n",
    "You will need to install the Bayesian optimization module. Running a cell with an exclamation point in the beginning of the command will run it as a shell command — please do this to install this module from our notebook in the cell below."
   ]
  },
  {
   "cell_type": "code",
   "execution_count": 1,
   "metadata": {
    "colab": {},
    "colab_type": "code",
    "id": "Pssx080d-Ulf"
   },
   "outputs": [],
   "source": [
    "#! pip install bayesian-optimization"
   ]
  },
  {
   "cell_type": "code",
   "execution_count": 2,
   "metadata": {},
   "outputs": [],
   "source": [
    "#! pip install catboost"
   ]
  },
  {
   "cell_type": "code",
   "execution_count": 3,
   "metadata": {
    "ExecuteTime": {
     "end_time": "2019-04-22T16:39:09.312682Z",
     "start_time": "2019-04-22T16:39:09.309208Z"
    },
    "_kg_hide-input": true,
    "colab": {},
    "colab_type": "code",
    "id": "l9nfFTyj-KYY"
   },
   "outputs": [],
   "source": [
    "import warnings\n",
    "warnings.filterwarnings('ignore')\n",
    "from sklearn.preprocessing import LabelEncoder\n",
    "import numpy as np\n",
    "import pandas as pd\n",
    "import lightgbm\n",
    "from bayes_opt import BayesianOptimization\n",
    "from catboost import CatBoostClassifier, cv, Pool"
   ]
  },
  {
   "cell_type": "code",
   "execution_count": 4,
   "metadata": {
    "colab": {
     "base_uri": "https://localhost:8080/",
     "height": 85
    },
    "colab_type": "code",
    "id": "D16Dquw1AAK0",
    "outputId": "44167587-f22e-4bf5-a816-e2bcfdc6c4ee"
   },
   "outputs": [
    {
     "data": {
      "text/plain": [
       "['.DS_Store',\n",
       " '.ipynb_checkpoints',\n",
       " 'Bayesian_optimization_case_study.ipynb',\n",
       " 'flight_delays_test.csv.zip',\n",
       " 'flight_delays_train.csv.zip']"
      ]
     },
     "execution_count": 4,
     "metadata": {},
     "output_type": "execute_result"
    }
   ],
   "source": [
    "import os\n",
    "os.listdir()"
   ]
  },
  {
   "cell_type": "markdown",
   "metadata": {
    "ExecuteTime": {
     "end_time": "2019-04-22T14:48:15.929012Z",
     "start_time": "2019-04-22T14:48:15.926574Z"
    },
    "colab_type": "text",
    "id": "AkBt3yds-KYu"
   },
   "source": [
    "## How does Bayesian optimization work?"
   ]
  },
  {
   "cell_type": "markdown",
   "metadata": {
    "colab_type": "text",
    "id": "E1kyBCUs-KYv"
   },
   "source": [
    "Bayesian optimization works by constructing a posterior distribution of functions (Gaussian process) that best describes the function you want to optimize. As the number of observations grows, the posterior distribution improves, and the algorithm becomes more certain of which regions in parameter space are worth exploring and which are not, as seen in the picture below."
   ]
  },
  {
   "cell_type": "markdown",
   "metadata": {
    "colab_type": "text",
    "id": "gAdHF72R-KYw"
   },
   "source": [
    "<img src=\"https://github.com/fmfn/BayesianOptimization/blob/master/examples/bo_example.png?raw=true\" />\n",
    "As you iterate over and over, the algorithm balances its needs of exploration and exploitation while taking into account what it knows about the target function. At each step, a Gaussian Process is fitted to the known samples (points previously explored), and the posterior distribution, combined with an exploration strategy (such as UCB — aka Upper Confidence Bound), or EI (Expected Improvement). This process is used to determine the next point that should be explored (see the gif below).\n",
    "<img src=\"https://github.com/fmfn/BayesianOptimization/raw/master/examples/bayesian_optimization.gif\" />"
   ]
  },
  {
   "cell_type": "markdown",
   "metadata": {
    "colab_type": "text",
    "id": "RTP8KUlLoYzu"
   },
   "source": [
    "## Let's look at a simple example"
   ]
  },
  {
   "cell_type": "markdown",
   "metadata": {
    "colab_type": "text",
    "id": "crpPqKdC-KYx"
   },
   "source": [
    "The first step is to create an optimizer. It uses two items:\n",
    "* function to optimize\n",
    "* bounds of parameters\n",
    "\n",
    "The function is the procedure that counts metrics of our model quality. The important thing is that our optimization will maximize the value on function. Smaller metrics are best. Hint: don't forget to use negative metric values."
   ]
  },
  {
   "cell_type": "markdown",
   "metadata": {
    "colab_type": "text",
    "id": "e09ciF8gpTfr"
   },
   "source": [
    "Here we define our simple function we want to optimize."
   ]
  },
  {
   "cell_type": "code",
   "execution_count": 5,
   "metadata": {
    "colab": {},
    "colab_type": "code",
    "id": "ofwvnfEwo5mG"
   },
   "outputs": [],
   "source": [
    "def simple_func(a, b):\n",
    "    return a + b"
   ]
  },
  {
   "cell_type": "markdown",
   "metadata": {
    "colab_type": "text",
    "id": "XCGsdciCpeI3"
   },
   "source": [
    "Now, we define our bounds of the parameters to optimize, within the Bayesian optimizer."
   ]
  },
  {
   "cell_type": "code",
   "execution_count": 6,
   "metadata": {
    "colab": {},
    "colab_type": "code",
    "id": "4jLYW2qnpOFr"
   },
   "outputs": [],
   "source": [
    "optimizer = BayesianOptimization(\n",
    "    simple_func,\n",
    "    {'a': (1, 3),\n",
    "    'b': (4, 7)})"
   ]
  },
  {
   "cell_type": "markdown",
   "metadata": {
    "colab_type": "text",
    "id": "dg6LdYx8pq2T"
   },
   "source": [
    "These are the main parameters of this function:\n",
    "\n",
    "* **n_iter:** This is how many steps of Bayesian optimization you want to perform. The more steps, the more likely you are to find a good maximum.\n",
    "\n",
    "* **init_points:** This is how many steps of random exploration you want to perform. Random exploration can help by diversifying the exploration space."
   ]
  },
  {
   "cell_type": "markdown",
   "metadata": {
    "colab_type": "text",
    "id": "i-GKMJ1uqMYv"
   },
   "source": [
    "Let's run an example where we use the optimizer to find the best values to maximize the target value for a and b given the inputs of 3 and 2."
   ]
  },
  {
   "cell_type": "code",
   "execution_count": 7,
   "metadata": {
    "colab": {
     "base_uri": "https://localhost:8080/",
     "height": 153
    },
    "colab_type": "code",
    "id": "Oy44Ro7wqNat",
    "outputId": "9cc64d54-b1e6-46d1-dc29-4c0039a1c72d"
   },
   "outputs": [
    {
     "name": "stdout",
     "output_type": "stream",
     "text": [
      "|   iter    |  target   |     a     |     b     |\n",
      "-------------------------------------------------\n",
      "| \u001b[0m 1       \u001b[0m | \u001b[0m 8.597   \u001b[0m | \u001b[0m 2.489   \u001b[0m | \u001b[0m 6.108   \u001b[0m |\n",
      "| \u001b[0m 2       \u001b[0m | \u001b[0m 6.74    \u001b[0m | \u001b[0m 2.069   \u001b[0m | \u001b[0m 4.671   \u001b[0m |\n",
      "| \u001b[95m 3       \u001b[0m | \u001b[95m 8.621   \u001b[0m | \u001b[95m 2.951   \u001b[0m | \u001b[95m 5.669   \u001b[0m |\n",
      "| \u001b[95m 4       \u001b[0m | \u001b[95m 9.879   \u001b[0m | \u001b[95m 3.0     \u001b[0m | \u001b[95m 6.879   \u001b[0m |\n",
      "| \u001b[0m 5       \u001b[0m | \u001b[0m 8.0     \u001b[0m | \u001b[0m 1.0     \u001b[0m | \u001b[0m 7.0     \u001b[0m |\n",
      "=================================================\n"
     ]
    }
   ],
   "source": [
    "optimizer.maximize(3,2)"
   ]
  },
  {
   "cell_type": "markdown",
   "metadata": {
    "colab_type": "text",
    "id": "tyKFMF2Hq2Sx"
   },
   "source": [
    "Great, now let's print the best parameters and the associated maximized target."
   ]
  },
  {
   "cell_type": "code",
   "execution_count": 8,
   "metadata": {
    "colab": {
     "base_uri": "https://localhost:8080/",
     "height": 51
    },
    "colab_type": "code",
    "id": "_H6DixyfscV_",
    "outputId": "fd0c35d7-e30d-4d30-9ab2-12c0fa837971"
   },
   "outputs": [
    {
     "name": "stdout",
     "output_type": "stream",
     "text": [
      "{'a': 3.0, 'b': 6.878567074012037}\n"
     ]
    },
    {
     "data": {
      "text/plain": [
       "9.878567074012036"
      ]
     },
     "execution_count": 8,
     "metadata": {},
     "output_type": "execute_result"
    }
   ],
   "source": [
    "print(optimizer.max['params']);optimizer.max['target']"
   ]
  },
  {
   "cell_type": "markdown",
   "metadata": {
    "colab_type": "text",
    "id": "tQ1T1V6Mspi4"
   },
   "source": [
    "## Test it on real data using the Light GBM"
   ]
  },
  {
   "cell_type": "markdown",
   "metadata": {
    "colab_type": "text",
    "id": "y_oGwREZkm4h"
   },
   "source": [
    "The dataset we will be working with is the famous flight departures dataset. Our modeling goal will be to predict if a flight departure is going to be delayed by 15 minutes based on the other attributes in our dataset. As part of this modeling exercise, we will use Bayesian hyperparameter optimization to identify the best parameters for our model."
   ]
  },
  {
   "cell_type": "markdown",
   "metadata": {
    "colab_type": "text",
    "id": "abYSagjQANDZ"
   },
   "source": [
    "**<font color='teal'> You can load the zipped csv files just as you would regular csv files using Pandas read_csv. In the next cell load the train and test data into two seperate dataframes. </font>**\n"
   ]
  },
  {
   "cell_type": "code",
   "execution_count": 9,
   "metadata": {
    "colab": {},
    "colab_type": "code",
    "id": "EWKBApVuAeJe"
   },
   "outputs": [],
   "source": [
    "train_df = pd.read_csv('flight_delays_train.csv.zip')\n",
    "test_df = pd.read_csv('flight_delays_test.csv.zip')"
   ]
  },
  {
   "cell_type": "markdown",
   "metadata": {
    "colab_type": "text",
    "id": "OapNcT9Eikis"
   },
   "source": [
    "**<font color='teal'> Print the top five rows of the train dataframe and review the columns in the data. </font>**"
   ]
  },
  {
   "cell_type": "code",
   "execution_count": 10,
   "metadata": {
    "colab": {
     "base_uri": "https://localhost:8080/",
     "height": 204
    },
    "colab_type": "code",
    "id": "__4cXZ8iiYaC",
    "outputId": "8718ad4b-8955-486c-9ae8-1dee6aa6c2fb"
   },
   "outputs": [
    {
     "data": {
      "text/html": [
       "<div>\n",
       "<style scoped>\n",
       "    .dataframe tbody tr th:only-of-type {\n",
       "        vertical-align: middle;\n",
       "    }\n",
       "\n",
       "    .dataframe tbody tr th {\n",
       "        vertical-align: top;\n",
       "    }\n",
       "\n",
       "    .dataframe thead th {\n",
       "        text-align: right;\n",
       "    }\n",
       "</style>\n",
       "<table border=\"1\" class=\"dataframe\">\n",
       "  <thead>\n",
       "    <tr style=\"text-align: right;\">\n",
       "      <th></th>\n",
       "      <th>Month</th>\n",
       "      <th>DayofMonth</th>\n",
       "      <th>DayOfWeek</th>\n",
       "      <th>DepTime</th>\n",
       "      <th>UniqueCarrier</th>\n",
       "      <th>Origin</th>\n",
       "      <th>Dest</th>\n",
       "      <th>Distance</th>\n",
       "      <th>dep_delayed_15min</th>\n",
       "    </tr>\n",
       "  </thead>\n",
       "  <tbody>\n",
       "    <tr>\n",
       "      <th>0</th>\n",
       "      <td>c-8</td>\n",
       "      <td>c-21</td>\n",
       "      <td>c-7</td>\n",
       "      <td>1934</td>\n",
       "      <td>AA</td>\n",
       "      <td>ATL</td>\n",
       "      <td>DFW</td>\n",
       "      <td>732</td>\n",
       "      <td>N</td>\n",
       "    </tr>\n",
       "    <tr>\n",
       "      <th>1</th>\n",
       "      <td>c-4</td>\n",
       "      <td>c-20</td>\n",
       "      <td>c-3</td>\n",
       "      <td>1548</td>\n",
       "      <td>US</td>\n",
       "      <td>PIT</td>\n",
       "      <td>MCO</td>\n",
       "      <td>834</td>\n",
       "      <td>N</td>\n",
       "    </tr>\n",
       "    <tr>\n",
       "      <th>2</th>\n",
       "      <td>c-9</td>\n",
       "      <td>c-2</td>\n",
       "      <td>c-5</td>\n",
       "      <td>1422</td>\n",
       "      <td>XE</td>\n",
       "      <td>RDU</td>\n",
       "      <td>CLE</td>\n",
       "      <td>416</td>\n",
       "      <td>N</td>\n",
       "    </tr>\n",
       "    <tr>\n",
       "      <th>3</th>\n",
       "      <td>c-11</td>\n",
       "      <td>c-25</td>\n",
       "      <td>c-6</td>\n",
       "      <td>1015</td>\n",
       "      <td>OO</td>\n",
       "      <td>DEN</td>\n",
       "      <td>MEM</td>\n",
       "      <td>872</td>\n",
       "      <td>N</td>\n",
       "    </tr>\n",
       "    <tr>\n",
       "      <th>4</th>\n",
       "      <td>c-10</td>\n",
       "      <td>c-7</td>\n",
       "      <td>c-6</td>\n",
       "      <td>1828</td>\n",
       "      <td>WN</td>\n",
       "      <td>MDW</td>\n",
       "      <td>OMA</td>\n",
       "      <td>423</td>\n",
       "      <td>Y</td>\n",
       "    </tr>\n",
       "  </tbody>\n",
       "</table>\n",
       "</div>"
      ],
      "text/plain": [
       "  Month DayofMonth DayOfWeek  DepTime UniqueCarrier Origin Dest  Distance  \\\n",
       "0   c-8       c-21       c-7     1934            AA    ATL  DFW       732   \n",
       "1   c-4       c-20       c-3     1548            US    PIT  MCO       834   \n",
       "2   c-9        c-2       c-5     1422            XE    RDU  CLE       416   \n",
       "3  c-11       c-25       c-6     1015            OO    DEN  MEM       872   \n",
       "4  c-10        c-7       c-6     1828            WN    MDW  OMA       423   \n",
       "\n",
       "  dep_delayed_15min  \n",
       "0                 N  \n",
       "1                 N  \n",
       "2                 N  \n",
       "3                 N  \n",
       "4                 Y  "
      ]
     },
     "execution_count": 10,
     "metadata": {},
     "output_type": "execute_result"
    }
   ],
   "source": [
    "train_df.head()"
   ]
  },
  {
   "cell_type": "markdown",
   "metadata": {
    "colab_type": "text",
    "id": "UxGBsPQhffgd"
   },
   "source": [
    "**<font color='teal'> Use the describe function to review the numeric columns in the train dataframe. </font>**"
   ]
  },
  {
   "cell_type": "code",
   "execution_count": 11,
   "metadata": {
    "colab": {
     "base_uri": "https://localhost:8080/",
     "height": 297
    },
    "colab_type": "code",
    "id": "_bRRKG3DAtae",
    "outputId": "7cfb9975-ec97-422c-abbd-98923a0b7aec"
   },
   "outputs": [
    {
     "data": {
      "text/html": [
       "<div>\n",
       "<style scoped>\n",
       "    .dataframe tbody tr th:only-of-type {\n",
       "        vertical-align: middle;\n",
       "    }\n",
       "\n",
       "    .dataframe tbody tr th {\n",
       "        vertical-align: top;\n",
       "    }\n",
       "\n",
       "    .dataframe thead th {\n",
       "        text-align: right;\n",
       "    }\n",
       "</style>\n",
       "<table border=\"1\" class=\"dataframe\">\n",
       "  <thead>\n",
       "    <tr style=\"text-align: right;\">\n",
       "      <th></th>\n",
       "      <th>count</th>\n",
       "      <th>mean</th>\n",
       "      <th>std</th>\n",
       "      <th>min</th>\n",
       "      <th>25%</th>\n",
       "      <th>50%</th>\n",
       "      <th>75%</th>\n",
       "      <th>max</th>\n",
       "    </tr>\n",
       "  </thead>\n",
       "  <tbody>\n",
       "    <tr>\n",
       "      <th>DepTime</th>\n",
       "      <td>100000.0</td>\n",
       "      <td>1341.52388</td>\n",
       "      <td>476.378445</td>\n",
       "      <td>1.0</td>\n",
       "      <td>931.0</td>\n",
       "      <td>1330.0</td>\n",
       "      <td>1733.0</td>\n",
       "      <td>2534.0</td>\n",
       "    </tr>\n",
       "    <tr>\n",
       "      <th>Distance</th>\n",
       "      <td>100000.0</td>\n",
       "      <td>729.39716</td>\n",
       "      <td>574.616860</td>\n",
       "      <td>30.0</td>\n",
       "      <td>317.0</td>\n",
       "      <td>575.0</td>\n",
       "      <td>957.0</td>\n",
       "      <td>4962.0</td>\n",
       "    </tr>\n",
       "  </tbody>\n",
       "</table>\n",
       "</div>"
      ],
      "text/plain": [
       "             count        mean         std   min    25%     50%     75%  \\\n",
       "DepTime   100000.0  1341.52388  476.378445   1.0  931.0  1330.0  1733.0   \n",
       "Distance  100000.0   729.39716  574.616860  30.0  317.0   575.0   957.0   \n",
       "\n",
       "             max  \n",
       "DepTime   2534.0  \n",
       "Distance  4962.0  "
      ]
     },
     "execution_count": 11,
     "metadata": {},
     "output_type": "execute_result"
    }
   ],
   "source": [
    "train_df.describe().T"
   ]
  },
  {
   "cell_type": "markdown",
   "metadata": {
    "colab_type": "text",
    "id": "i6k-_fI5Aiyh"
   },
   "source": [
    "Notice, `DepTime` is the departure time in a numeric representation in 2400 hours. "
   ]
  },
  {
   "cell_type": "markdown",
   "metadata": {
    "colab_type": "text",
    "id": "gtZS4-hrlQah"
   },
   "source": [
    " **<font color='teal'>The response variable is 'dep_delayed_15min' which is a categorical column, so we need to map the Y for yes and N for no values to 1 and 0. Run the code in the next cell to do this.</font>**"
   ]
  },
  {
   "cell_type": "code",
   "execution_count": 19,
   "metadata": {
    "ExecuteTime": {
     "end_time": "2019-04-22T15:38:42.677690Z",
     "start_time": "2019-04-22T15:38:42.481963Z"
    },
    "colab": {},
    "colab_type": "code",
    "id": "yRlOTbnW-KYc"
   },
   "outputs": [],
   "source": [
    "#train_df = train_df[train_df.DepTime <= 2400].copy()\n",
    "y = train_df['dep_delayed_15min'].map({'Y': 1, 'N': 0}).values"
   ]
  },
  {
   "cell_type": "markdown",
   "metadata": {
    "colab_type": "text",
    "id": "z3WPkFQO9uo9"
   },
   "source": [
    "## Feature Engineering\n",
    "Use these defined functions to create additional features for the model. Run the cell to add the functions to your workspace."
   ]
  },
  {
   "cell_type": "code",
   "execution_count": 20,
   "metadata": {
    "colab": {},
    "colab_type": "code",
    "id": "cXqsqz5W9t3r"
   },
   "outputs": [],
   "source": [
    "def label_enc(df_column):\n",
    "    df_column = LabelEncoder().fit_transform(df_column)\n",
    "    return df_column\n",
    "\n",
    "def make_harmonic_features_sin(value, period=2400):\n",
    "    value *= 2 * np.pi / period \n",
    "    return np.sin(value)\n",
    "\n",
    "def make_harmonic_features_cos(value, period=2400):\n",
    "    value *= 2 * np.pi / period \n",
    "    return np.cos(value)\n",
    "\n",
    "def feature_eng(df):\n",
    "    df['flight'] = df['Origin']+df['Dest']\n",
    "    df['Month'] = df.Month.map(lambda x: x.split('-')[-1]).astype('int32')\n",
    "    df['DayofMonth'] = df.DayofMonth.map(lambda x: x.split('-')[-1]).astype('uint8')\n",
    "    df['begin_of_month'] = (df['DayofMonth'] < 10).astype('uint8')\n",
    "    df['midddle_of_month'] = ((df['DayofMonth'] >= 10)&(df['DayofMonth'] < 20)).astype('uint8')\n",
    "    df['end_of_month'] = (df['DayofMonth'] >= 20).astype('uint8')\n",
    "    df['DayOfWeek'] = df.DayOfWeek.map(lambda x: x.split('-')[-1]).astype('uint8')\n",
    "    df['hour'] = df.DepTime.map(lambda x: x/100).astype('int32')\n",
    "    df['morning'] = df['hour'].map(lambda x: 1 if (x <= 11)& (x >= 7) else 0).astype('uint8')\n",
    "    df['day'] = df['hour'].map(lambda x: 1 if (x >= 12) & (x <= 18) else 0).astype('uint8')\n",
    "    df['evening'] = df['hour'].map(lambda x: 1 if (x >= 19) & (x <= 23) else 0).astype('uint8')\n",
    "    df['night'] = df['hour'].map(lambda x: 1 if (x >= 0) & (x <= 6) else 0).astype('int32')\n",
    "    df['winter'] = df['Month'].map(lambda x: x in [12, 1, 2]).astype('int32')\n",
    "    df['spring'] = df['Month'].map(lambda x: x in [3, 4, 5]).astype('int32')\n",
    "    df['summer'] = df['Month'].map(lambda x: x in [6, 7, 8]).astype('int32')\n",
    "    df['autumn'] = df['Month'].map(lambda x: x in [9, 10, 11]).astype('int32')\n",
    "    df['holiday'] = (df['DayOfWeek'] >= 5).astype(int) \n",
    "    df['weekday'] = (df['DayOfWeek'] < 5).astype(int)\n",
    "    df['airport_dest_per_month'] = df.groupby(['Dest', 'Month'])['Dest'].transform('count')\n",
    "    df['airport_origin_per_month'] = df.groupby(['Origin', 'Month'])['Origin'].transform('count')\n",
    "    df['airport_dest_count'] = df.groupby(['Dest'])['Dest'].transform('count')\n",
    "    df['airport_origin_count'] = df.groupby(['Origin'])['Origin'].transform('count')\n",
    "    df['carrier_count'] = df.groupby(['UniqueCarrier'])['Dest'].transform('count')\n",
    "    df['carrier_count_per month'] = df.groupby(['UniqueCarrier', 'Month'])['Dest'].transform('count')\n",
    "    df['deptime_cos'] = df['DepTime'].map(make_harmonic_features_cos)\n",
    "    df['deptime_sin'] = df['DepTime'].map(make_harmonic_features_sin)\n",
    "    df['flightUC'] = df['flight']+df['UniqueCarrier']\n",
    "    df['DestUC'] = df['Dest']+df['UniqueCarrier']\n",
    "    df['OriginUC'] = df['Origin']+df['UniqueCarrier']\n",
    "    return df.drop('DepTime', axis=1)"
   ]
  },
  {
   "cell_type": "markdown",
   "metadata": {
    "colab_type": "text",
    "id": "-BYbxXpU-FGE"
   },
   "source": [
    "Concatenate the training and testing dataframes.\n"
   ]
  },
  {
   "cell_type": "code",
   "execution_count": 21,
   "metadata": {
    "colab": {},
    "colab_type": "code",
    "id": "Cj6bfSNw_RAf"
   },
   "outputs": [],
   "source": [
    "full_df = pd.concat([train_df.drop('dep_delayed_15min', axis=1), test_df])\n",
    "full_df = feature_eng(full_df)"
   ]
  },
  {
   "cell_type": "markdown",
   "metadata": {
    "colab_type": "text",
    "id": "GSO8JbfM_W-F"
   },
   "source": [
    "Apply the earlier defined feature engineering functions to the full dataframe."
   ]
  },
  {
   "cell_type": "code",
   "execution_count": 22,
   "metadata": {
    "colab": {},
    "colab_type": "code",
    "id": "x6RfAINftjwi"
   },
   "outputs": [],
   "source": [
    "for column in ['UniqueCarrier', 'Origin', 'Dest','flight',  'flightUC', 'DestUC', 'OriginUC']:\n",
    "    full_df[column] = label_enc(full_df[column])"
   ]
  },
  {
   "cell_type": "code",
   "execution_count": 23,
   "metadata": {},
   "outputs": [
    {
     "data": {
      "text/html": [
       "<div>\n",
       "<style scoped>\n",
       "    .dataframe tbody tr th:only-of-type {\n",
       "        vertical-align: middle;\n",
       "    }\n",
       "\n",
       "    .dataframe tbody tr th {\n",
       "        vertical-align: top;\n",
       "    }\n",
       "\n",
       "    .dataframe thead th {\n",
       "        text-align: right;\n",
       "    }\n",
       "</style>\n",
       "<table border=\"1\" class=\"dataframe\">\n",
       "  <thead>\n",
       "    <tr style=\"text-align: right;\">\n",
       "      <th></th>\n",
       "      <th>Month</th>\n",
       "      <th>DayofMonth</th>\n",
       "      <th>DayOfWeek</th>\n",
       "      <th>UniqueCarrier</th>\n",
       "      <th>Origin</th>\n",
       "      <th>Dest</th>\n",
       "      <th>Distance</th>\n",
       "      <th>flight</th>\n",
       "      <th>begin_of_month</th>\n",
       "      <th>midddle_of_month</th>\n",
       "      <th>...</th>\n",
       "      <th>airport_origin_per_month</th>\n",
       "      <th>airport_dest_count</th>\n",
       "      <th>airport_origin_count</th>\n",
       "      <th>carrier_count</th>\n",
       "      <th>carrier_count_per month</th>\n",
       "      <th>deptime_cos</th>\n",
       "      <th>deptime_sin</th>\n",
       "      <th>flightUC</th>\n",
       "      <th>DestUC</th>\n",
       "      <th>OriginUC</th>\n",
       "    </tr>\n",
       "  </thead>\n",
       "  <tbody>\n",
       "    <tr>\n",
       "      <th>0</th>\n",
       "      <td>8</td>\n",
       "      <td>21</td>\n",
       "      <td>7</td>\n",
       "      <td>1</td>\n",
       "      <td>19</td>\n",
       "      <td>82</td>\n",
       "      <td>732</td>\n",
       "      <td>171</td>\n",
       "      <td>0</td>\n",
       "      <td>0</td>\n",
       "      <td>...</td>\n",
       "      <td>1019</td>\n",
       "      <td>8290</td>\n",
       "      <td>11387</td>\n",
       "      <td>18024</td>\n",
       "      <td>1569</td>\n",
       "      <td>0.343660</td>\n",
       "      <td>-0.939094</td>\n",
       "      <td>265</td>\n",
       "      <td>494</td>\n",
       "      <td>67</td>\n",
       "    </tr>\n",
       "    <tr>\n",
       "      <th>1</th>\n",
       "      <td>4</td>\n",
       "      <td>20</td>\n",
       "      <td>3</td>\n",
       "      <td>19</td>\n",
       "      <td>226</td>\n",
       "      <td>180</td>\n",
       "      <td>834</td>\n",
       "      <td>3986</td>\n",
       "      <td>0</td>\n",
       "      <td>0</td>\n",
       "      <td>...</td>\n",
       "      <td>105</td>\n",
       "      <td>3523</td>\n",
       "      <td>1390</td>\n",
       "      <td>13069</td>\n",
       "      <td>1094</td>\n",
       "      <td>-0.612907</td>\n",
       "      <td>-0.790155</td>\n",
       "      <td>6907</td>\n",
       "      <td>1085</td>\n",
       "      <td>1441</td>\n",
       "    </tr>\n",
       "    <tr>\n",
       "      <th>2</th>\n",
       "      <td>9</td>\n",
       "      <td>2</td>\n",
       "      <td>5</td>\n",
       "      <td>21</td>\n",
       "      <td>239</td>\n",
       "      <td>62</td>\n",
       "      <td>416</td>\n",
       "      <td>4091</td>\n",
       "      <td>1</td>\n",
       "      <td>0</td>\n",
       "      <td>...</td>\n",
       "      <td>136</td>\n",
       "      <td>2247</td>\n",
       "      <td>1747</td>\n",
       "      <td>11737</td>\n",
       "      <td>977</td>\n",
       "      <td>-0.835807</td>\n",
       "      <td>-0.549023</td>\n",
       "      <td>7064</td>\n",
       "      <td>359</td>\n",
       "      <td>1518</td>\n",
       "    </tr>\n",
       "    <tr>\n",
       "      <th>3</th>\n",
       "      <td>11</td>\n",
       "      <td>25</td>\n",
       "      <td>6</td>\n",
       "      <td>16</td>\n",
       "      <td>81</td>\n",
       "      <td>184</td>\n",
       "      <td>872</td>\n",
       "      <td>1304</td>\n",
       "      <td>0</td>\n",
       "      <td>0</td>\n",
       "      <td>...</td>\n",
       "      <td>514</td>\n",
       "      <td>1785</td>\n",
       "      <td>6222</td>\n",
       "      <td>15343</td>\n",
       "      <td>1242</td>\n",
       "      <td>-0.884988</td>\n",
       "      <td>0.465615</td>\n",
       "      <td>2258</td>\n",
       "      <td>1122</td>\n",
       "      <td>484</td>\n",
       "    </tr>\n",
       "    <tr>\n",
       "      <th>4</th>\n",
       "      <td>10</td>\n",
       "      <td>7</td>\n",
       "      <td>6</td>\n",
       "      <td>20</td>\n",
       "      <td>182</td>\n",
       "      <td>210</td>\n",
       "      <td>423</td>\n",
       "      <td>2979</td>\n",
       "      <td>1</td>\n",
       "      <td>0</td>\n",
       "      <td>...</td>\n",
       "      <td>226</td>\n",
       "      <td>687</td>\n",
       "      <td>2571</td>\n",
       "      <td>30958</td>\n",
       "      <td>2674</td>\n",
       "      <td>0.073238</td>\n",
       "      <td>-0.997314</td>\n",
       "      <td>5144</td>\n",
       "      <td>1313</td>\n",
       "      <td>1103</td>\n",
       "    </tr>\n",
       "  </tbody>\n",
       "</table>\n",
       "<p>5 rows × 33 columns</p>\n",
       "</div>"
      ],
      "text/plain": [
       "   Month  DayofMonth  DayOfWeek  UniqueCarrier  Origin  Dest  Distance  \\\n",
       "0      8          21          7              1      19    82       732   \n",
       "1      4          20          3             19     226   180       834   \n",
       "2      9           2          5             21     239    62       416   \n",
       "3     11          25          6             16      81   184       872   \n",
       "4     10           7          6             20     182   210       423   \n",
       "\n",
       "   flight  begin_of_month  midddle_of_month  ...  airport_origin_per_month  \\\n",
       "0     171               0                 0  ...                      1019   \n",
       "1    3986               0                 0  ...                       105   \n",
       "2    4091               1                 0  ...                       136   \n",
       "3    1304               0                 0  ...                       514   \n",
       "4    2979               1                 0  ...                       226   \n",
       "\n",
       "   airport_dest_count  airport_origin_count  carrier_count  \\\n",
       "0                8290                 11387          18024   \n",
       "1                3523                  1390          13069   \n",
       "2                2247                  1747          11737   \n",
       "3                1785                  6222          15343   \n",
       "4                 687                  2571          30958   \n",
       "\n",
       "   carrier_count_per month  deptime_cos  deptime_sin  flightUC  DestUC  \\\n",
       "0                     1569     0.343660    -0.939094       265     494   \n",
       "1                     1094    -0.612907    -0.790155      6907    1085   \n",
       "2                      977    -0.835807    -0.549023      7064     359   \n",
       "3                     1242    -0.884988     0.465615      2258    1122   \n",
       "4                     2674     0.073238    -0.997314      5144    1313   \n",
       "\n",
       "   OriginUC  \n",
       "0        67  \n",
       "1      1441  \n",
       "2      1518  \n",
       "3       484  \n",
       "4      1103  \n",
       "\n",
       "[5 rows x 33 columns]"
      ]
     },
     "execution_count": 23,
     "metadata": {},
     "output_type": "execute_result"
    }
   ],
   "source": [
    "full_df.head()"
   ]
  },
  {
   "cell_type": "markdown",
   "metadata": {
    "colab_type": "text",
    "id": "IJAw1RGB_ZuM"
   },
   "source": [
    "\n",
    "Split the new full dataframe into X_train and X_test. "
   ]
  },
  {
   "cell_type": "code",
   "execution_count": 27,
   "metadata": {
    "colab": {},
    "colab_type": "code",
    "id": "15cPtQU5tjfz"
   },
   "outputs": [],
   "source": [
    "# Here I am doing slightly different\n",
    "# I am going to split the train data into train and test data (80-20) as I want to validate the model prediction at the end.\n",
    "from sklearn.model_selection import train_test_split \n",
    "X = full_df[:train_df.shape[0]]\n",
    "X_train, X_test, y_train, y_test = train_test_split(X, y, test_size=0.2)\n",
    "\n",
    "# X_new_data will be treated as new data for prediction.\n",
    "X_new_data = full_df[train_df.shape[0]:]"
   ]
  },
  {
   "cell_type": "markdown",
   "metadata": {
    "colab_type": "text",
    "id": "umfAw-9JErLV"
   },
   "source": [
    "Create a list of the categorical features."
   ]
  },
  {
   "cell_type": "code",
   "execution_count": 28,
   "metadata": {
    "ExecuteTime": {
     "end_time": "2019-04-22T14:31:58.412296Z",
     "start_time": "2019-04-22T14:31:58.409088Z"
    },
    "colab": {},
    "colab_type": "code",
    "id": "5ibeVyNb-KZI"
   },
   "outputs": [],
   "source": [
    "categorical_features = ['Month',  'DayOfWeek', 'UniqueCarrier', 'Origin', 'Dest','flight',  'flightUC', 'DestUC', 'OriginUC']"
   ]
  },
  {
   "cell_type": "markdown",
   "metadata": {
    "colab_type": "text",
    "id": "NzMIsMPIETVk"
   },
   "source": [
    "Let's build a light GBM model to test the bayesian optimizer."
   ]
  },
  {
   "cell_type": "markdown",
   "metadata": {
    "ExecuteTime": {
     "end_time": "2019-04-22T15:18:04.466965Z",
     "start_time": "2019-04-22T15:18:04.457992Z"
    },
    "colab_type": "text",
    "id": "2hfm1i5G-KZH"
   },
   "source": [
    "### [LightGBM](https://lightgbm.readthedocs.io/en/latest/) is a gradient boosting framework that uses tree-based learning algorithms. It is designed to be distributed and efficient with the following advantages:\n",
    "\n",
    "* Faster training speed and higher efficiency.\n",
    "* Lower memory usage.\n",
    "* Better accuracy.\n",
    "* Support of parallel and GPU learning.\n",
    "* Capable of handling large-scale data."
   ]
  },
  {
   "cell_type": "markdown",
   "metadata": {
    "colab_type": "text",
    "id": "jf-3F2Wg-KZL"
   },
   "source": [
    "First, we define the function we want to maximize and that will count cross-validation metrics of lightGBM for our parameters.\n",
    "\n",
    "Some params such as num_leaves, max_depth, min_child_samples, min_data_in_leaf should be integers."
   ]
  },
  {
   "cell_type": "code",
   "execution_count": 29,
   "metadata": {
    "ExecuteTime": {
     "end_time": "2019-04-22T15:40:14.034265Z",
     "start_time": "2019-04-22T15:40:14.027868Z"
    },
    "colab": {},
    "colab_type": "code",
    "id": "LyUJBhGX-KZM"
   },
   "outputs": [],
   "source": [
    "def lgb_eval(num_leaves,max_depth,lambda_l2,lambda_l1,min_child_samples, min_data_in_leaf):\n",
    "    params = {\n",
    "        \"objective\" : \"binary\",\n",
    "        \"metric\" : \"auc\", \n",
    "        'is_unbalance': True,\n",
    "        \"num_leaves\" : int(num_leaves),\n",
    "        \"max_depth\" : int(max_depth),\n",
    "        \"lambda_l2\" : lambda_l2,\n",
    "        \"lambda_l1\" : lambda_l1,\n",
    "        \"num_threads\" : 20,\n",
    "        \"min_child_samples\" : int(min_child_samples),\n",
    "        'min_data_in_leaf': int(min_data_in_leaf),\n",
    "        \"learning_rate\" : 0.03,\n",
    "        \"subsample_freq\" : 5,\n",
    "        \"bagging_seed\" : 42,\n",
    "        \"verbosity\" : -1\n",
    "    }\n",
    "    \n",
    "    lgtrain = lightgbm.Dataset(X_train, y_train,categorical_feature=categorical_features)\n",
    "    cv_result = lightgbm.cv(params,\n",
    "                       lgtrain,\n",
    "                       1000,\n",
    "                       early_stopping_rounds=100,\n",
    "                       stratified=True,\n",
    "                       nfold=3)\n",
    "    return cv_result['auc-mean'][-1]"
   ]
  },
  {
   "cell_type": "markdown",
   "metadata": {
    "colab_type": "text",
    "id": "FJwqBhdeF11Q"
   },
   "source": [
    "Apply the Bayesian optimizer to the function we created in the previous step to identify the best hyperparameters. We will run 10 iterations and set init_points = 2.\n"
   ]
  },
  {
   "cell_type": "code",
   "execution_count": 30,
   "metadata": {
    "ExecuteTime": {
     "end_time": "2019-04-22T15:48:04.682447Z",
     "start_time": "2019-04-22T15:40:14.641634Z"
    },
    "colab": {
     "base_uri": "https://localhost:8080/",
     "height": 51
    },
    "colab_type": "code",
    "id": "JheCOkUE-KZP",
    "outputId": "8f37ee51-885d-44e4-cdcd-ceb7abd58b61"
   },
   "outputs": [
    {
     "name": "stdout",
     "output_type": "stream",
     "text": [
      "|   iter    |  target   | lambda_l1 | lambda_l2 | max_depth | min_ch... | min_da... | num_le... |\n",
      "-------------------------------------------------------------------------------------------------\n",
      "[LightGBM] [Warning] min_data_in_leaf is set=749, min_child_samples=7970 will be ignored. Current value: min_data_in_leaf=749\n",
      "| \u001b[0m 1       \u001b[0m | \u001b[0m 0.7241  \u001b[0m | \u001b[0m 0.02952 \u001b[0m | \u001b[0m 0.02767 \u001b[0m | \u001b[0m 54.41   \u001b[0m | \u001b[0m 7.971e+0\u001b[0m | \u001b[0m 749.9   \u001b[0m | \u001b[0m 3.58e+03\u001b[0m |\n",
      "| \u001b[95m 2       \u001b[0m | \u001b[95m 0.7412  \u001b[0m | \u001b[95m 0.04352 \u001b[0m | \u001b[95m 0.01444 \u001b[0m | \u001b[95m 45.38   \u001b[0m | \u001b[95m 8.689e+0\u001b[0m | \u001b[95m 1.416e+0\u001b[0m | \u001b[95m 2.342e+0\u001b[0m |\n",
      "| \u001b[0m 3       \u001b[0m | \u001b[0m 0.7409  \u001b[0m | \u001b[0m 0.03311 \u001b[0m | \u001b[0m 0.001371\u001b[0m | \u001b[0m 10.09   \u001b[0m | \u001b[0m 5.891e+0\u001b[0m | \u001b[0m 1.198e+0\u001b[0m | \u001b[0m 101.2   \u001b[0m |\n",
      "| \u001b[0m 4       \u001b[0m | \u001b[0m 0.7366  \u001b[0m | \u001b[0m 0.03456 \u001b[0m | \u001b[0m 0.007014\u001b[0m | \u001b[0m 37.38   \u001b[0m | \u001b[0m 3.015e+0\u001b[0m | \u001b[0m 1.009e+0\u001b[0m | \u001b[0m 1.158e+0\u001b[0m |\n",
      "| \u001b[0m 5       \u001b[0m | \u001b[0m 0.7412  \u001b[0m | \u001b[0m 0.004211\u001b[0m | \u001b[0m 0.01375 \u001b[0m | \u001b[0m 11.5    \u001b[0m | \u001b[0m 9.839e+0\u001b[0m | \u001b[0m 1.654e+0\u001b[0m | \u001b[0m 76.39   \u001b[0m |\n",
      "| \u001b[0m 6       \u001b[0m | \u001b[0m 0.7174  \u001b[0m | \u001b[0m 0.04667 \u001b[0m | \u001b[0m 0.01959 \u001b[0m | \u001b[0m 37.86   \u001b[0m | \u001b[0m 9.736e+0\u001b[0m | \u001b[0m 420.3   \u001b[0m | \u001b[0m 3.497e+0\u001b[0m |\n",
      "| \u001b[0m 7       \u001b[0m | \u001b[0m 0.741   \u001b[0m | \u001b[0m 0.02866 \u001b[0m | \u001b[0m 0.04766 \u001b[0m | \u001b[0m 57.28   \u001b[0m | \u001b[0m 6.819e+0\u001b[0m | \u001b[0m 1.592e+0\u001b[0m | \u001b[0m 3.995e+0\u001b[0m |\n",
      "| \u001b[0m 8       \u001b[0m | \u001b[0m 0.7334  \u001b[0m | \u001b[0m 0.00385 \u001b[0m | \u001b[0m 0.02882 \u001b[0m | \u001b[0m 36.75   \u001b[0m | \u001b[0m 1.36e+03\u001b[0m | \u001b[0m 963.3   \u001b[0m | \u001b[0m 3.439e+0\u001b[0m |\n",
      "| \u001b[0m 9       \u001b[0m | \u001b[0m 0.7191  \u001b[0m | \u001b[0m 0.03775 \u001b[0m | \u001b[0m 0.0072  \u001b[0m | \u001b[0m 6.599   \u001b[0m | \u001b[0m 3.832e+0\u001b[0m | \u001b[0m 457.4   \u001b[0m | \u001b[0m 3.276e+0\u001b[0m |\n",
      "| \u001b[0m 10      \u001b[0m | \u001b[0m 0.7298  \u001b[0m | \u001b[0m 0.02662 \u001b[0m | \u001b[0m 0.0387  \u001b[0m | \u001b[0m 61.9    \u001b[0m | \u001b[0m 8.017e+0\u001b[0m | \u001b[0m 934.8   \u001b[0m | \u001b[0m 2.144e+0\u001b[0m |\n",
      "| \u001b[0m 11      \u001b[0m | \u001b[0m 0.7404  \u001b[0m | \u001b[0m 0.0295  \u001b[0m | \u001b[0m 0.02544 \u001b[0m | \u001b[0m 13.71   \u001b[0m | \u001b[0m 5.887e+0\u001b[0m | \u001b[0m 1.189e+0\u001b[0m | \u001b[0m 94.92   \u001b[0m |\n",
      "| \u001b[0m 12      \u001b[0m | \u001b[0m 0.7399  \u001b[0m | \u001b[0m 0.03452 \u001b[0m | \u001b[0m 0.03514 \u001b[0m | \u001b[0m 5.017   \u001b[0m | \u001b[0m 6.133e+0\u001b[0m | \u001b[0m 1.417e+0\u001b[0m | \u001b[0m 328.7   \u001b[0m |\n",
      "=================================================================================================\n"
     ]
    }
   ],
   "source": [
    "lgbBO = BayesianOptimization(lgb_eval, {'num_leaves': (25, 4000),\n",
    "                                                'max_depth': (5, 63),\n",
    "                                                'lambda_l2': (0.0, 0.05),\n",
    "                                                'lambda_l1': (0.0, 0.05),\n",
    "                                                'min_child_samples': (50, 10000),\n",
    "                                                'min_data_in_leaf': (100, 2000)\n",
    "                                                })\n",
    "\n",
    "lgbBO.maximize(n_iter=10, init_points=2)"
   ]
  },
  {
   "cell_type": "markdown",
   "metadata": {
    "colab_type": "text",
    "id": "rdkxhhST-KZS"
   },
   "source": [
    " **<font color='teal'> Print the best result by using the '.max' function.</font>**"
   ]
  },
  {
   "cell_type": "code",
   "execution_count": 31,
   "metadata": {
    "ExecuteTime": {
     "end_time": "2019-04-22T15:49:01.513767Z",
     "start_time": "2019-04-22T15:49:01.509392Z"
    },
    "colab": {},
    "colab_type": "code",
    "id": "oc8z6mfy-KZS"
   },
   "outputs": [
    {
     "data": {
      "text/plain": [
       "{'target': 0.7411976889001995,\n",
       " 'params': {'lambda_l1': 0.043516670511739075,\n",
       "  'lambda_l2': 0.014437319843176906,\n",
       "  'max_depth': 45.379743468282015,\n",
       "  'min_child_samples': 8688.616754111028,\n",
       "  'min_data_in_leaf': 1415.5225399234257,\n",
       "  'num_leaves': 2341.7147368616425}}"
      ]
     },
     "execution_count": 31,
     "metadata": {},
     "output_type": "execute_result"
    }
   ],
   "source": [
    "lgbBO.max"
   ]
  },
  {
   "cell_type": "markdown",
   "metadata": {
    "ExecuteTime": {
     "end_time": "2019-04-22T15:50:29.049881Z",
     "start_time": "2019-04-22T15:50:29.045908Z"
    },
    "colab_type": "text",
    "id": "J5LAydKC-KZW"
   },
   "source": [
    "Review the process at each step by using the '.res[0]' function."
   ]
  },
  {
   "cell_type": "code",
   "execution_count": 32,
   "metadata": {
    "ExecuteTime": {
     "end_time": "2019-04-22T15:51:01.001688Z",
     "start_time": "2019-04-22T15:51:00.997484Z"
    },
    "colab": {},
    "colab_type": "code",
    "id": "X1ttZmrI-KZX"
   },
   "outputs": [
    {
     "data": {
      "text/plain": [
       "{'target': 0.7240916046523066,\n",
       " 'params': {'lambda_l1': 0.029515764911004796,\n",
       "  'lambda_l2': 0.02766726285818201,\n",
       "  'max_depth': 54.413107749497215,\n",
       "  'min_child_samples': 7970.813691495272,\n",
       "  'min_data_in_leaf': 749.8741740729363,\n",
       "  'num_leaves': 3579.7104920121665}}"
      ]
     },
     "execution_count": 32,
     "metadata": {},
     "output_type": "execute_result"
    }
   ],
   "source": [
    "lgbBO.res[0]"
   ]
  },
  {
   "cell_type": "code",
   "execution_count": 33,
   "metadata": {},
   "outputs": [
    {
     "name": "stdout",
     "output_type": "stream",
     "text": [
      "Iteration 0: {'target': 0.7240916046523066, 'params': {'lambda_l1': 0.029515764911004796, 'lambda_l2': 0.02766726285818201, 'max_depth': 54.413107749497215, 'min_child_samples': 7970.813691495272, 'min_data_in_leaf': 749.8741740729363, 'num_leaves': 3579.7104920121665}}\n",
      "Iteration 1: {'target': 0.7411976889001995, 'params': {'lambda_l1': 0.043516670511739075, 'lambda_l2': 0.014437319843176906, 'max_depth': 45.379743468282015, 'min_child_samples': 8688.616754111028, 'min_data_in_leaf': 1415.5225399234257, 'num_leaves': 2341.7147368616425}}\n",
      "Iteration 2: {'target': 0.740880369658031, 'params': {'lambda_l1': 0.03311366062386067, 'lambda_l2': 0.0013709359468449646, 'max_depth': 10.090345321383541, 'min_child_samples': 5890.524685977473, 'min_data_in_leaf': 1197.8425820846335, 'num_leaves': 101.2201890734425}}\n",
      "Iteration 3: {'target': 0.736567291965783, 'params': {'lambda_l1': 0.03456393722115821, 'lambda_l2': 0.007013752818841829, 'max_depth': 37.38492092681124, 'min_child_samples': 3014.6897325727236, 'min_data_in_leaf': 1008.7037292627934, 'num_leaves': 1158.1188428139255}}\n",
      "Iteration 4: {'target': 0.7411806605074088, 'params': {'lambda_l1': 0.0042112039516734034, 'lambda_l2': 0.013747431798547611, 'max_depth': 11.495194338325435, 'min_child_samples': 9839.401653227664, 'min_data_in_leaf': 1653.5296214939938, 'num_leaves': 76.39163344201634}}\n",
      "Iteration 5: {'target': 0.7173899912922064, 'params': {'lambda_l1': 0.04666897151526428, 'lambda_l2': 0.01958661221039746, 'max_depth': 37.856956274939215, 'min_child_samples': 9736.224765313003, 'min_data_in_leaf': 420.2836412393937, 'num_leaves': 3496.7577033536454}}\n",
      "Iteration 6: {'target': 0.7409863731843815, 'params': {'lambda_l1': 0.028660567244730345, 'lambda_l2': 0.047662218280889145, 'max_depth': 57.27882808930526, 'min_child_samples': 6819.350272354831, 'min_data_in_leaf': 1592.4063481038652, 'num_leaves': 3994.7799759849295}}\n",
      "Iteration 7: {'target': 0.7334004371198359, 'params': {'lambda_l1': 0.003849820344951921, 'lambda_l2': 0.02881707881449296, 'max_depth': 36.74665916078624, 'min_child_samples': 1360.4860064388345, 'min_data_in_leaf': 963.3160123243731, 'num_leaves': 3439.2372132393734}}\n",
      "Iteration 8: {'target': 0.7191446092267205, 'params': {'lambda_l1': 0.03775484715847847, 'lambda_l2': 0.007200168629629989, 'max_depth': 6.599168845325693, 'min_child_samples': 3832.461684868821, 'min_data_in_leaf': 457.3967134073643, 'num_leaves': 3276.1413212896796}}\n",
      "Iteration 9: {'target': 0.7297607102432359, 'params': {'lambda_l1': 0.026623810096563512, 'lambda_l2': 0.038697474631275375, 'max_depth': 61.900579413344694, 'min_child_samples': 8016.897500230381, 'min_data_in_leaf': 934.8037991146402, 'num_leaves': 2143.845433864045}}\n",
      "Iteration 10: {'target': 0.7403640492841769, 'params': {'lambda_l1': 0.029504577771803153, 'lambda_l2': 0.025440010720847922, 'max_depth': 13.707838733232022, 'min_child_samples': 5886.911592631089, 'min_data_in_leaf': 1188.999862871151, 'num_leaves': 94.9158476377289}}\n",
      "Iteration 11: {'target': 0.7399106271767483, 'params': {'lambda_l1': 0.034515899061728944, 'lambda_l2': 0.035143694401809616, 'max_depth': 5.017088984624363, 'min_child_samples': 6133.487518177829, 'min_data_in_leaf': 1416.6775695047145, 'num_leaves': 328.72867527709343}}\n"
     ]
    }
   ],
   "source": [
    "for i, res in enumerate(lgbBO.res):\n",
    "    print(f\"Iteration {i}: {res}\")"
   ]
  },
  {
   "cell_type": "markdown",
   "metadata": {},
   "source": [
    " **<font color='blue'> We have found the best parameters to build the lightgbm model and validate this model.</font>** "
   ]
  },
  {
   "cell_type": "code",
   "execution_count": null,
   "metadata": {},
   "outputs": [],
   "source": [
    "\"\"\"\n",
    "params_best = {'lambda_l1': 0.04004375499942154,\n",
    "  'lambda_l2': 0.041926349836274926,\n",
    "  'max_depth': 8.73693227724382,\n",
    "  'min_child_samples': 1617.6790354016596,\n",
    "  'min_data_in_leaf': 1074.7976139025418,\n",
    "  'num_leaves': 1475.6787104691377,\n",
    "  \"objective\" : \"binary\",\n",
    "  \"metric\" : \"auc\", \n",
    "  'is_unbalance': True,\n",
    "  \"num_threads\" : 20,\n",
    "  \"learning_rate\" : 0.03,\n",
    "  \"subsample_freq\" : 5,\n",
    "  \"bagging_seed\" : 42,\n",
    "  \"verbosity\" : -1}\n",
    "\n",
    "\"\"\""
   ]
  },
  {
   "cell_type": "code",
   "execution_count": 48,
   "metadata": {},
   "outputs": [],
   "source": [
    "# Set the parameters for lightgbm with the best parameters from Bayesian Optimization\n",
    "params_best = {'lambda_l1': 0.043516670511739075,\n",
    "  'lambda_l2': 0.014437319843176906,\n",
    "  'max_depth': 45,\n",
    "  'min_child_samples': 8688.616754111028,\n",
    "  'min_data_in_leaf': 1415,\n",
    "  'num_leaves': 2342,\n",
    "  \"objective\" : \"binary\",\n",
    "  \"metric\" : \"auc\", \n",
    "  'is_unbalance': True,\n",
    "  \"num_threads\" : 20,\n",
    "  \"learning_rate\" : 0.03,\n",
    "  \"subsample_freq\" : 5,\n",
    "  \"bagging_seed\" : 42,\n",
    "  \"verbosity\" : -1}"
   ]
  },
  {
   "cell_type": "code",
   "execution_count": 49,
   "metadata": {},
   "outputs": [],
   "source": [
    "lgb_train = lightgbm.Dataset(X_train, y_train,categorical_feature=categorical_features)\n",
    "lgb_test = lightgbm.Dataset(X_test, label=y_test)"
   ]
  },
  {
   "cell_type": "code",
   "execution_count": 50,
   "metadata": {},
   "outputs": [
    {
     "name": "stdout",
     "output_type": "stream",
     "text": [
      "[1]\tvalid_0's auc: 0.704159\n",
      "Training until validation scores don't improve for 100 rounds\n",
      "[2]\tvalid_0's auc: 0.708488\n",
      "[3]\tvalid_0's auc: 0.711678\n",
      "[4]\tvalid_0's auc: 0.712127\n",
      "[5]\tvalid_0's auc: 0.714345\n",
      "[6]\tvalid_0's auc: 0.715357\n",
      "[7]\tvalid_0's auc: 0.716001\n",
      "[8]\tvalid_0's auc: 0.716538\n",
      "[9]\tvalid_0's auc: 0.717005\n",
      "[10]\tvalid_0's auc: 0.718061\n",
      "[11]\tvalid_0's auc: 0.718471\n",
      "[12]\tvalid_0's auc: 0.719105\n",
      "[13]\tvalid_0's auc: 0.719415\n",
      "[14]\tvalid_0's auc: 0.719967\n",
      "[15]\tvalid_0's auc: 0.720297\n",
      "[16]\tvalid_0's auc: 0.720727\n",
      "[17]\tvalid_0's auc: 0.721036\n",
      "[18]\tvalid_0's auc: 0.721716\n",
      "[19]\tvalid_0's auc: 0.721891\n",
      "[20]\tvalid_0's auc: 0.721822\n",
      "[21]\tvalid_0's auc: 0.722085\n",
      "[22]\tvalid_0's auc: 0.722618\n",
      "[23]\tvalid_0's auc: 0.722594\n",
      "[24]\tvalid_0's auc: 0.72287\n",
      "[25]\tvalid_0's auc: 0.723068\n",
      "[26]\tvalid_0's auc: 0.723395\n",
      "[27]\tvalid_0's auc: 0.723674\n",
      "[28]\tvalid_0's auc: 0.723645\n",
      "[29]\tvalid_0's auc: 0.723766\n",
      "[30]\tvalid_0's auc: 0.723993\n",
      "[31]\tvalid_0's auc: 0.724073\n",
      "[32]\tvalid_0's auc: 0.72435\n",
      "[33]\tvalid_0's auc: 0.724495\n",
      "[34]\tvalid_0's auc: 0.724321\n",
      "[35]\tvalid_0's auc: 0.7245\n",
      "[36]\tvalid_0's auc: 0.724533\n",
      "[37]\tvalid_0's auc: 0.724738\n",
      "[38]\tvalid_0's auc: 0.724831\n",
      "[39]\tvalid_0's auc: 0.724898\n",
      "[40]\tvalid_0's auc: 0.725104\n",
      "[41]\tvalid_0's auc: 0.725101\n",
      "[42]\tvalid_0's auc: 0.72523\n",
      "[43]\tvalid_0's auc: 0.725201\n",
      "[44]\tvalid_0's auc: 0.725253\n",
      "[45]\tvalid_0's auc: 0.725293\n",
      "[46]\tvalid_0's auc: 0.72546\n",
      "[47]\tvalid_0's auc: 0.725485\n",
      "[48]\tvalid_0's auc: 0.725593\n",
      "[49]\tvalid_0's auc: 0.725563\n",
      "[50]\tvalid_0's auc: 0.725602\n",
      "[51]\tvalid_0's auc: 0.725591\n",
      "[52]\tvalid_0's auc: 0.725826\n",
      "[53]\tvalid_0's auc: 0.725854\n",
      "[54]\tvalid_0's auc: 0.725778\n",
      "[55]\tvalid_0's auc: 0.725658\n",
      "[56]\tvalid_0's auc: 0.725778\n",
      "[57]\tvalid_0's auc: 0.725866\n",
      "[58]\tvalid_0's auc: 0.72592\n",
      "[59]\tvalid_0's auc: 0.726037\n",
      "[60]\tvalid_0's auc: 0.726203\n",
      "[61]\tvalid_0's auc: 0.726329\n",
      "[62]\tvalid_0's auc: 0.726396\n",
      "[63]\tvalid_0's auc: 0.726432\n",
      "[64]\tvalid_0's auc: 0.726498\n",
      "[65]\tvalid_0's auc: 0.726541\n",
      "[66]\tvalid_0's auc: 0.726634\n",
      "[67]\tvalid_0's auc: 0.726763\n",
      "[68]\tvalid_0's auc: 0.726727\n",
      "[69]\tvalid_0's auc: 0.726764\n",
      "[70]\tvalid_0's auc: 0.726823\n",
      "[71]\tvalid_0's auc: 0.726856\n",
      "[72]\tvalid_0's auc: 0.726916\n",
      "[73]\tvalid_0's auc: 0.726977\n",
      "[74]\tvalid_0's auc: 0.726965\n",
      "[75]\tvalid_0's auc: 0.727023\n",
      "[76]\tvalid_0's auc: 0.727146\n",
      "[77]\tvalid_0's auc: 0.727106\n",
      "[78]\tvalid_0's auc: 0.7272\n",
      "[79]\tvalid_0's auc: 0.727292\n",
      "[80]\tvalid_0's auc: 0.72728\n",
      "[81]\tvalid_0's auc: 0.72731\n",
      "[82]\tvalid_0's auc: 0.727597\n",
      "[83]\tvalid_0's auc: 0.727504\n",
      "[84]\tvalid_0's auc: 0.727533\n",
      "[85]\tvalid_0's auc: 0.727764\n",
      "[86]\tvalid_0's auc: 0.727757\n",
      "[87]\tvalid_0's auc: 0.727836\n",
      "[88]\tvalid_0's auc: 0.727831\n",
      "[89]\tvalid_0's auc: 0.72784\n",
      "[90]\tvalid_0's auc: 0.727917\n",
      "[91]\tvalid_0's auc: 0.728059\n",
      "[92]\tvalid_0's auc: 0.728014\n",
      "[93]\tvalid_0's auc: 0.728082\n",
      "[94]\tvalid_0's auc: 0.728033\n",
      "[95]\tvalid_0's auc: 0.728039\n",
      "[96]\tvalid_0's auc: 0.728114\n",
      "[97]\tvalid_0's auc: 0.72819\n",
      "[98]\tvalid_0's auc: 0.728185\n",
      "[99]\tvalid_0's auc: 0.728368\n",
      "[100]\tvalid_0's auc: 0.72856\n",
      "[101]\tvalid_0's auc: 0.728704\n",
      "[102]\tvalid_0's auc: 0.728888\n",
      "[103]\tvalid_0's auc: 0.729057\n",
      "[104]\tvalid_0's auc: 0.729156\n",
      "[105]\tvalid_0's auc: 0.729385\n",
      "[106]\tvalid_0's auc: 0.729464\n",
      "[107]\tvalid_0's auc: 0.729814\n",
      "[108]\tvalid_0's auc: 0.729934\n",
      "[109]\tvalid_0's auc: 0.730148\n",
      "[110]\tvalid_0's auc: 0.73019\n",
      "[111]\tvalid_0's auc: 0.73032\n",
      "[112]\tvalid_0's auc: 0.730513\n",
      "[113]\tvalid_0's auc: 0.730706\n",
      "[114]\tvalid_0's auc: 0.73079\n",
      "[115]\tvalid_0's auc: 0.730909\n",
      "[116]\tvalid_0's auc: 0.731097\n",
      "[117]\tvalid_0's auc: 0.731201\n",
      "[118]\tvalid_0's auc: 0.731322\n",
      "[119]\tvalid_0's auc: 0.731435\n",
      "[120]\tvalid_0's auc: 0.731554\n",
      "[121]\tvalid_0's auc: 0.731778\n",
      "[122]\tvalid_0's auc: 0.731885\n",
      "[123]\tvalid_0's auc: 0.732013\n",
      "[124]\tvalid_0's auc: 0.732123\n",
      "[125]\tvalid_0's auc: 0.732196\n",
      "[126]\tvalid_0's auc: 0.732314\n",
      "[127]\tvalid_0's auc: 0.732521\n",
      "[128]\tvalid_0's auc: 0.732612\n",
      "[129]\tvalid_0's auc: 0.732666\n",
      "[130]\tvalid_0's auc: 0.732872\n",
      "[131]\tvalid_0's auc: 0.733164\n",
      "[132]\tvalid_0's auc: 0.733203\n",
      "[133]\tvalid_0's auc: 0.733478\n",
      "[134]\tvalid_0's auc: 0.733597\n",
      "[135]\tvalid_0's auc: 0.733685\n",
      "[136]\tvalid_0's auc: 0.7338\n",
      "[137]\tvalid_0's auc: 0.733834\n",
      "[138]\tvalid_0's auc: 0.733818\n",
      "[139]\tvalid_0's auc: 0.73392\n",
      "[140]\tvalid_0's auc: 0.73407\n",
      "[141]\tvalid_0's auc: 0.734146\n",
      "[142]\tvalid_0's auc: 0.734321\n",
      "[143]\tvalid_0's auc: 0.734357\n",
      "[144]\tvalid_0's auc: 0.734559\n",
      "[145]\tvalid_0's auc: 0.734707\n",
      "[146]\tvalid_0's auc: 0.734792\n",
      "[147]\tvalid_0's auc: 0.734982\n",
      "[148]\tvalid_0's auc: 0.735046\n",
      "[149]\tvalid_0's auc: 0.735137\n",
      "[150]\tvalid_0's auc: 0.735246\n",
      "[151]\tvalid_0's auc: 0.735356\n",
      "[152]\tvalid_0's auc: 0.735457\n",
      "[153]\tvalid_0's auc: 0.735554\n",
      "[154]\tvalid_0's auc: 0.735627\n",
      "[155]\tvalid_0's auc: 0.735729\n",
      "[156]\tvalid_0's auc: 0.735814\n",
      "[157]\tvalid_0's auc: 0.7359\n",
      "[158]\tvalid_0's auc: 0.735983\n",
      "[159]\tvalid_0's auc: 0.735998\n",
      "[160]\tvalid_0's auc: 0.736097\n",
      "[161]\tvalid_0's auc: 0.736173\n",
      "[162]\tvalid_0's auc: 0.736204\n",
      "[163]\tvalid_0's auc: 0.736296\n",
      "[164]\tvalid_0's auc: 0.736374\n",
      "[165]\tvalid_0's auc: 0.736394\n",
      "[166]\tvalid_0's auc: 0.736532\n",
      "[167]\tvalid_0's auc: 0.73661\n",
      "[168]\tvalid_0's auc: 0.736721\n",
      "[169]\tvalid_0's auc: 0.736833\n",
      "[170]\tvalid_0's auc: 0.736921\n",
      "[171]\tvalid_0's auc: 0.737004\n",
      "[172]\tvalid_0's auc: 0.737126\n",
      "[173]\tvalid_0's auc: 0.737197\n",
      "[174]\tvalid_0's auc: 0.737234\n",
      "[175]\tvalid_0's auc: 0.737326\n",
      "[176]\tvalid_0's auc: 0.737381\n",
      "[177]\tvalid_0's auc: 0.737507\n",
      "[178]\tvalid_0's auc: 0.737535\n",
      "[179]\tvalid_0's auc: 0.737651\n",
      "[180]\tvalid_0's auc: 0.737711\n",
      "[181]\tvalid_0's auc: 0.737783\n",
      "[182]\tvalid_0's auc: 0.737928\n",
      "[183]\tvalid_0's auc: 0.737941\n",
      "[184]\tvalid_0's auc: 0.738013\n",
      "[185]\tvalid_0's auc: 0.738167\n",
      "[186]\tvalid_0's auc: 0.738174\n",
      "[187]\tvalid_0's auc: 0.738232\n",
      "[188]\tvalid_0's auc: 0.738271\n",
      "[189]\tvalid_0's auc: 0.738294\n",
      "[190]\tvalid_0's auc: 0.738314\n",
      "[191]\tvalid_0's auc: 0.738378\n",
      "[192]\tvalid_0's auc: 0.738434\n",
      "[193]\tvalid_0's auc: 0.738508\n",
      "[194]\tvalid_0's auc: 0.738531\n",
      "[195]\tvalid_0's auc: 0.738657\n",
      "[196]\tvalid_0's auc: 0.738701\n",
      "[197]\tvalid_0's auc: 0.738722\n",
      "[198]\tvalid_0's auc: 0.738873\n",
      "[199]\tvalid_0's auc: 0.73889\n",
      "[200]\tvalid_0's auc: 0.739042\n",
      "[201]\tvalid_0's auc: 0.739081\n",
      "[202]\tvalid_0's auc: 0.739151\n",
      "[203]\tvalid_0's auc: 0.73917\n",
      "[204]\tvalid_0's auc: 0.739276\n",
      "[205]\tvalid_0's auc: 0.73928\n",
      "[206]\tvalid_0's auc: 0.739335\n",
      "[207]\tvalid_0's auc: 0.739362\n",
      "[208]\tvalid_0's auc: 0.7395\n",
      "[209]\tvalid_0's auc: 0.739543\n",
      "[210]\tvalid_0's auc: 0.739659\n",
      "[211]\tvalid_0's auc: 0.739749\n",
      "[212]\tvalid_0's auc: 0.739843\n",
      "[213]\tvalid_0's auc: 0.739906\n",
      "[214]\tvalid_0's auc: 0.739964\n",
      "[215]\tvalid_0's auc: 0.740059\n",
      "[216]\tvalid_0's auc: 0.740195\n",
      "[217]\tvalid_0's auc: 0.740315\n",
      "[218]\tvalid_0's auc: 0.740321\n",
      "[219]\tvalid_0's auc: 0.740333\n",
      "[220]\tvalid_0's auc: 0.740405\n",
      "[221]\tvalid_0's auc: 0.740457\n",
      "[222]\tvalid_0's auc: 0.740494\n",
      "[223]\tvalid_0's auc: 0.740537\n",
      "[224]\tvalid_0's auc: 0.740569\n",
      "[225]\tvalid_0's auc: 0.740625\n",
      "[226]\tvalid_0's auc: 0.740682\n",
      "[227]\tvalid_0's auc: 0.740752\n",
      "[228]\tvalid_0's auc: 0.740787\n",
      "[229]\tvalid_0's auc: 0.740859\n",
      "[230]\tvalid_0's auc: 0.74091\n",
      "[231]\tvalid_0's auc: 0.740946\n",
      "[232]\tvalid_0's auc: 0.741008\n",
      "[233]\tvalid_0's auc: 0.741078\n",
      "[234]\tvalid_0's auc: 0.741135\n",
      "[235]\tvalid_0's auc: 0.74116\n",
      "[236]\tvalid_0's auc: 0.741209\n",
      "[237]\tvalid_0's auc: 0.741274\n",
      "[238]\tvalid_0's auc: 0.74132\n",
      "[239]\tvalid_0's auc: 0.741402\n",
      "[240]\tvalid_0's auc: 0.741431\n",
      "[241]\tvalid_0's auc: 0.741521\n",
      "[242]\tvalid_0's auc: 0.741558\n",
      "[243]\tvalid_0's auc: 0.741627\n",
      "[244]\tvalid_0's auc: 0.741636\n",
      "[245]\tvalid_0's auc: 0.741663\n",
      "[246]\tvalid_0's auc: 0.741713\n",
      "[247]\tvalid_0's auc: 0.741791\n",
      "[248]\tvalid_0's auc: 0.741839\n",
      "[249]\tvalid_0's auc: 0.741934\n",
      "[250]\tvalid_0's auc: 0.741997\n",
      "[251]\tvalid_0's auc: 0.742096\n",
      "[252]\tvalid_0's auc: 0.742106\n",
      "[253]\tvalid_0's auc: 0.742172\n",
      "[254]\tvalid_0's auc: 0.7422\n",
      "[255]\tvalid_0's auc: 0.742239\n",
      "[256]\tvalid_0's auc: 0.742258\n",
      "[257]\tvalid_0's auc: 0.742293\n",
      "[258]\tvalid_0's auc: 0.742329\n",
      "[259]\tvalid_0's auc: 0.742323\n",
      "[260]\tvalid_0's auc: 0.742332\n",
      "[261]\tvalid_0's auc: 0.742356\n",
      "[262]\tvalid_0's auc: 0.742386\n",
      "[263]\tvalid_0's auc: 0.742366\n",
      "[264]\tvalid_0's auc: 0.74239\n",
      "[265]\tvalid_0's auc: 0.742399\n",
      "[266]\tvalid_0's auc: 0.742386\n",
      "[267]\tvalid_0's auc: 0.742408\n",
      "[268]\tvalid_0's auc: 0.742472\n",
      "[269]\tvalid_0's auc: 0.74246\n",
      "[270]\tvalid_0's auc: 0.742498\n",
      "[271]\tvalid_0's auc: 0.742517\n",
      "[272]\tvalid_0's auc: 0.74254\n",
      "[273]\tvalid_0's auc: 0.742544\n",
      "[274]\tvalid_0's auc: 0.742553\n",
      "[275]\tvalid_0's auc: 0.742564\n",
      "[276]\tvalid_0's auc: 0.742575\n",
      "[277]\tvalid_0's auc: 0.742579\n",
      "[278]\tvalid_0's auc: 0.742576\n",
      "[279]\tvalid_0's auc: 0.742567\n",
      "[280]\tvalid_0's auc: 0.742616\n",
      "[281]\tvalid_0's auc: 0.742632\n",
      "[282]\tvalid_0's auc: 0.742636\n",
      "[283]\tvalid_0's auc: 0.742655\n",
      "[284]\tvalid_0's auc: 0.742694\n",
      "[285]\tvalid_0's auc: 0.742737\n",
      "[286]\tvalid_0's auc: 0.74277\n",
      "[287]\tvalid_0's auc: 0.742791\n",
      "[288]\tvalid_0's auc: 0.742821\n",
      "[289]\tvalid_0's auc: 0.742848\n",
      "[290]\tvalid_0's auc: 0.742844\n",
      "[291]\tvalid_0's auc: 0.742907\n",
      "[292]\tvalid_0's auc: 0.742917\n",
      "[293]\tvalid_0's auc: 0.742948\n",
      "[294]\tvalid_0's auc: 0.742988\n",
      "[295]\tvalid_0's auc: 0.74304\n",
      "[296]\tvalid_0's auc: 0.743053\n",
      "[297]\tvalid_0's auc: 0.743063\n"
     ]
    },
    {
     "name": "stdout",
     "output_type": "stream",
     "text": [
      "[298]\tvalid_0's auc: 0.743081\n",
      "[299]\tvalid_0's auc: 0.743099\n",
      "[300]\tvalid_0's auc: 0.743137\n",
      "[301]\tvalid_0's auc: 0.743164\n",
      "[302]\tvalid_0's auc: 0.743165\n",
      "[303]\tvalid_0's auc: 0.743215\n",
      "[304]\tvalid_0's auc: 0.743232\n",
      "[305]\tvalid_0's auc: 0.743244\n",
      "[306]\tvalid_0's auc: 0.743234\n",
      "[307]\tvalid_0's auc: 0.743234\n",
      "[308]\tvalid_0's auc: 0.743221\n",
      "[309]\tvalid_0's auc: 0.743239\n",
      "[310]\tvalid_0's auc: 0.743295\n",
      "[311]\tvalid_0's auc: 0.743319\n",
      "[312]\tvalid_0's auc: 0.743331\n",
      "[313]\tvalid_0's auc: 0.743354\n",
      "[314]\tvalid_0's auc: 0.743392\n",
      "[315]\tvalid_0's auc: 0.74344\n",
      "[316]\tvalid_0's auc: 0.743483\n",
      "[317]\tvalid_0's auc: 0.743533\n",
      "[318]\tvalid_0's auc: 0.743514\n",
      "[319]\tvalid_0's auc: 0.74358\n",
      "[320]\tvalid_0's auc: 0.743618\n",
      "[321]\tvalid_0's auc: 0.743667\n",
      "[322]\tvalid_0's auc: 0.743692\n",
      "[323]\tvalid_0's auc: 0.743706\n",
      "[324]\tvalid_0's auc: 0.743719\n",
      "[325]\tvalid_0's auc: 0.743741\n",
      "[326]\tvalid_0's auc: 0.743759\n",
      "[327]\tvalid_0's auc: 0.74377\n",
      "[328]\tvalid_0's auc: 0.743788\n",
      "[329]\tvalid_0's auc: 0.743805\n",
      "[330]\tvalid_0's auc: 0.743822\n",
      "[331]\tvalid_0's auc: 0.743826\n",
      "[332]\tvalid_0's auc: 0.743853\n",
      "[333]\tvalid_0's auc: 0.743848\n",
      "[334]\tvalid_0's auc: 0.743874\n",
      "[335]\tvalid_0's auc: 0.743915\n",
      "[336]\tvalid_0's auc: 0.743906\n",
      "[337]\tvalid_0's auc: 0.743925\n",
      "[338]\tvalid_0's auc: 0.743969\n",
      "[339]\tvalid_0's auc: 0.743981\n",
      "[340]\tvalid_0's auc: 0.744002\n",
      "[341]\tvalid_0's auc: 0.744008\n",
      "[342]\tvalid_0's auc: 0.744041\n",
      "[343]\tvalid_0's auc: 0.744043\n",
      "[344]\tvalid_0's auc: 0.744054\n",
      "[345]\tvalid_0's auc: 0.744087\n",
      "[346]\tvalid_0's auc: 0.744105\n",
      "[347]\tvalid_0's auc: 0.744146\n",
      "[348]\tvalid_0's auc: 0.744152\n",
      "[349]\tvalid_0's auc: 0.744178\n",
      "[350]\tvalid_0's auc: 0.744185\n",
      "[351]\tvalid_0's auc: 0.744221\n",
      "[352]\tvalid_0's auc: 0.744249\n",
      "[353]\tvalid_0's auc: 0.744286\n",
      "[354]\tvalid_0's auc: 0.744323\n",
      "[355]\tvalid_0's auc: 0.744344\n",
      "[356]\tvalid_0's auc: 0.744371\n",
      "[357]\tvalid_0's auc: 0.744381\n",
      "[358]\tvalid_0's auc: 0.744415\n",
      "[359]\tvalid_0's auc: 0.744449\n",
      "[360]\tvalid_0's auc: 0.744463\n",
      "[361]\tvalid_0's auc: 0.744512\n",
      "[362]\tvalid_0's auc: 0.744526\n",
      "[363]\tvalid_0's auc: 0.744511\n",
      "[364]\tvalid_0's auc: 0.744542\n",
      "[365]\tvalid_0's auc: 0.744566\n",
      "[366]\tvalid_0's auc: 0.744552\n",
      "[367]\tvalid_0's auc: 0.744578\n",
      "[368]\tvalid_0's auc: 0.744608\n",
      "[369]\tvalid_0's auc: 0.744603\n",
      "[370]\tvalid_0's auc: 0.744587\n",
      "[371]\tvalid_0's auc: 0.744635\n",
      "[372]\tvalid_0's auc: 0.744631\n",
      "[373]\tvalid_0's auc: 0.744636\n",
      "[374]\tvalid_0's auc: 0.744645\n",
      "[375]\tvalid_0's auc: 0.744621\n",
      "[376]\tvalid_0's auc: 0.744641\n",
      "[377]\tvalid_0's auc: 0.744667\n",
      "[378]\tvalid_0's auc: 0.744664\n",
      "[379]\tvalid_0's auc: 0.744685\n",
      "[380]\tvalid_0's auc: 0.744698\n",
      "[381]\tvalid_0's auc: 0.744686\n",
      "[382]\tvalid_0's auc: 0.744679\n",
      "[383]\tvalid_0's auc: 0.744696\n",
      "[384]\tvalid_0's auc: 0.744729\n",
      "[385]\tvalid_0's auc: 0.744696\n",
      "[386]\tvalid_0's auc: 0.744739\n",
      "[387]\tvalid_0's auc: 0.74473\n",
      "[388]\tvalid_0's auc: 0.744736\n",
      "[389]\tvalid_0's auc: 0.744759\n",
      "[390]\tvalid_0's auc: 0.744818\n",
      "[391]\tvalid_0's auc: 0.744803\n",
      "[392]\tvalid_0's auc: 0.744855\n",
      "[393]\tvalid_0's auc: 0.744855\n",
      "[394]\tvalid_0's auc: 0.744883\n",
      "[395]\tvalid_0's auc: 0.744925\n",
      "[396]\tvalid_0's auc: 0.744938\n",
      "[397]\tvalid_0's auc: 0.74493\n",
      "[398]\tvalid_0's auc: 0.74494\n",
      "[399]\tvalid_0's auc: 0.744952\n",
      "[400]\tvalid_0's auc: 0.744995\n",
      "[401]\tvalid_0's auc: 0.745019\n",
      "[402]\tvalid_0's auc: 0.745036\n",
      "[403]\tvalid_0's auc: 0.745107\n",
      "[404]\tvalid_0's auc: 0.745094\n",
      "[405]\tvalid_0's auc: 0.745091\n",
      "[406]\tvalid_0's auc: 0.745119\n",
      "[407]\tvalid_0's auc: 0.745153\n",
      "[408]\tvalid_0's auc: 0.745174\n",
      "[409]\tvalid_0's auc: 0.745208\n",
      "[410]\tvalid_0's auc: 0.745205\n",
      "[411]\tvalid_0's auc: 0.745182\n",
      "[412]\tvalid_0's auc: 0.745209\n",
      "[413]\tvalid_0's auc: 0.745239\n",
      "[414]\tvalid_0's auc: 0.745237\n",
      "[415]\tvalid_0's auc: 0.74526\n",
      "[416]\tvalid_0's auc: 0.745272\n",
      "[417]\tvalid_0's auc: 0.745285\n",
      "[418]\tvalid_0's auc: 0.745275\n",
      "[419]\tvalid_0's auc: 0.745279\n",
      "[420]\tvalid_0's auc: 0.745302\n",
      "[421]\tvalid_0's auc: 0.745309\n",
      "[422]\tvalid_0's auc: 0.74532\n",
      "[423]\tvalid_0's auc: 0.745358\n",
      "[424]\tvalid_0's auc: 0.745359\n",
      "[425]\tvalid_0's auc: 0.745377\n",
      "[426]\tvalid_0's auc: 0.745388\n",
      "[427]\tvalid_0's auc: 0.745383\n",
      "[428]\tvalid_0's auc: 0.745372\n",
      "[429]\tvalid_0's auc: 0.745382\n",
      "[430]\tvalid_0's auc: 0.745389\n",
      "[431]\tvalid_0's auc: 0.745416\n",
      "[432]\tvalid_0's auc: 0.745403\n",
      "[433]\tvalid_0's auc: 0.745429\n",
      "[434]\tvalid_0's auc: 0.745423\n",
      "[435]\tvalid_0's auc: 0.745447\n",
      "[436]\tvalid_0's auc: 0.74542\n",
      "[437]\tvalid_0's auc: 0.745412\n",
      "[438]\tvalid_0's auc: 0.74545\n",
      "[439]\tvalid_0's auc: 0.74543\n",
      "[440]\tvalid_0's auc: 0.745418\n",
      "[441]\tvalid_0's auc: 0.745416\n",
      "[442]\tvalid_0's auc: 0.745441\n",
      "[443]\tvalid_0's auc: 0.745443\n",
      "[444]\tvalid_0's auc: 0.745474\n",
      "[445]\tvalid_0's auc: 0.745482\n",
      "[446]\tvalid_0's auc: 0.745475\n",
      "[447]\tvalid_0's auc: 0.745479\n",
      "[448]\tvalid_0's auc: 0.745502\n",
      "[449]\tvalid_0's auc: 0.745457\n",
      "[450]\tvalid_0's auc: 0.745453\n",
      "[451]\tvalid_0's auc: 0.745461\n",
      "[452]\tvalid_0's auc: 0.745496\n",
      "[453]\tvalid_0's auc: 0.745508\n",
      "[454]\tvalid_0's auc: 0.745476\n",
      "[455]\tvalid_0's auc: 0.745494\n",
      "[456]\tvalid_0's auc: 0.745514\n",
      "[457]\tvalid_0's auc: 0.745533\n",
      "[458]\tvalid_0's auc: 0.745533\n",
      "[459]\tvalid_0's auc: 0.745521\n",
      "[460]\tvalid_0's auc: 0.745536\n",
      "[461]\tvalid_0's auc: 0.745545\n",
      "[462]\tvalid_0's auc: 0.745581\n",
      "[463]\tvalid_0's auc: 0.745626\n",
      "[464]\tvalid_0's auc: 0.745604\n",
      "[465]\tvalid_0's auc: 0.745609\n",
      "[466]\tvalid_0's auc: 0.745612\n",
      "[467]\tvalid_0's auc: 0.745613\n",
      "[468]\tvalid_0's auc: 0.745608\n",
      "[469]\tvalid_0's auc: 0.745625\n",
      "[470]\tvalid_0's auc: 0.745606\n",
      "[471]\tvalid_0's auc: 0.745554\n",
      "[472]\tvalid_0's auc: 0.745549\n",
      "[473]\tvalid_0's auc: 0.745557\n",
      "[474]\tvalid_0's auc: 0.745515\n",
      "[475]\tvalid_0's auc: 0.745517\n",
      "[476]\tvalid_0's auc: 0.745552\n",
      "[477]\tvalid_0's auc: 0.745559\n",
      "[478]\tvalid_0's auc: 0.745542\n",
      "[479]\tvalid_0's auc: 0.745556\n",
      "[480]\tvalid_0's auc: 0.745571\n",
      "[481]\tvalid_0's auc: 0.745591\n",
      "[482]\tvalid_0's auc: 0.745617\n",
      "[483]\tvalid_0's auc: 0.745651\n",
      "[484]\tvalid_0's auc: 0.745656\n",
      "[485]\tvalid_0's auc: 0.745685\n",
      "[486]\tvalid_0's auc: 0.745674\n",
      "[487]\tvalid_0's auc: 0.745673\n",
      "[488]\tvalid_0's auc: 0.745684\n",
      "[489]\tvalid_0's auc: 0.745626\n",
      "[490]\tvalid_0's auc: 0.745655\n",
      "[491]\tvalid_0's auc: 0.74567\n",
      "[492]\tvalid_0's auc: 0.7457\n",
      "[493]\tvalid_0's auc: 0.745711\n",
      "[494]\tvalid_0's auc: 0.745747\n",
      "[495]\tvalid_0's auc: 0.745784\n",
      "[496]\tvalid_0's auc: 0.745759\n",
      "[497]\tvalid_0's auc: 0.745779\n",
      "[498]\tvalid_0's auc: 0.74579\n",
      "[499]\tvalid_0's auc: 0.745801\n",
      "[500]\tvalid_0's auc: 0.745805\n",
      "[501]\tvalid_0's auc: 0.74576\n",
      "[502]\tvalid_0's auc: 0.745779\n",
      "[503]\tvalid_0's auc: 0.7458\n",
      "[504]\tvalid_0's auc: 0.745804\n",
      "[505]\tvalid_0's auc: 0.745814\n",
      "[506]\tvalid_0's auc: 0.74582\n",
      "[507]\tvalid_0's auc: 0.745853\n",
      "[508]\tvalid_0's auc: 0.74587\n",
      "[509]\tvalid_0's auc: 0.745896\n",
      "[510]\tvalid_0's auc: 0.745882\n",
      "[511]\tvalid_0's auc: 0.745821\n",
      "[512]\tvalid_0's auc: 0.745821\n",
      "[513]\tvalid_0's auc: 0.745844\n",
      "[514]\tvalid_0's auc: 0.745825\n",
      "[515]\tvalid_0's auc: 0.74587\n",
      "[516]\tvalid_0's auc: 0.745835\n",
      "[517]\tvalid_0's auc: 0.745834\n",
      "[518]\tvalid_0's auc: 0.745803\n",
      "[519]\tvalid_0's auc: 0.745789\n",
      "[520]\tvalid_0's auc: 0.745775\n",
      "[521]\tvalid_0's auc: 0.745771\n",
      "[522]\tvalid_0's auc: 0.745794\n",
      "[523]\tvalid_0's auc: 0.745723\n",
      "[524]\tvalid_0's auc: 0.745734\n",
      "[525]\tvalid_0's auc: 0.745724\n",
      "[526]\tvalid_0's auc: 0.745712\n",
      "[527]\tvalid_0's auc: 0.745701\n",
      "[528]\tvalid_0's auc: 0.745686\n",
      "[529]\tvalid_0's auc: 0.745727\n",
      "[530]\tvalid_0's auc: 0.745739\n",
      "[531]\tvalid_0's auc: 0.745761\n",
      "[532]\tvalid_0's auc: 0.745765\n",
      "[533]\tvalid_0's auc: 0.74576\n",
      "[534]\tvalid_0's auc: 0.745773\n",
      "[535]\tvalid_0's auc: 0.745748\n",
      "[536]\tvalid_0's auc: 0.745773\n",
      "[537]\tvalid_0's auc: 0.745756\n",
      "[538]\tvalid_0's auc: 0.745713\n",
      "[539]\tvalid_0's auc: 0.745725\n",
      "[540]\tvalid_0's auc: 0.745718\n",
      "[541]\tvalid_0's auc: 0.745734\n",
      "[542]\tvalid_0's auc: 0.745756\n",
      "[543]\tvalid_0's auc: 0.745757\n",
      "[544]\tvalid_0's auc: 0.745765\n",
      "[545]\tvalid_0's auc: 0.745736\n",
      "[546]\tvalid_0's auc: 0.745719\n",
      "[547]\tvalid_0's auc: 0.745716\n",
      "[548]\tvalid_0's auc: 0.745716\n",
      "[549]\tvalid_0's auc: 0.745721\n",
      "[550]\tvalid_0's auc: 0.745757\n",
      "[551]\tvalid_0's auc: 0.745778\n",
      "[552]\tvalid_0's auc: 0.745772\n",
      "[553]\tvalid_0's auc: 0.745832\n",
      "[554]\tvalid_0's auc: 0.745834\n",
      "[555]\tvalid_0's auc: 0.745809\n",
      "[556]\tvalid_0's auc: 0.745803\n",
      "[557]\tvalid_0's auc: 0.745817\n",
      "[558]\tvalid_0's auc: 0.745792\n",
      "[559]\tvalid_0's auc: 0.745783\n",
      "[560]\tvalid_0's auc: 0.745762\n",
      "[561]\tvalid_0's auc: 0.745755\n",
      "[562]\tvalid_0's auc: 0.74576\n",
      "[563]\tvalid_0's auc: 0.745761\n",
      "[564]\tvalid_0's auc: 0.745768\n",
      "[565]\tvalid_0's auc: 0.745746\n",
      "[566]\tvalid_0's auc: 0.745776\n",
      "[567]\tvalid_0's auc: 0.745754\n",
      "[568]\tvalid_0's auc: 0.74574\n",
      "[569]\tvalid_0's auc: 0.745739\n",
      "[570]\tvalid_0's auc: 0.745749\n",
      "[571]\tvalid_0's auc: 0.745735\n",
      "[572]\tvalid_0's auc: 0.745748\n",
      "[573]\tvalid_0's auc: 0.745747\n",
      "[574]\tvalid_0's auc: 0.745771\n",
      "[575]\tvalid_0's auc: 0.745788\n",
      "[576]\tvalid_0's auc: 0.745807\n",
      "[577]\tvalid_0's auc: 0.745822\n",
      "[578]\tvalid_0's auc: 0.745853\n",
      "[579]\tvalid_0's auc: 0.74587\n",
      "[580]\tvalid_0's auc: 0.745868\n",
      "[581]\tvalid_0's auc: 0.745873\n",
      "[582]\tvalid_0's auc: 0.745908\n",
      "[583]\tvalid_0's auc: 0.745927\n",
      "[584]\tvalid_0's auc: 0.745967\n"
     ]
    },
    {
     "name": "stdout",
     "output_type": "stream",
     "text": [
      "[585]\tvalid_0's auc: 0.745963\n",
      "[586]\tvalid_0's auc: 0.745969\n",
      "[587]\tvalid_0's auc: 0.745974\n",
      "[588]\tvalid_0's auc: 0.745982\n",
      "[589]\tvalid_0's auc: 0.745977\n",
      "[590]\tvalid_0's auc: 0.746006\n",
      "[591]\tvalid_0's auc: 0.746\n",
      "[592]\tvalid_0's auc: 0.746001\n",
      "[593]\tvalid_0's auc: 0.745999\n",
      "[594]\tvalid_0's auc: 0.746001\n",
      "[595]\tvalid_0's auc: 0.745997\n",
      "[596]\tvalid_0's auc: 0.745982\n",
      "[597]\tvalid_0's auc: 0.745969\n",
      "[598]\tvalid_0's auc: 0.74595\n",
      "[599]\tvalid_0's auc: 0.745954\n",
      "[600]\tvalid_0's auc: 0.745982\n",
      "[601]\tvalid_0's auc: 0.746003\n",
      "[602]\tvalid_0's auc: 0.746011\n",
      "[603]\tvalid_0's auc: 0.746025\n",
      "[604]\tvalid_0's auc: 0.746008\n",
      "[605]\tvalid_0's auc: 0.746018\n",
      "[606]\tvalid_0's auc: 0.74603\n",
      "[607]\tvalid_0's auc: 0.746029\n",
      "[608]\tvalid_0's auc: 0.74604\n",
      "[609]\tvalid_0's auc: 0.746059\n",
      "[610]\tvalid_0's auc: 0.746065\n",
      "[611]\tvalid_0's auc: 0.746083\n",
      "[612]\tvalid_0's auc: 0.746095\n",
      "[613]\tvalid_0's auc: 0.746095\n",
      "[614]\tvalid_0's auc: 0.746122\n",
      "[615]\tvalid_0's auc: 0.746121\n",
      "[616]\tvalid_0's auc: 0.746138\n",
      "[617]\tvalid_0's auc: 0.746146\n",
      "[618]\tvalid_0's auc: 0.746154\n",
      "[619]\tvalid_0's auc: 0.74619\n",
      "[620]\tvalid_0's auc: 0.746213\n",
      "[621]\tvalid_0's auc: 0.746225\n",
      "[622]\tvalid_0's auc: 0.746235\n",
      "[623]\tvalid_0's auc: 0.746254\n",
      "[624]\tvalid_0's auc: 0.746252\n",
      "[625]\tvalid_0's auc: 0.746305\n",
      "[626]\tvalid_0's auc: 0.746304\n",
      "[627]\tvalid_0's auc: 0.746292\n",
      "[628]\tvalid_0's auc: 0.746296\n",
      "[629]\tvalid_0's auc: 0.746288\n",
      "[630]\tvalid_0's auc: 0.746334\n",
      "[631]\tvalid_0's auc: 0.746327\n",
      "[632]\tvalid_0's auc: 0.746328\n",
      "[633]\tvalid_0's auc: 0.746348\n",
      "[634]\tvalid_0's auc: 0.746347\n",
      "[635]\tvalid_0's auc: 0.746361\n",
      "[636]\tvalid_0's auc: 0.74635\n",
      "[637]\tvalid_0's auc: 0.746367\n",
      "[638]\tvalid_0's auc: 0.746316\n",
      "[639]\tvalid_0's auc: 0.746321\n",
      "[640]\tvalid_0's auc: 0.746321\n",
      "[641]\tvalid_0's auc: 0.746341\n",
      "[642]\tvalid_0's auc: 0.746366\n",
      "[643]\tvalid_0's auc: 0.746335\n",
      "[644]\tvalid_0's auc: 0.746377\n",
      "[645]\tvalid_0's auc: 0.746345\n",
      "[646]\tvalid_0's auc: 0.746344\n",
      "[647]\tvalid_0's auc: 0.746342\n",
      "[648]\tvalid_0's auc: 0.746353\n",
      "[649]\tvalid_0's auc: 0.746279\n",
      "[650]\tvalid_0's auc: 0.746298\n",
      "[651]\tvalid_0's auc: 0.746299\n",
      "[652]\tvalid_0's auc: 0.746318\n",
      "[653]\tvalid_0's auc: 0.746323\n",
      "[654]\tvalid_0's auc: 0.746365\n",
      "[655]\tvalid_0's auc: 0.746351\n",
      "[656]\tvalid_0's auc: 0.746344\n",
      "[657]\tvalid_0's auc: 0.746357\n",
      "[658]\tvalid_0's auc: 0.746361\n",
      "[659]\tvalid_0's auc: 0.746363\n",
      "[660]\tvalid_0's auc: 0.746351\n",
      "[661]\tvalid_0's auc: 0.746351\n",
      "[662]\tvalid_0's auc: 0.746399\n",
      "[663]\tvalid_0's auc: 0.746364\n",
      "[664]\tvalid_0's auc: 0.746372\n",
      "[665]\tvalid_0's auc: 0.74637\n",
      "[666]\tvalid_0's auc: 0.746388\n",
      "[667]\tvalid_0's auc: 0.746425\n",
      "[668]\tvalid_0's auc: 0.746417\n",
      "[669]\tvalid_0's auc: 0.746431\n",
      "[670]\tvalid_0's auc: 0.746482\n",
      "[671]\tvalid_0's auc: 0.746464\n",
      "[672]\tvalid_0's auc: 0.746457\n",
      "[673]\tvalid_0's auc: 0.746474\n",
      "[674]\tvalid_0's auc: 0.746458\n",
      "[675]\tvalid_0's auc: 0.746433\n",
      "[676]\tvalid_0's auc: 0.746434\n",
      "[677]\tvalid_0's auc: 0.746437\n",
      "[678]\tvalid_0's auc: 0.746444\n",
      "[679]\tvalid_0's auc: 0.746448\n",
      "[680]\tvalid_0's auc: 0.746433\n",
      "[681]\tvalid_0's auc: 0.746425\n",
      "[682]\tvalid_0's auc: 0.746429\n",
      "[683]\tvalid_0's auc: 0.746435\n",
      "[684]\tvalid_0's auc: 0.746386\n",
      "[685]\tvalid_0's auc: 0.74637\n",
      "[686]\tvalid_0's auc: 0.746377\n",
      "[687]\tvalid_0's auc: 0.746347\n",
      "[688]\tvalid_0's auc: 0.746341\n",
      "[689]\tvalid_0's auc: 0.746337\n",
      "[690]\tvalid_0's auc: 0.746321\n",
      "[691]\tvalid_0's auc: 0.74633\n",
      "[692]\tvalid_0's auc: 0.746341\n",
      "[693]\tvalid_0's auc: 0.746344\n",
      "[694]\tvalid_0's auc: 0.746342\n",
      "[695]\tvalid_0's auc: 0.746357\n",
      "[696]\tvalid_0's auc: 0.746321\n",
      "[697]\tvalid_0's auc: 0.746344\n",
      "[698]\tvalid_0's auc: 0.746364\n",
      "[699]\tvalid_0's auc: 0.746357\n",
      "[700]\tvalid_0's auc: 0.746393\n",
      "[701]\tvalid_0's auc: 0.746386\n",
      "[702]\tvalid_0's auc: 0.746403\n",
      "[703]\tvalid_0's auc: 0.746394\n",
      "[704]\tvalid_0's auc: 0.746385\n",
      "[705]\tvalid_0's auc: 0.746385\n",
      "[706]\tvalid_0's auc: 0.746393\n",
      "[707]\tvalid_0's auc: 0.746382\n",
      "[708]\tvalid_0's auc: 0.746378\n",
      "[709]\tvalid_0's auc: 0.746378\n",
      "[710]\tvalid_0's auc: 0.746379\n",
      "[711]\tvalid_0's auc: 0.746407\n",
      "[712]\tvalid_0's auc: 0.746423\n",
      "[713]\tvalid_0's auc: 0.74643\n",
      "[714]\tvalid_0's auc: 0.746394\n",
      "[715]\tvalid_0's auc: 0.74643\n",
      "[716]\tvalid_0's auc: 0.746456\n",
      "[717]\tvalid_0's auc: 0.746471\n",
      "[718]\tvalid_0's auc: 0.746493\n",
      "[719]\tvalid_0's auc: 0.746497\n",
      "[720]\tvalid_0's auc: 0.746526\n",
      "[721]\tvalid_0's auc: 0.746542\n",
      "[722]\tvalid_0's auc: 0.746547\n",
      "[723]\tvalid_0's auc: 0.746569\n",
      "[724]\tvalid_0's auc: 0.746575\n",
      "[725]\tvalid_0's auc: 0.74658\n",
      "[726]\tvalid_0's auc: 0.7466\n",
      "[727]\tvalid_0's auc: 0.746559\n",
      "[728]\tvalid_0's auc: 0.746568\n",
      "[729]\tvalid_0's auc: 0.746558\n",
      "[730]\tvalid_0's auc: 0.74657\n",
      "[731]\tvalid_0's auc: 0.746585\n",
      "[732]\tvalid_0's auc: 0.74657\n",
      "[733]\tvalid_0's auc: 0.746555\n",
      "[734]\tvalid_0's auc: 0.746569\n",
      "[735]\tvalid_0's auc: 0.74655\n",
      "[736]\tvalid_0's auc: 0.746541\n",
      "[737]\tvalid_0's auc: 0.746537\n",
      "[738]\tvalid_0's auc: 0.746525\n",
      "[739]\tvalid_0's auc: 0.746523\n",
      "[740]\tvalid_0's auc: 0.746539\n",
      "[741]\tvalid_0's auc: 0.746541\n",
      "[742]\tvalid_0's auc: 0.746541\n",
      "[743]\tvalid_0's auc: 0.746537\n",
      "[744]\tvalid_0's auc: 0.746527\n",
      "[745]\tvalid_0's auc: 0.746536\n",
      "[746]\tvalid_0's auc: 0.74657\n",
      "[747]\tvalid_0's auc: 0.746593\n",
      "[748]\tvalid_0's auc: 0.746604\n",
      "[749]\tvalid_0's auc: 0.746589\n",
      "[750]\tvalid_0's auc: 0.746567\n",
      "[751]\tvalid_0's auc: 0.746569\n",
      "[752]\tvalid_0's auc: 0.746593\n",
      "[753]\tvalid_0's auc: 0.74659\n",
      "[754]\tvalid_0's auc: 0.746596\n",
      "[755]\tvalid_0's auc: 0.746629\n",
      "[756]\tvalid_0's auc: 0.746625\n",
      "[757]\tvalid_0's auc: 0.746621\n",
      "[758]\tvalid_0's auc: 0.746622\n",
      "[759]\tvalid_0's auc: 0.746644\n",
      "[760]\tvalid_0's auc: 0.746651\n",
      "[761]\tvalid_0's auc: 0.746609\n",
      "[762]\tvalid_0's auc: 0.746615\n",
      "[763]\tvalid_0's auc: 0.746659\n",
      "[764]\tvalid_0's auc: 0.746656\n",
      "[765]\tvalid_0's auc: 0.746651\n",
      "[766]\tvalid_0's auc: 0.746639\n",
      "[767]\tvalid_0's auc: 0.746607\n",
      "[768]\tvalid_0's auc: 0.746616\n",
      "[769]\tvalid_0's auc: 0.74661\n",
      "[770]\tvalid_0's auc: 0.746616\n",
      "[771]\tvalid_0's auc: 0.746649\n",
      "[772]\tvalid_0's auc: 0.746665\n",
      "[773]\tvalid_0's auc: 0.746693\n",
      "[774]\tvalid_0's auc: 0.746693\n",
      "[775]\tvalid_0's auc: 0.746694\n",
      "[776]\tvalid_0's auc: 0.746679\n",
      "[777]\tvalid_0's auc: 0.746679\n",
      "[778]\tvalid_0's auc: 0.74666\n",
      "[779]\tvalid_0's auc: 0.746681\n",
      "[780]\tvalid_0's auc: 0.746675\n",
      "[781]\tvalid_0's auc: 0.746697\n",
      "[782]\tvalid_0's auc: 0.746665\n",
      "[783]\tvalid_0's auc: 0.746664\n",
      "[784]\tvalid_0's auc: 0.74664\n",
      "[785]\tvalid_0's auc: 0.746639\n",
      "[786]\tvalid_0's auc: 0.746635\n",
      "[787]\tvalid_0's auc: 0.746661\n",
      "[788]\tvalid_0's auc: 0.746671\n",
      "[789]\tvalid_0's auc: 0.746679\n",
      "[790]\tvalid_0's auc: 0.746678\n",
      "[791]\tvalid_0's auc: 0.746698\n",
      "[792]\tvalid_0's auc: 0.746703\n",
      "[793]\tvalid_0's auc: 0.746738\n",
      "[794]\tvalid_0's auc: 0.746685\n",
      "[795]\tvalid_0's auc: 0.746686\n",
      "[796]\tvalid_0's auc: 0.746698\n",
      "[797]\tvalid_0's auc: 0.746709\n",
      "[798]\tvalid_0's auc: 0.746701\n",
      "[799]\tvalid_0's auc: 0.74668\n",
      "[800]\tvalid_0's auc: 0.746666\n",
      "[801]\tvalid_0's auc: 0.746686\n",
      "[802]\tvalid_0's auc: 0.746687\n",
      "[803]\tvalid_0's auc: 0.746713\n",
      "[804]\tvalid_0's auc: 0.746727\n",
      "[805]\tvalid_0's auc: 0.746725\n",
      "[806]\tvalid_0's auc: 0.74671\n",
      "[807]\tvalid_0's auc: 0.746709\n",
      "[808]\tvalid_0's auc: 0.746696\n",
      "[809]\tvalid_0's auc: 0.746695\n",
      "[810]\tvalid_0's auc: 0.746671\n",
      "[811]\tvalid_0's auc: 0.746672\n",
      "[812]\tvalid_0's auc: 0.746674\n",
      "[813]\tvalid_0's auc: 0.7467\n",
      "[814]\tvalid_0's auc: 0.746687\n",
      "[815]\tvalid_0's auc: 0.746697\n",
      "[816]\tvalid_0's auc: 0.74668\n",
      "[817]\tvalid_0's auc: 0.746674\n",
      "[818]\tvalid_0's auc: 0.746674\n",
      "[819]\tvalid_0's auc: 0.746662\n",
      "[820]\tvalid_0's auc: 0.746667\n",
      "[821]\tvalid_0's auc: 0.746653\n",
      "[822]\tvalid_0's auc: 0.746675\n",
      "[823]\tvalid_0's auc: 0.746668\n",
      "[824]\tvalid_0's auc: 0.746671\n",
      "[825]\tvalid_0's auc: 0.746711\n",
      "[826]\tvalid_0's auc: 0.746692\n",
      "[827]\tvalid_0's auc: 0.746709\n",
      "[828]\tvalid_0's auc: 0.746702\n",
      "[829]\tvalid_0's auc: 0.746709\n",
      "[830]\tvalid_0's auc: 0.746749\n",
      "[831]\tvalid_0's auc: 0.746731\n",
      "[832]\tvalid_0's auc: 0.746741\n",
      "[833]\tvalid_0's auc: 0.746728\n",
      "[834]\tvalid_0's auc: 0.746705\n",
      "[835]\tvalid_0's auc: 0.74672\n",
      "[836]\tvalid_0's auc: 0.746714\n",
      "[837]\tvalid_0's auc: 0.74674\n",
      "[838]\tvalid_0's auc: 0.746723\n",
      "[839]\tvalid_0's auc: 0.746756\n",
      "[840]\tvalid_0's auc: 0.746757\n",
      "[841]\tvalid_0's auc: 0.746764\n",
      "[842]\tvalid_0's auc: 0.746788\n",
      "[843]\tvalid_0's auc: 0.746805\n",
      "[844]\tvalid_0's auc: 0.746797\n",
      "[845]\tvalid_0's auc: 0.746799\n",
      "[846]\tvalid_0's auc: 0.746826\n",
      "[847]\tvalid_0's auc: 0.746824\n",
      "[848]\tvalid_0's auc: 0.746834\n",
      "[849]\tvalid_0's auc: 0.746834\n",
      "[850]\tvalid_0's auc: 0.746846\n",
      "[851]\tvalid_0's auc: 0.746872\n",
      "[852]\tvalid_0's auc: 0.746849\n",
      "[853]\tvalid_0's auc: 0.746846\n",
      "[854]\tvalid_0's auc: 0.746856\n",
      "[855]\tvalid_0's auc: 0.746863\n",
      "[856]\tvalid_0's auc: 0.746876\n",
      "[857]\tvalid_0's auc: 0.746871\n",
      "[858]\tvalid_0's auc: 0.746867\n",
      "[859]\tvalid_0's auc: 0.746876\n",
      "[860]\tvalid_0's auc: 0.746866\n",
      "[861]\tvalid_0's auc: 0.746855\n",
      "[862]\tvalid_0's auc: 0.746912\n"
     ]
    },
    {
     "name": "stdout",
     "output_type": "stream",
     "text": [
      "[863]\tvalid_0's auc: 0.746922\n",
      "[864]\tvalid_0's auc: 0.746915\n",
      "[865]\tvalid_0's auc: 0.746903\n",
      "[866]\tvalid_0's auc: 0.746899\n",
      "[867]\tvalid_0's auc: 0.746899\n",
      "[868]\tvalid_0's auc: 0.746911\n",
      "[869]\tvalid_0's auc: 0.746907\n",
      "[870]\tvalid_0's auc: 0.746912\n",
      "[871]\tvalid_0's auc: 0.74691\n",
      "[872]\tvalid_0's auc: 0.746913\n",
      "[873]\tvalid_0's auc: 0.746924\n",
      "[874]\tvalid_0's auc: 0.746939\n",
      "[875]\tvalid_0's auc: 0.746933\n",
      "[876]\tvalid_0's auc: 0.746943\n",
      "[877]\tvalid_0's auc: 0.746914\n",
      "[878]\tvalid_0's auc: 0.746902\n",
      "[879]\tvalid_0's auc: 0.746898\n",
      "[880]\tvalid_0's auc: 0.746896\n",
      "[881]\tvalid_0's auc: 0.746904\n",
      "[882]\tvalid_0's auc: 0.746919\n",
      "[883]\tvalid_0's auc: 0.746945\n",
      "[884]\tvalid_0's auc: 0.746954\n",
      "[885]\tvalid_0's auc: 0.746977\n",
      "[886]\tvalid_0's auc: 0.746971\n",
      "[887]\tvalid_0's auc: 0.746966\n",
      "[888]\tvalid_0's auc: 0.746952\n",
      "[889]\tvalid_0's auc: 0.746963\n",
      "[890]\tvalid_0's auc: 0.746948\n",
      "[891]\tvalid_0's auc: 0.746946\n",
      "[892]\tvalid_0's auc: 0.746952\n",
      "[893]\tvalid_0's auc: 0.746956\n",
      "[894]\tvalid_0's auc: 0.746958\n",
      "[895]\tvalid_0's auc: 0.746984\n",
      "[896]\tvalid_0's auc: 0.746987\n",
      "[897]\tvalid_0's auc: 0.746972\n",
      "[898]\tvalid_0's auc: 0.74698\n",
      "[899]\tvalid_0's auc: 0.746976\n",
      "[900]\tvalid_0's auc: 0.746974\n",
      "[901]\tvalid_0's auc: 0.746995\n",
      "[902]\tvalid_0's auc: 0.746989\n",
      "[903]\tvalid_0's auc: 0.746987\n",
      "[904]\tvalid_0's auc: 0.747013\n",
      "[905]\tvalid_0's auc: 0.747037\n",
      "[906]\tvalid_0's auc: 0.747061\n",
      "[907]\tvalid_0's auc: 0.747065\n",
      "[908]\tvalid_0's auc: 0.747087\n",
      "[909]\tvalid_0's auc: 0.7471\n",
      "[910]\tvalid_0's auc: 0.747115\n",
      "[911]\tvalid_0's auc: 0.747133\n",
      "[912]\tvalid_0's auc: 0.747119\n",
      "[913]\tvalid_0's auc: 0.747122\n",
      "[914]\tvalid_0's auc: 0.747132\n",
      "[915]\tvalid_0's auc: 0.74714\n",
      "[916]\tvalid_0's auc: 0.747164\n",
      "[917]\tvalid_0's auc: 0.747159\n",
      "[918]\tvalid_0's auc: 0.747185\n",
      "[919]\tvalid_0's auc: 0.747191\n",
      "[920]\tvalid_0's auc: 0.747205\n",
      "[921]\tvalid_0's auc: 0.747185\n",
      "[922]\tvalid_0's auc: 0.747194\n",
      "[923]\tvalid_0's auc: 0.747192\n",
      "[924]\tvalid_0's auc: 0.747219\n",
      "[925]\tvalid_0's auc: 0.747229\n",
      "[926]\tvalid_0's auc: 0.747235\n",
      "[927]\tvalid_0's auc: 0.747265\n",
      "[928]\tvalid_0's auc: 0.747282\n",
      "[929]\tvalid_0's auc: 0.747277\n",
      "[930]\tvalid_0's auc: 0.747267\n",
      "[931]\tvalid_0's auc: 0.747278\n",
      "[932]\tvalid_0's auc: 0.747285\n",
      "[933]\tvalid_0's auc: 0.747312\n",
      "[934]\tvalid_0's auc: 0.747334\n",
      "[935]\tvalid_0's auc: 0.747321\n",
      "[936]\tvalid_0's auc: 0.747318\n",
      "[937]\tvalid_0's auc: 0.747304\n",
      "[938]\tvalid_0's auc: 0.747279\n",
      "[939]\tvalid_0's auc: 0.747284\n",
      "[940]\tvalid_0's auc: 0.74728\n",
      "[941]\tvalid_0's auc: 0.7473\n",
      "[942]\tvalid_0's auc: 0.747311\n",
      "[943]\tvalid_0's auc: 0.747304\n",
      "[944]\tvalid_0's auc: 0.747317\n",
      "[945]\tvalid_0's auc: 0.747313\n",
      "[946]\tvalid_0's auc: 0.747315\n",
      "[947]\tvalid_0's auc: 0.747341\n",
      "[948]\tvalid_0's auc: 0.747351\n",
      "[949]\tvalid_0's auc: 0.747364\n",
      "[950]\tvalid_0's auc: 0.747367\n",
      "[951]\tvalid_0's auc: 0.747374\n",
      "[952]\tvalid_0's auc: 0.747362\n",
      "[953]\tvalid_0's auc: 0.747375\n",
      "[954]\tvalid_0's auc: 0.747381\n",
      "[955]\tvalid_0's auc: 0.747369\n",
      "[956]\tvalid_0's auc: 0.747378\n",
      "[957]\tvalid_0's auc: 0.747373\n",
      "[958]\tvalid_0's auc: 0.747383\n",
      "[959]\tvalid_0's auc: 0.747375\n",
      "[960]\tvalid_0's auc: 0.747353\n",
      "[961]\tvalid_0's auc: 0.747363\n",
      "[962]\tvalid_0's auc: 0.747353\n",
      "[963]\tvalid_0's auc: 0.747364\n",
      "[964]\tvalid_0's auc: 0.747351\n",
      "[965]\tvalid_0's auc: 0.74734\n",
      "[966]\tvalid_0's auc: 0.747345\n",
      "[967]\tvalid_0's auc: 0.74735\n",
      "[968]\tvalid_0's auc: 0.747342\n",
      "[969]\tvalid_0's auc: 0.747339\n",
      "[970]\tvalid_0's auc: 0.747349\n",
      "[971]\tvalid_0's auc: 0.747352\n",
      "[972]\tvalid_0's auc: 0.747336\n",
      "[973]\tvalid_0's auc: 0.747334\n",
      "[974]\tvalid_0's auc: 0.747346\n",
      "[975]\tvalid_0's auc: 0.747341\n",
      "[976]\tvalid_0's auc: 0.747307\n",
      "[977]\tvalid_0's auc: 0.747316\n",
      "[978]\tvalid_0's auc: 0.747303\n",
      "[979]\tvalid_0's auc: 0.747315\n",
      "[980]\tvalid_0's auc: 0.747299\n",
      "[981]\tvalid_0's auc: 0.747297\n",
      "[982]\tvalid_0's auc: 0.747287\n",
      "[983]\tvalid_0's auc: 0.747281\n",
      "[984]\tvalid_0's auc: 0.747301\n",
      "[985]\tvalid_0's auc: 0.747304\n",
      "[986]\tvalid_0's auc: 0.747307\n",
      "[987]\tvalid_0's auc: 0.747302\n",
      "[988]\tvalid_0's auc: 0.747333\n",
      "[989]\tvalid_0's auc: 0.747352\n",
      "[990]\tvalid_0's auc: 0.747381\n",
      "[991]\tvalid_0's auc: 0.747369\n",
      "[992]\tvalid_0's auc: 0.747383\n",
      "[993]\tvalid_0's auc: 0.747387\n",
      "[994]\tvalid_0's auc: 0.747366\n",
      "[995]\tvalid_0's auc: 0.747365\n",
      "[996]\tvalid_0's auc: 0.747369\n",
      "[997]\tvalid_0's auc: 0.74736\n",
      "[998]\tvalid_0's auc: 0.74736\n",
      "[999]\tvalid_0's auc: 0.747366\n",
      "[1000]\tvalid_0's auc: 0.747374\n",
      "Did not meet early stopping. Best iteration is:\n",
      "[993]\tvalid_0's auc: 0.747387\n"
     ]
    }
   ],
   "source": [
    "lgb = lightgbm.train(params_best,\n",
    "                       lgb_train,\n",
    "                       num_boost_round=1000,\n",
    "                       early_stopping_rounds=100,\n",
    "                       valid_sets=lgb_test)\n",
    "                       # stratified=True,\n",
    "                       # nfold=3)"
   ]
  },
  {
   "cell_type": "code",
   "execution_count": 70,
   "metadata": {},
   "outputs": [],
   "source": [
    "y_pred = lgb.predict(X_test)"
   ]
  },
  {
   "cell_type": "code",
   "execution_count": 71,
   "metadata": {},
   "outputs": [
    {
     "data": {
      "text/plain": [
       "array([0.29283536, 0.38360692, 0.68551129, ..., 0.60346493, 0.67849294,\n",
       "       0.89769421])"
      ]
     },
     "execution_count": 71,
     "metadata": {},
     "output_type": "execute_result"
    }
   ],
   "source": [
    "y_pred"
   ]
  },
  {
   "cell_type": "code",
   "execution_count": 72,
   "metadata": {},
   "outputs": [],
   "source": [
    "y_pred_bool = []\n",
    "for i in range(len(y_pred)):\n",
    "    if y_pred[i]<0.5:\n",
    "        y_pred_bool.append(0)\n",
    "    else:\n",
    "        y_pred_bool.append(1)"
   ]
  },
  {
   "cell_type": "code",
   "execution_count": 73,
   "metadata": {},
   "outputs": [
    {
     "data": {
      "text/plain": [
       "array([[11743,  4471],\n",
       "       [ 1425,  2361]], dtype=int64)"
      ]
     },
     "execution_count": 73,
     "metadata": {},
     "output_type": "execute_result"
    }
   ],
   "source": [
    "from sklearn.metrics import confusion_matrix\n",
    "\n",
    "confusion_matrix(y_test, y_pred_bool)"
   ]
  },
  {
   "cell_type": "code",
   "execution_count": 74,
   "metadata": {},
   "outputs": [
    {
     "data": {
      "text/plain": [
       "0.7052"
      ]
     },
     "execution_count": 74,
     "metadata": {},
     "output_type": "execute_result"
    }
   ],
   "source": [
    "from sklearn.metrics import accuracy_score\n",
    "\n",
    "accuracy_score(y_test, y_pred_bool)"
   ]
  },
  {
   "cell_type": "markdown",
   "metadata": {},
   "source": [
    "**<font color='blue'> We can apply the model to the 'new data' for prediction. </font>** "
   ]
  },
  {
   "cell_type": "code",
   "execution_count": 75,
   "metadata": {},
   "outputs": [],
   "source": [
    "y_new_pred = lgb.predict(X_new_data)"
   ]
  },
  {
   "cell_type": "code",
   "execution_count": 78,
   "metadata": {},
   "outputs": [
    {
     "name": "stdout",
     "output_type": "stream",
     "text": [
      "100000\n"
     ]
    }
   ],
   "source": [
    "print(len(y_new_pred))"
   ]
  },
  {
   "cell_type": "code",
   "execution_count": 79,
   "metadata": {},
   "outputs": [],
   "source": [
    "y_new = []\n",
    "for i in range(len(y_new_pred)):\n",
    "    if y_new_pred[i]<0.5:\n",
    "        y_new.append(0)\n",
    "    else:\n",
    "        y_new.append(1)"
   ]
  },
  {
   "cell_type": "code",
   "execution_count": 82,
   "metadata": {},
   "outputs": [
    {
     "name": "stdout",
     "output_type": "stream",
     "text": [
      "34726 0.34726\n"
     ]
    }
   ],
   "source": [
    "print(sum(y_new), sum(y_new)/len(y_new))"
   ]
  },
  {
   "cell_type": "markdown",
   "metadata": {},
   "source": [
    "**<font color='blue'> Based on the prediction, we have 34726 flights out of 100000 departing with delayed 15 mins. The percentage is about 35%. </font>** "
   ]
  },
  {
   "cell_type": "code",
   "execution_count": null,
   "metadata": {},
   "outputs": [],
   "source": []
  }
 ],
 "metadata": {
  "colab": {
   "name": "Bayesian_optimization_exercise.ipynb",
   "provenance": []
  },
  "deepnote_execution_queue": [],
  "kernelspec": {
   "display_name": "Python 3",
   "language": "python",
   "name": "python3"
  },
  "language_info": {
   "codemirror_mode": {
    "name": "ipython",
    "version": 3
   },
   "file_extension": ".py",
   "mimetype": "text/x-python",
   "name": "python",
   "nbconvert_exporter": "python",
   "pygments_lexer": "ipython3",
   "version": "3.8.5"
  },
  "varInspector": {
   "cols": {
    "lenName": 16,
    "lenType": 16,
    "lenVar": 40
   },
   "kernels_config": {
    "python": {
     "delete_cmd_postfix": "",
     "delete_cmd_prefix": "del ",
     "library": "var_list.py",
     "varRefreshCmd": "print(var_dic_list())"
    },
    "r": {
     "delete_cmd_postfix": ") ",
     "delete_cmd_prefix": "rm(",
     "library": "var_list.r",
     "varRefreshCmd": "cat(var_dic_list()) "
    }
   },
   "types_to_exclude": [
    "module",
    "function",
    "builtin_function_or_method",
    "instance",
    "_Feature"
   ],
   "window_display": false
  }
 },
 "nbformat": 4,
 "nbformat_minor": 1
}
