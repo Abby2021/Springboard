{
 "cells": [
  {
   "cell_type": "markdown",
   "metadata": {
    "colab_type": "text",
    "id": "WNK7vbHo-KYU"
   },
   "source": [
    "## Bayesian methods of hyperparameter optimization"
   ]
  },
  {
   "cell_type": "markdown",
   "metadata": {
    "colab_type": "text",
    "id": "BlFdvPwF-KYW"
   },
   "source": [
    "In addition to the random search and the grid search methods for selecting optimal hyperparameters, we can use Bayesian methods of probabilities to select the optimal hyperparameters for an algorithm.\n",
    "\n",
    "In this case study, we will be using the BayesianOptimization library to perform hyperparmater tuning. This library has very good documentation which you can find here: https://github.com/fmfn/BayesianOptimization\n",
    "\n",
    "You will need to install the Bayesian optimization module. Running a cell with an exclamation point in the beginning of the command will run it as a shell command — please do this to install this module from our notebook in the cell below."
   ]
  },
  {
   "cell_type": "code",
   "execution_count": 1,
   "metadata": {
    "colab": {},
    "colab_type": "code",
    "id": "Pssx080d-Ulf"
   },
   "outputs": [],
   "source": [
    "#! pip install bayesian-optimization"
   ]
  },
  {
   "cell_type": "code",
   "execution_count": 2,
   "metadata": {},
   "outputs": [],
   "source": [
    "#! pip install catboost"
   ]
  },
  {
   "cell_type": "code",
   "execution_count": 3,
   "metadata": {
    "ExecuteTime": {
     "end_time": "2019-04-22T16:39:09.312682Z",
     "start_time": "2019-04-22T16:39:09.309208Z"
    },
    "_kg_hide-input": true,
    "colab": {},
    "colab_type": "code",
    "id": "l9nfFTyj-KYY"
   },
   "outputs": [],
   "source": [
    "import warnings\n",
    "warnings.filterwarnings('ignore')\n",
    "from sklearn.preprocessing import LabelEncoder\n",
    "import numpy as np\n",
    "import pandas as pd\n",
    "import lightgbm\n",
    "from bayes_opt import BayesianOptimization\n",
    "from catboost import CatBoostClassifier, cv, Pool"
   ]
  },
  {
   "cell_type": "code",
   "execution_count": 4,
   "metadata": {
    "colab": {
     "base_uri": "https://localhost:8080/",
     "height": 85
    },
    "colab_type": "code",
    "id": "D16Dquw1AAK0",
    "outputId": "44167587-f22e-4bf5-a816-e2bcfdc6c4ee"
   },
   "outputs": [
    {
     "data": {
      "text/plain": [
       "['.DS_Store',\n",
       " '.ipynb_checkpoints',\n",
       " 'Bayesian_optimization_case_study.ipynb',\n",
       " 'flight_delays_test.csv.zip',\n",
       " 'flight_delays_train.csv.zip']"
      ]
     },
     "execution_count": 4,
     "metadata": {},
     "output_type": "execute_result"
    }
   ],
   "source": [
    "import os\n",
    "os.listdir()"
   ]
  },
  {
   "cell_type": "markdown",
   "metadata": {
    "ExecuteTime": {
     "end_time": "2019-04-22T14:48:15.929012Z",
     "start_time": "2019-04-22T14:48:15.926574Z"
    },
    "colab_type": "text",
    "id": "AkBt3yds-KYu"
   },
   "source": [
    "## How does Bayesian optimization work?"
   ]
  },
  {
   "cell_type": "markdown",
   "metadata": {
    "colab_type": "text",
    "id": "E1kyBCUs-KYv"
   },
   "source": [
    "Bayesian optimization works by constructing a posterior distribution of functions (Gaussian process) that best describes the function you want to optimize. As the number of observations grows, the posterior distribution improves, and the algorithm becomes more certain of which regions in parameter space are worth exploring and which are not, as seen in the picture below."
   ]
  },
  {
   "cell_type": "markdown",
   "metadata": {
    "colab_type": "text",
    "id": "gAdHF72R-KYw"
   },
   "source": [
    "<img src=\"https://github.com/fmfn/BayesianOptimization/blob/master/examples/bo_example.png?raw=true\" />\n",
    "As you iterate over and over, the algorithm balances its needs of exploration and exploitation while taking into account what it knows about the target function. At each step, a Gaussian Process is fitted to the known samples (points previously explored), and the posterior distribution, combined with an exploration strategy (such as UCB — aka Upper Confidence Bound), or EI (Expected Improvement). This process is used to determine the next point that should be explored (see the gif below).\n",
    "<img src=\"https://github.com/fmfn/BayesianOptimization/raw/master/examples/bayesian_optimization.gif\" />"
   ]
  },
  {
   "cell_type": "markdown",
   "metadata": {
    "colab_type": "text",
    "id": "RTP8KUlLoYzu"
   },
   "source": [
    "## Let's look at a simple example"
   ]
  },
  {
   "cell_type": "markdown",
   "metadata": {
    "colab_type": "text",
    "id": "crpPqKdC-KYx"
   },
   "source": [
    "The first step is to create an optimizer. It uses two items:\n",
    "* function to optimize\n",
    "* bounds of parameters\n",
    "\n",
    "The function is the procedure that counts metrics of our model quality. The important thing is that our optimization will maximize the value on function. Smaller metrics are best. Hint: don't forget to use negative metric values."
   ]
  },
  {
   "cell_type": "markdown",
   "metadata": {
    "colab_type": "text",
    "id": "e09ciF8gpTfr"
   },
   "source": [
    "Here we define our simple function we want to optimize."
   ]
  },
  {
   "cell_type": "code",
   "execution_count": 5,
   "metadata": {
    "colab": {},
    "colab_type": "code",
    "id": "ofwvnfEwo5mG"
   },
   "outputs": [],
   "source": [
    "def simple_func(a, b):\n",
    "    return a + b"
   ]
  },
  {
   "cell_type": "markdown",
   "metadata": {
    "colab_type": "text",
    "id": "XCGsdciCpeI3"
   },
   "source": [
    "Now, we define our bounds of the parameters to optimize, within the Bayesian optimizer."
   ]
  },
  {
   "cell_type": "code",
   "execution_count": 6,
   "metadata": {
    "colab": {},
    "colab_type": "code",
    "id": "4jLYW2qnpOFr"
   },
   "outputs": [],
   "source": [
    "optimizer = BayesianOptimization(\n",
    "    simple_func,\n",
    "    {'a': (1, 3),\n",
    "    'b': (4, 7)})"
   ]
  },
  {
   "cell_type": "markdown",
   "metadata": {
    "colab_type": "text",
    "id": "dg6LdYx8pq2T"
   },
   "source": [
    "These are the main parameters of this function:\n",
    "\n",
    "* **n_iter:** This is how many steps of Bayesian optimization you want to perform. The more steps, the more likely you are to find a good maximum.\n",
    "\n",
    "* **init_points:** This is how many steps of random exploration you want to perform. Random exploration can help by diversifying the exploration space."
   ]
  },
  {
   "cell_type": "markdown",
   "metadata": {
    "colab_type": "text",
    "id": "i-GKMJ1uqMYv"
   },
   "source": [
    "Let's run an example where we use the optimizer to find the best values to maximize the target value for a and b given the inputs of 3 and 2."
   ]
  },
  {
   "cell_type": "code",
   "execution_count": 7,
   "metadata": {
    "colab": {
     "base_uri": "https://localhost:8080/",
     "height": 153
    },
    "colab_type": "code",
    "id": "Oy44Ro7wqNat",
    "outputId": "9cc64d54-b1e6-46d1-dc29-4c0039a1c72d"
   },
   "outputs": [
    {
     "name": "stdout",
     "output_type": "stream",
     "text": [
      "|   iter    |  target   |     a     |     b     |\n",
      "-------------------------------------------------\n",
      "| \u001b[0m 1       \u001b[0m | \u001b[0m 7.76    \u001b[0m | \u001b[0m 2.987   \u001b[0m | \u001b[0m 4.773   \u001b[0m |\n",
      "| \u001b[0m 2       \u001b[0m | \u001b[0m 6.433   \u001b[0m | \u001b[0m 1.941   \u001b[0m | \u001b[0m 4.493   \u001b[0m |\n",
      "| \u001b[95m 3       \u001b[0m | \u001b[95m 8.072   \u001b[0m | \u001b[95m 2.082   \u001b[0m | \u001b[95m 5.99    \u001b[0m |\n",
      "| \u001b[0m 4       \u001b[0m | \u001b[0m 8.05    \u001b[0m | \u001b[0m 2.994   \u001b[0m | \u001b[0m 5.056   \u001b[0m |\n",
      "| \u001b[95m 5       \u001b[0m | \u001b[95m 9.056   \u001b[0m | \u001b[95m 3.0     \u001b[0m | \u001b[95m 6.056   \u001b[0m |\n",
      "=================================================\n"
     ]
    }
   ],
   "source": [
    "optimizer.maximize(3,2)"
   ]
  },
  {
   "cell_type": "markdown",
   "metadata": {
    "colab_type": "text",
    "id": "tyKFMF2Hq2Sx"
   },
   "source": [
    "Great, now let's print the best parameters and the associated maximized target."
   ]
  },
  {
   "cell_type": "code",
   "execution_count": 8,
   "metadata": {
    "colab": {
     "base_uri": "https://localhost:8080/",
     "height": 51
    },
    "colab_type": "code",
    "id": "_H6DixyfscV_",
    "outputId": "fd0c35d7-e30d-4d30-9ab2-12c0fa837971"
   },
   "outputs": [
    {
     "name": "stdout",
     "output_type": "stream",
     "text": [
      "{'a': 3.0, 'b': 6.0555152083113075}\n"
     ]
    },
    {
     "data": {
      "text/plain": [
       "9.055515208311308"
      ]
     },
     "execution_count": 8,
     "metadata": {},
     "output_type": "execute_result"
    }
   ],
   "source": [
    "print(optimizer.max['params']);optimizer.max['target']"
   ]
  },
  {
   "cell_type": "markdown",
   "metadata": {
    "colab_type": "text",
    "id": "tQ1T1V6Mspi4"
   },
   "source": [
    "## Test it on real data using the Light GBM"
   ]
  },
  {
   "cell_type": "markdown",
   "metadata": {
    "colab_type": "text",
    "id": "y_oGwREZkm4h"
   },
   "source": [
    "The dataset we will be working with is the famous flight departures dataset. Our modeling goal will be to predict if a flight departure is going to be delayed by 15 minutes based on the other attributes in our dataset. As part of this modeling exercise, we will use Bayesian hyperparameter optimization to identify the best parameters for our model."
   ]
  },
  {
   "cell_type": "markdown",
   "metadata": {
    "colab_type": "text",
    "id": "abYSagjQANDZ"
   },
   "source": [
    "**<font color='teal'> You can load the zipped csv files just as you would regular csv files using Pandas read_csv. In the next cell load the train and test data into two seperate dataframes. </font>**\n"
   ]
  },
  {
   "cell_type": "code",
   "execution_count": 9,
   "metadata": {
    "colab": {},
    "colab_type": "code",
    "id": "EWKBApVuAeJe"
   },
   "outputs": [],
   "source": [
    "train_df = pd.read_csv('flight_delays_train.csv.zip')\n",
    "test_df = pd.read_csv('flight_delays_test.csv.zip')"
   ]
  },
  {
   "cell_type": "markdown",
   "metadata": {
    "colab_type": "text",
    "id": "OapNcT9Eikis"
   },
   "source": [
    "**<font color='teal'> Print the top five rows of the train dataframe and review the columns in the data. </font>**"
   ]
  },
  {
   "cell_type": "code",
   "execution_count": 10,
   "metadata": {
    "colab": {
     "base_uri": "https://localhost:8080/",
     "height": 204
    },
    "colab_type": "code",
    "id": "__4cXZ8iiYaC",
    "outputId": "8718ad4b-8955-486c-9ae8-1dee6aa6c2fb"
   },
   "outputs": [
    {
     "data": {
      "text/html": [
       "<div>\n",
       "<style scoped>\n",
       "    .dataframe tbody tr th:only-of-type {\n",
       "        vertical-align: middle;\n",
       "    }\n",
       "\n",
       "    .dataframe tbody tr th {\n",
       "        vertical-align: top;\n",
       "    }\n",
       "\n",
       "    .dataframe thead th {\n",
       "        text-align: right;\n",
       "    }\n",
       "</style>\n",
       "<table border=\"1\" class=\"dataframe\">\n",
       "  <thead>\n",
       "    <tr style=\"text-align: right;\">\n",
       "      <th></th>\n",
       "      <th>Month</th>\n",
       "      <th>DayofMonth</th>\n",
       "      <th>DayOfWeek</th>\n",
       "      <th>DepTime</th>\n",
       "      <th>UniqueCarrier</th>\n",
       "      <th>Origin</th>\n",
       "      <th>Dest</th>\n",
       "      <th>Distance</th>\n",
       "      <th>dep_delayed_15min</th>\n",
       "    </tr>\n",
       "  </thead>\n",
       "  <tbody>\n",
       "    <tr>\n",
       "      <th>0</th>\n",
       "      <td>c-8</td>\n",
       "      <td>c-21</td>\n",
       "      <td>c-7</td>\n",
       "      <td>1934</td>\n",
       "      <td>AA</td>\n",
       "      <td>ATL</td>\n",
       "      <td>DFW</td>\n",
       "      <td>732</td>\n",
       "      <td>N</td>\n",
       "    </tr>\n",
       "    <tr>\n",
       "      <th>1</th>\n",
       "      <td>c-4</td>\n",
       "      <td>c-20</td>\n",
       "      <td>c-3</td>\n",
       "      <td>1548</td>\n",
       "      <td>US</td>\n",
       "      <td>PIT</td>\n",
       "      <td>MCO</td>\n",
       "      <td>834</td>\n",
       "      <td>N</td>\n",
       "    </tr>\n",
       "    <tr>\n",
       "      <th>2</th>\n",
       "      <td>c-9</td>\n",
       "      <td>c-2</td>\n",
       "      <td>c-5</td>\n",
       "      <td>1422</td>\n",
       "      <td>XE</td>\n",
       "      <td>RDU</td>\n",
       "      <td>CLE</td>\n",
       "      <td>416</td>\n",
       "      <td>N</td>\n",
       "    </tr>\n",
       "    <tr>\n",
       "      <th>3</th>\n",
       "      <td>c-11</td>\n",
       "      <td>c-25</td>\n",
       "      <td>c-6</td>\n",
       "      <td>1015</td>\n",
       "      <td>OO</td>\n",
       "      <td>DEN</td>\n",
       "      <td>MEM</td>\n",
       "      <td>872</td>\n",
       "      <td>N</td>\n",
       "    </tr>\n",
       "    <tr>\n",
       "      <th>4</th>\n",
       "      <td>c-10</td>\n",
       "      <td>c-7</td>\n",
       "      <td>c-6</td>\n",
       "      <td>1828</td>\n",
       "      <td>WN</td>\n",
       "      <td>MDW</td>\n",
       "      <td>OMA</td>\n",
       "      <td>423</td>\n",
       "      <td>Y</td>\n",
       "    </tr>\n",
       "  </tbody>\n",
       "</table>\n",
       "</div>"
      ],
      "text/plain": [
       "  Month DayofMonth DayOfWeek  DepTime UniqueCarrier Origin Dest  Distance  \\\n",
       "0   c-8       c-21       c-7     1934            AA    ATL  DFW       732   \n",
       "1   c-4       c-20       c-3     1548            US    PIT  MCO       834   \n",
       "2   c-9        c-2       c-5     1422            XE    RDU  CLE       416   \n",
       "3  c-11       c-25       c-6     1015            OO    DEN  MEM       872   \n",
       "4  c-10        c-7       c-6     1828            WN    MDW  OMA       423   \n",
       "\n",
       "  dep_delayed_15min  \n",
       "0                 N  \n",
       "1                 N  \n",
       "2                 N  \n",
       "3                 N  \n",
       "4                 Y  "
      ]
     },
     "execution_count": 10,
     "metadata": {},
     "output_type": "execute_result"
    }
   ],
   "source": [
    "train_df.head()"
   ]
  },
  {
   "cell_type": "markdown",
   "metadata": {
    "colab_type": "text",
    "id": "UxGBsPQhffgd"
   },
   "source": [
    "**<font color='teal'> Use the describe function to review the numeric columns in the train dataframe. </font>**"
   ]
  },
  {
   "cell_type": "code",
   "execution_count": 11,
   "metadata": {
    "colab": {
     "base_uri": "https://localhost:8080/",
     "height": 297
    },
    "colab_type": "code",
    "id": "_bRRKG3DAtae",
    "outputId": "7cfb9975-ec97-422c-abbd-98923a0b7aec"
   },
   "outputs": [
    {
     "data": {
      "text/html": [
       "<div>\n",
       "<style scoped>\n",
       "    .dataframe tbody tr th:only-of-type {\n",
       "        vertical-align: middle;\n",
       "    }\n",
       "\n",
       "    .dataframe tbody tr th {\n",
       "        vertical-align: top;\n",
       "    }\n",
       "\n",
       "    .dataframe thead th {\n",
       "        text-align: right;\n",
       "    }\n",
       "</style>\n",
       "<table border=\"1\" class=\"dataframe\">\n",
       "  <thead>\n",
       "    <tr style=\"text-align: right;\">\n",
       "      <th></th>\n",
       "      <th>count</th>\n",
       "      <th>mean</th>\n",
       "      <th>std</th>\n",
       "      <th>min</th>\n",
       "      <th>25%</th>\n",
       "      <th>50%</th>\n",
       "      <th>75%</th>\n",
       "      <th>max</th>\n",
       "    </tr>\n",
       "  </thead>\n",
       "  <tbody>\n",
       "    <tr>\n",
       "      <th>DepTime</th>\n",
       "      <td>100000.0</td>\n",
       "      <td>1341.52388</td>\n",
       "      <td>476.378445</td>\n",
       "      <td>1.0</td>\n",
       "      <td>931.0</td>\n",
       "      <td>1330.0</td>\n",
       "      <td>1733.0</td>\n",
       "      <td>2534.0</td>\n",
       "    </tr>\n",
       "    <tr>\n",
       "      <th>Distance</th>\n",
       "      <td>100000.0</td>\n",
       "      <td>729.39716</td>\n",
       "      <td>574.616860</td>\n",
       "      <td>30.0</td>\n",
       "      <td>317.0</td>\n",
       "      <td>575.0</td>\n",
       "      <td>957.0</td>\n",
       "      <td>4962.0</td>\n",
       "    </tr>\n",
       "  </tbody>\n",
       "</table>\n",
       "</div>"
      ],
      "text/plain": [
       "             count        mean         std   min    25%     50%     75%  \\\n",
       "DepTime   100000.0  1341.52388  476.378445   1.0  931.0  1330.0  1733.0   \n",
       "Distance  100000.0   729.39716  574.616860  30.0  317.0   575.0   957.0   \n",
       "\n",
       "             max  \n",
       "DepTime   2534.0  \n",
       "Distance  4962.0  "
      ]
     },
     "execution_count": 11,
     "metadata": {},
     "output_type": "execute_result"
    }
   ],
   "source": [
    "train_df.describe().T"
   ]
  },
  {
   "cell_type": "markdown",
   "metadata": {
    "colab_type": "text",
    "id": "i6k-_fI5Aiyh"
   },
   "source": [
    "Notice, `DepTime` is the departure time in a numeric representation in 2400 hours. "
   ]
  },
  {
   "cell_type": "markdown",
   "metadata": {
    "colab_type": "text",
    "id": "gtZS4-hrlQah"
   },
   "source": [
    " **<font color='teal'>The response variable is 'dep_delayed_15min' which is a categorical column, so we need to map the Y for yes and N for no values to 1 and 0. Run the code in the next cell to do this.</font>**"
   ]
  },
  {
   "cell_type": "code",
   "execution_count": 12,
   "metadata": {
    "ExecuteTime": {
     "end_time": "2019-04-22T15:38:42.677690Z",
     "start_time": "2019-04-22T15:38:42.481963Z"
    },
    "colab": {},
    "colab_type": "code",
    "id": "yRlOTbnW-KYc"
   },
   "outputs": [],
   "source": [
    "#train_df = train_df[train_df.DepTime <= 2400].copy()\n",
    "y = train_df['dep_delayed_15min'].map({'Y': 1, 'N': 0}).values"
   ]
  },
  {
   "cell_type": "markdown",
   "metadata": {
    "colab_type": "text",
    "id": "z3WPkFQO9uo9"
   },
   "source": [
    "## Feature Engineering\n",
    "Use these defined functions to create additional features for the model. Run the cell to add the functions to your workspace."
   ]
  },
  {
   "cell_type": "code",
   "execution_count": 13,
   "metadata": {
    "colab": {},
    "colab_type": "code",
    "id": "cXqsqz5W9t3r"
   },
   "outputs": [],
   "source": [
    "def label_enc(df_column):\n",
    "    df_column = LabelEncoder().fit_transform(df_column)\n",
    "    return df_column\n",
    "\n",
    "def make_harmonic_features_sin(value, period=2400):\n",
    "    value *= 2 * np.pi / period \n",
    "    return np.sin(value)\n",
    "\n",
    "def make_harmonic_features_cos(value, period=2400):\n",
    "    value *= 2 * np.pi / period \n",
    "    return np.cos(value)\n",
    "\n",
    "def feature_eng(df):\n",
    "    df['flight'] = df['Origin']+df['Dest']\n",
    "    df['Month'] = df.Month.map(lambda x: x.split('-')[-1]).astype('int32')\n",
    "    df['DayofMonth'] = df.DayofMonth.map(lambda x: x.split('-')[-1]).astype('uint8')\n",
    "    df['begin_of_month'] = (df['DayofMonth'] < 10).astype('uint8')\n",
    "    df['midddle_of_month'] = ((df['DayofMonth'] >= 10)&(df['DayofMonth'] < 20)).astype('uint8')\n",
    "    df['end_of_month'] = (df['DayofMonth'] >= 20).astype('uint8')\n",
    "    df['DayOfWeek'] = df.DayOfWeek.map(lambda x: x.split('-')[-1]).astype('uint8')\n",
    "    df['hour'] = df.DepTime.map(lambda x: x/100).astype('int32')\n",
    "    df['morning'] = df['hour'].map(lambda x: 1 if (x <= 11)& (x >= 7) else 0).astype('uint8')\n",
    "    df['day'] = df['hour'].map(lambda x: 1 if (x >= 12) & (x <= 18) else 0).astype('uint8')\n",
    "    df['evening'] = df['hour'].map(lambda x: 1 if (x >= 19) & (x <= 23) else 0).astype('uint8')\n",
    "    df['night'] = df['hour'].map(lambda x: 1 if (x >= 0) & (x <= 6) else 0).astype('int32')\n",
    "    df['winter'] = df['Month'].map(lambda x: x in [12, 1, 2]).astype('int32')\n",
    "    df['spring'] = df['Month'].map(lambda x: x in [3, 4, 5]).astype('int32')\n",
    "    df['summer'] = df['Month'].map(lambda x: x in [6, 7, 8]).astype('int32')\n",
    "    df['autumn'] = df['Month'].map(lambda x: x in [9, 10, 11]).astype('int32')\n",
    "    df['holiday'] = (df['DayOfWeek'] >= 5).astype(int) \n",
    "    df['weekday'] = (df['DayOfWeek'] < 5).astype(int)\n",
    "    df['airport_dest_per_month'] = df.groupby(['Dest', 'Month'])['Dest'].transform('count')\n",
    "    df['airport_origin_per_month'] = df.groupby(['Origin', 'Month'])['Origin'].transform('count')\n",
    "    df['airport_dest_count'] = df.groupby(['Dest'])['Dest'].transform('count')\n",
    "    df['airport_origin_count'] = df.groupby(['Origin'])['Origin'].transform('count')\n",
    "    df['carrier_count'] = df.groupby(['UniqueCarrier'])['Dest'].transform('count')\n",
    "    df['carrier_count_per month'] = df.groupby(['UniqueCarrier', 'Month'])['Dest'].transform('count')\n",
    "    df['deptime_cos'] = df['DepTime'].map(make_harmonic_features_cos)\n",
    "    df['deptime_sin'] = df['DepTime'].map(make_harmonic_features_sin)\n",
    "    df['flightUC'] = df['flight']+df['UniqueCarrier']\n",
    "    df['DestUC'] = df['Dest']+df['UniqueCarrier']\n",
    "    df['OriginUC'] = df['Origin']+df['UniqueCarrier']\n",
    "    return df.drop('DepTime', axis=1)"
   ]
  },
  {
   "cell_type": "markdown",
   "metadata": {
    "colab_type": "text",
    "id": "-BYbxXpU-FGE"
   },
   "source": [
    "Concatenate the training and testing dataframes.\n"
   ]
  },
  {
   "cell_type": "code",
   "execution_count": 14,
   "metadata": {
    "colab": {},
    "colab_type": "code",
    "id": "Cj6bfSNw_RAf"
   },
   "outputs": [],
   "source": [
    "full_df = pd.concat([train_df.drop('dep_delayed_15min', axis=1), test_df])\n",
    "full_df = feature_eng(full_df)"
   ]
  },
  {
   "cell_type": "markdown",
   "metadata": {
    "colab_type": "text",
    "id": "GSO8JbfM_W-F"
   },
   "source": [
    "Apply the earlier defined feature engineering functions to the full dataframe."
   ]
  },
  {
   "cell_type": "code",
   "execution_count": 15,
   "metadata": {
    "colab": {},
    "colab_type": "code",
    "id": "x6RfAINftjwi"
   },
   "outputs": [],
   "source": [
    "for column in ['UniqueCarrier', 'Origin', 'Dest','flight',  'flightUC', 'DestUC', 'OriginUC']:\n",
    "    full_df[column] = label_enc(full_df[column])"
   ]
  },
  {
   "cell_type": "code",
   "execution_count": 16,
   "metadata": {},
   "outputs": [
    {
     "data": {
      "text/html": [
       "<div>\n",
       "<style scoped>\n",
       "    .dataframe tbody tr th:only-of-type {\n",
       "        vertical-align: middle;\n",
       "    }\n",
       "\n",
       "    .dataframe tbody tr th {\n",
       "        vertical-align: top;\n",
       "    }\n",
       "\n",
       "    .dataframe thead th {\n",
       "        text-align: right;\n",
       "    }\n",
       "</style>\n",
       "<table border=\"1\" class=\"dataframe\">\n",
       "  <thead>\n",
       "    <tr style=\"text-align: right;\">\n",
       "      <th></th>\n",
       "      <th>Month</th>\n",
       "      <th>DayofMonth</th>\n",
       "      <th>DayOfWeek</th>\n",
       "      <th>UniqueCarrier</th>\n",
       "      <th>Origin</th>\n",
       "      <th>Dest</th>\n",
       "      <th>Distance</th>\n",
       "      <th>flight</th>\n",
       "      <th>begin_of_month</th>\n",
       "      <th>midddle_of_month</th>\n",
       "      <th>...</th>\n",
       "      <th>airport_origin_per_month</th>\n",
       "      <th>airport_dest_count</th>\n",
       "      <th>airport_origin_count</th>\n",
       "      <th>carrier_count</th>\n",
       "      <th>carrier_count_per month</th>\n",
       "      <th>deptime_cos</th>\n",
       "      <th>deptime_sin</th>\n",
       "      <th>flightUC</th>\n",
       "      <th>DestUC</th>\n",
       "      <th>OriginUC</th>\n",
       "    </tr>\n",
       "  </thead>\n",
       "  <tbody>\n",
       "    <tr>\n",
       "      <th>0</th>\n",
       "      <td>8</td>\n",
       "      <td>21</td>\n",
       "      <td>7</td>\n",
       "      <td>1</td>\n",
       "      <td>19</td>\n",
       "      <td>82</td>\n",
       "      <td>732</td>\n",
       "      <td>171</td>\n",
       "      <td>0</td>\n",
       "      <td>0</td>\n",
       "      <td>...</td>\n",
       "      <td>1019</td>\n",
       "      <td>8290</td>\n",
       "      <td>11387</td>\n",
       "      <td>18024</td>\n",
       "      <td>1569</td>\n",
       "      <td>0.343660</td>\n",
       "      <td>-0.939094</td>\n",
       "      <td>265</td>\n",
       "      <td>494</td>\n",
       "      <td>67</td>\n",
       "    </tr>\n",
       "    <tr>\n",
       "      <th>1</th>\n",
       "      <td>4</td>\n",
       "      <td>20</td>\n",
       "      <td>3</td>\n",
       "      <td>19</td>\n",
       "      <td>226</td>\n",
       "      <td>180</td>\n",
       "      <td>834</td>\n",
       "      <td>3986</td>\n",
       "      <td>0</td>\n",
       "      <td>0</td>\n",
       "      <td>...</td>\n",
       "      <td>105</td>\n",
       "      <td>3523</td>\n",
       "      <td>1390</td>\n",
       "      <td>13069</td>\n",
       "      <td>1094</td>\n",
       "      <td>-0.612907</td>\n",
       "      <td>-0.790155</td>\n",
       "      <td>6907</td>\n",
       "      <td>1085</td>\n",
       "      <td>1441</td>\n",
       "    </tr>\n",
       "    <tr>\n",
       "      <th>2</th>\n",
       "      <td>9</td>\n",
       "      <td>2</td>\n",
       "      <td>5</td>\n",
       "      <td>21</td>\n",
       "      <td>239</td>\n",
       "      <td>62</td>\n",
       "      <td>416</td>\n",
       "      <td>4091</td>\n",
       "      <td>1</td>\n",
       "      <td>0</td>\n",
       "      <td>...</td>\n",
       "      <td>136</td>\n",
       "      <td>2247</td>\n",
       "      <td>1747</td>\n",
       "      <td>11737</td>\n",
       "      <td>977</td>\n",
       "      <td>-0.835807</td>\n",
       "      <td>-0.549023</td>\n",
       "      <td>7064</td>\n",
       "      <td>359</td>\n",
       "      <td>1518</td>\n",
       "    </tr>\n",
       "    <tr>\n",
       "      <th>3</th>\n",
       "      <td>11</td>\n",
       "      <td>25</td>\n",
       "      <td>6</td>\n",
       "      <td>16</td>\n",
       "      <td>81</td>\n",
       "      <td>184</td>\n",
       "      <td>872</td>\n",
       "      <td>1304</td>\n",
       "      <td>0</td>\n",
       "      <td>0</td>\n",
       "      <td>...</td>\n",
       "      <td>514</td>\n",
       "      <td>1785</td>\n",
       "      <td>6222</td>\n",
       "      <td>15343</td>\n",
       "      <td>1242</td>\n",
       "      <td>-0.884988</td>\n",
       "      <td>0.465615</td>\n",
       "      <td>2258</td>\n",
       "      <td>1122</td>\n",
       "      <td>484</td>\n",
       "    </tr>\n",
       "    <tr>\n",
       "      <th>4</th>\n",
       "      <td>10</td>\n",
       "      <td>7</td>\n",
       "      <td>6</td>\n",
       "      <td>20</td>\n",
       "      <td>182</td>\n",
       "      <td>210</td>\n",
       "      <td>423</td>\n",
       "      <td>2979</td>\n",
       "      <td>1</td>\n",
       "      <td>0</td>\n",
       "      <td>...</td>\n",
       "      <td>226</td>\n",
       "      <td>687</td>\n",
       "      <td>2571</td>\n",
       "      <td>30958</td>\n",
       "      <td>2674</td>\n",
       "      <td>0.073238</td>\n",
       "      <td>-0.997314</td>\n",
       "      <td>5144</td>\n",
       "      <td>1313</td>\n",
       "      <td>1103</td>\n",
       "    </tr>\n",
       "  </tbody>\n",
       "</table>\n",
       "<p>5 rows × 33 columns</p>\n",
       "</div>"
      ],
      "text/plain": [
       "   Month  DayofMonth  DayOfWeek  UniqueCarrier  Origin  Dest  Distance  \\\n",
       "0      8          21          7              1      19    82       732   \n",
       "1      4          20          3             19     226   180       834   \n",
       "2      9           2          5             21     239    62       416   \n",
       "3     11          25          6             16      81   184       872   \n",
       "4     10           7          6             20     182   210       423   \n",
       "\n",
       "   flight  begin_of_month  midddle_of_month  ...  airport_origin_per_month  \\\n",
       "0     171               0                 0  ...                      1019   \n",
       "1    3986               0                 0  ...                       105   \n",
       "2    4091               1                 0  ...                       136   \n",
       "3    1304               0                 0  ...                       514   \n",
       "4    2979               1                 0  ...                       226   \n",
       "\n",
       "   airport_dest_count  airport_origin_count  carrier_count  \\\n",
       "0                8290                 11387          18024   \n",
       "1                3523                  1390          13069   \n",
       "2                2247                  1747          11737   \n",
       "3                1785                  6222          15343   \n",
       "4                 687                  2571          30958   \n",
       "\n",
       "   carrier_count_per month  deptime_cos  deptime_sin  flightUC  DestUC  \\\n",
       "0                     1569     0.343660    -0.939094       265     494   \n",
       "1                     1094    -0.612907    -0.790155      6907    1085   \n",
       "2                      977    -0.835807    -0.549023      7064     359   \n",
       "3                     1242    -0.884988     0.465615      2258    1122   \n",
       "4                     2674     0.073238    -0.997314      5144    1313   \n",
       "\n",
       "   OriginUC  \n",
       "0        67  \n",
       "1      1441  \n",
       "2      1518  \n",
       "3       484  \n",
       "4      1103  \n",
       "\n",
       "[5 rows x 33 columns]"
      ]
     },
     "execution_count": 16,
     "metadata": {},
     "output_type": "execute_result"
    }
   ],
   "source": [
    "full_df.head()"
   ]
  },
  {
   "cell_type": "markdown",
   "metadata": {
    "colab_type": "text",
    "id": "IJAw1RGB_ZuM"
   },
   "source": [
    "\n",
    "Split the new full dataframe into X_train and X_test. "
   ]
  },
  {
   "cell_type": "code",
   "execution_count": 17,
   "metadata": {
    "colab": {},
    "colab_type": "code",
    "id": "15cPtQU5tjfz"
   },
   "outputs": [],
   "source": [
    "# Here I am doing slightly different\n",
    "# I am going to split the train data into train and test data (80-20) as I want to validate the model prediction at the end.\n",
    "from sklearn.model_selection import train_test_split \n",
    "X = full_df[:train_df.shape[0]]\n",
    "X_train, X_test, y_train, y_test = train_test_split(X, y, test_size=0.2)\n",
    "\n",
    "# X_new_data will be treated as new data for prediction.\n",
    "X_new_data = full_df[train_df.shape[0]:]"
   ]
  },
  {
   "cell_type": "markdown",
   "metadata": {
    "colab_type": "text",
    "id": "umfAw-9JErLV"
   },
   "source": [
    "Create a list of the categorical features."
   ]
  },
  {
   "cell_type": "code",
   "execution_count": 18,
   "metadata": {
    "ExecuteTime": {
     "end_time": "2019-04-22T14:31:58.412296Z",
     "start_time": "2019-04-22T14:31:58.409088Z"
    },
    "colab": {},
    "colab_type": "code",
    "id": "5ibeVyNb-KZI"
   },
   "outputs": [],
   "source": [
    "categorical_features = ['Month',  'DayOfWeek', 'UniqueCarrier', 'Origin', 'Dest','flight',  'flightUC', 'DestUC', 'OriginUC']"
   ]
  },
  {
   "cell_type": "markdown",
   "metadata": {
    "colab_type": "text",
    "id": "NzMIsMPIETVk"
   },
   "source": [
    "Let's build a light GBM model to test the bayesian optimizer."
   ]
  },
  {
   "cell_type": "markdown",
   "metadata": {
    "ExecuteTime": {
     "end_time": "2019-04-22T15:18:04.466965Z",
     "start_time": "2019-04-22T15:18:04.457992Z"
    },
    "colab_type": "text",
    "id": "2hfm1i5G-KZH"
   },
   "source": [
    "### [LightGBM](https://lightgbm.readthedocs.io/en/latest/) is a gradient boosting framework that uses tree-based learning algorithms. It is designed to be distributed and efficient with the following advantages:\n",
    "\n",
    "* Faster training speed and higher efficiency.\n",
    "* Lower memory usage.\n",
    "* Better accuracy.\n",
    "* Support of parallel and GPU learning.\n",
    "* Capable of handling large-scale data."
   ]
  },
  {
   "cell_type": "markdown",
   "metadata": {
    "colab_type": "text",
    "id": "jf-3F2Wg-KZL"
   },
   "source": [
    "First, we define the function we want to maximize and that will count cross-validation metrics of lightGBM for our parameters.\n",
    "\n",
    "Some params such as num_leaves, max_depth, min_child_samples, min_data_in_leaf should be integers."
   ]
  },
  {
   "cell_type": "code",
   "execution_count": 19,
   "metadata": {
    "ExecuteTime": {
     "end_time": "2019-04-22T15:40:14.034265Z",
     "start_time": "2019-04-22T15:40:14.027868Z"
    },
    "colab": {},
    "colab_type": "code",
    "id": "LyUJBhGX-KZM"
   },
   "outputs": [],
   "source": [
    "def lgb_eval(num_leaves,max_depth,lambda_l2,lambda_l1,min_child_samples, min_data_in_leaf):\n",
    "    params = {\n",
    "        \"objective\" : \"binary\",\n",
    "        \"metric\" : \"auc\", \n",
    "        'is_unbalance': True,\n",
    "        \"num_leaves\" : int(num_leaves),\n",
    "        \"max_depth\" : int(max_depth),\n",
    "        \"lambda_l2\" : lambda_l2,\n",
    "        \"lambda_l1\" : lambda_l1,\n",
    "        \"num_threads\" : 20,\n",
    "        \"min_child_samples\" : int(min_child_samples),\n",
    "        'min_data_in_leaf': int(min_data_in_leaf),\n",
    "        \"learning_rate\" : 0.03,\n",
    "        \"subsample_freq\" : 5,\n",
    "        \"bagging_seed\" : 42,\n",
    "        \"verbosity\" : -1\n",
    "    }\n",
    "    \n",
    "    lgtrain = lightgbm.Dataset(X_train, y_train,categorical_feature=categorical_features)\n",
    "    cv_result = lightgbm.cv(params,\n",
    "                       lgtrain,\n",
    "                       1000,\n",
    "                       early_stopping_rounds=100,\n",
    "                       stratified=True,\n",
    "                       nfold=3)\n",
    "    return cv_result['auc-mean'][-1]"
   ]
  },
  {
   "cell_type": "markdown",
   "metadata": {
    "colab_type": "text",
    "id": "FJwqBhdeF11Q"
   },
   "source": [
    "Apply the Bayesian optimizer to the function we created in the previous step to identify the best hyperparameters. We will run 10 iterations and set init_points = 2.\n"
   ]
  },
  {
   "cell_type": "code",
   "execution_count": 20,
   "metadata": {
    "ExecuteTime": {
     "end_time": "2019-04-22T15:48:04.682447Z",
     "start_time": "2019-04-22T15:40:14.641634Z"
    },
    "colab": {
     "base_uri": "https://localhost:8080/",
     "height": 51
    },
    "colab_type": "code",
    "id": "JheCOkUE-KZP",
    "outputId": "8f37ee51-885d-44e4-cdcd-ceb7abd58b61"
   },
   "outputs": [
    {
     "name": "stdout",
     "output_type": "stream",
     "text": [
      "|   iter    |  target   | lambda_l1 | lambda_l2 | max_depth | min_ch... | min_da... | num_le... |\n",
      "-------------------------------------------------------------------------------------------------\n",
      "[LightGBM] [Warning] min_data_in_leaf is set=370, min_child_samples=3590 will be ignored. Current value: min_data_in_leaf=370\n",
      "| \u001b[0m 1       \u001b[0m | \u001b[0m 0.7186  \u001b[0m | \u001b[0m 0.006594\u001b[0m | \u001b[0m 0.04423 \u001b[0m | \u001b[0m 9.09    \u001b[0m | \u001b[0m 3.59e+03\u001b[0m | \u001b[0m 370.2   \u001b[0m | \u001b[0m 536.6   \u001b[0m |\n",
      "| \u001b[95m 2       \u001b[0m | \u001b[95m 0.7251  \u001b[0m | \u001b[95m 0.01132 \u001b[0m | \u001b[95m 0.03559 \u001b[0m | \u001b[95m 20.29   \u001b[0m | \u001b[95m 835.7   \u001b[0m | \u001b[95m 733.1   \u001b[0m | \u001b[95m 2.708e+0\u001b[0m |\n",
      "| \u001b[95m 3       \u001b[0m | \u001b[95m 0.7254  \u001b[0m | \u001b[95m 0.006095\u001b[0m | \u001b[95m 0.04302 \u001b[0m | \u001b[95m 61.87   \u001b[0m | \u001b[95m 2.692e+0\u001b[0m | \u001b[95m 756.1   \u001b[0m | \u001b[95m 3.618e+0\u001b[0m |\n",
      "| \u001b[95m 4       \u001b[0m | \u001b[95m 0.7414  \u001b[0m | \u001b[95m 0.01424 \u001b[0m | \u001b[95m 0.02649 \u001b[0m | \u001b[95m 21.34   \u001b[0m | \u001b[95m 1.473e+0\u001b[0m | \u001b[95m 1.88e+03\u001b[0m | \u001b[95m 3.966e+0\u001b[0m |\n",
      "| \u001b[0m 5       \u001b[0m | \u001b[0m 0.7358  \u001b[0m | \u001b[0m 0.0225  \u001b[0m | \u001b[0m 0.03963 \u001b[0m | \u001b[0m 42.0    \u001b[0m | \u001b[0m 6.071e+0\u001b[0m | \u001b[0m 896.4   \u001b[0m | \u001b[0m 2.079e+0\u001b[0m |\n",
      "| \u001b[0m 6       \u001b[0m | \u001b[0m 0.7185  \u001b[0m | \u001b[0m 0.002319\u001b[0m | \u001b[0m 0.02075 \u001b[0m | \u001b[0m 54.12   \u001b[0m | \u001b[0m 6.97e+03\u001b[0m | \u001b[0m 385.4   \u001b[0m | \u001b[0m 87.41   \u001b[0m |\n",
      "| \u001b[95m 7       \u001b[0m | \u001b[95m 0.7415  \u001b[0m | \u001b[95m 0.04085 \u001b[0m | \u001b[95m 0.04897 \u001b[0m | \u001b[95m 48.26   \u001b[0m | \u001b[95m 8.379e+0\u001b[0m | \u001b[95m 1.915e+0\u001b[0m | \u001b[95m 877.6   \u001b[0m |\n",
      "| \u001b[95m 8       \u001b[0m | \u001b[95m 0.742   \u001b[0m | \u001b[95m 0.01226 \u001b[0m | \u001b[95m 0.02441 \u001b[0m | \u001b[95m 25.66   \u001b[0m | \u001b[95m 4.737e+0\u001b[0m | \u001b[95m 1.582e+0\u001b[0m | \u001b[95m 1.828e+0\u001b[0m |\n",
      "| \u001b[0m 9       \u001b[0m | \u001b[0m 0.742   \u001b[0m | \u001b[0m 0.0124  \u001b[0m | \u001b[0m 0.000385\u001b[0m | \u001b[0m 48.92   \u001b[0m | \u001b[0m 6.122e+0\u001b[0m | \u001b[0m 1.477e+0\u001b[0m | \u001b[0m 1.723e+0\u001b[0m |\n",
      "| \u001b[95m 10      \u001b[0m | \u001b[95m 0.7421  \u001b[0m | \u001b[95m 0.04145 \u001b[0m | \u001b[95m 0.001512\u001b[0m | \u001b[95m 31.77   \u001b[0m | \u001b[95m 6.043e+0\u001b[0m | \u001b[95m 1.477e+0\u001b[0m | \u001b[95m 1.632e+0\u001b[0m |\n",
      "| \u001b[0m 11      \u001b[0m | \u001b[0m 0.7414  \u001b[0m | \u001b[0m 0.03522 \u001b[0m | \u001b[0m 0.02661 \u001b[0m | \u001b[0m 58.23   \u001b[0m | \u001b[0m 8.206e+0\u001b[0m | \u001b[0m 1.971e+0\u001b[0m | \u001b[0m 2.332e+0\u001b[0m |\n",
      "| \u001b[0m 12      \u001b[0m | \u001b[0m 0.7417  \u001b[0m | \u001b[0m 0.04097 \u001b[0m | \u001b[0m 0.003078\u001b[0m | \u001b[0m 24.11   \u001b[0m | \u001b[0m 9.979e+0\u001b[0m | \u001b[0m 1.957e+0\u001b[0m | \u001b[0m 1.586e+0\u001b[0m |\n",
      "=================================================================================================\n"
     ]
    }
   ],
   "source": [
    "lgbBO = BayesianOptimization(lgb_eval, {'num_leaves': (25, 4000),\n",
    "                                                'max_depth': (5, 63),\n",
    "                                                'lambda_l2': (0.0, 0.05),\n",
    "                                                'lambda_l1': (0.0, 0.05),\n",
    "                                                'min_child_samples': (50, 10000),\n",
    "                                                'min_data_in_leaf': (100, 2000)\n",
    "                                                })\n",
    "\n",
    "lgbBO.maximize(n_iter=10, init_points=2)"
   ]
  },
  {
   "cell_type": "markdown",
   "metadata": {
    "colab_type": "text",
    "id": "rdkxhhST-KZS"
   },
   "source": [
    " **<font color='teal'> Print the best result by using the '.max' function.</font>**"
   ]
  },
  {
   "cell_type": "code",
   "execution_count": 21,
   "metadata": {
    "ExecuteTime": {
     "end_time": "2019-04-22T15:49:01.513767Z",
     "start_time": "2019-04-22T15:49:01.509392Z"
    },
    "colab": {},
    "colab_type": "code",
    "id": "oc8z6mfy-KZS"
   },
   "outputs": [
    {
     "data": {
      "text/plain": [
       "{'target': 0.7421140206786517,\n",
       " 'params': {'lambda_l1': 0.0414512432624737,\n",
       "  'lambda_l2': 0.0015120603276998325,\n",
       "  'max_depth': 31.771929131971923,\n",
       "  'min_child_samples': 6042.948494960009,\n",
       "  'min_data_in_leaf': 1476.9647935540422,\n",
       "  'num_leaves': 1632.4613720492332}}"
      ]
     },
     "execution_count": 21,
     "metadata": {},
     "output_type": "execute_result"
    }
   ],
   "source": [
    "lgbBO.max"
   ]
  },
  {
   "cell_type": "markdown",
   "metadata": {
    "ExecuteTime": {
     "end_time": "2019-04-22T15:50:29.049881Z",
     "start_time": "2019-04-22T15:50:29.045908Z"
    },
    "colab_type": "text",
    "id": "J5LAydKC-KZW"
   },
   "source": [
    "Review the process at each step by using the '.res[0]' function."
   ]
  },
  {
   "cell_type": "code",
   "execution_count": 22,
   "metadata": {
    "ExecuteTime": {
     "end_time": "2019-04-22T15:51:01.001688Z",
     "start_time": "2019-04-22T15:51:00.997484Z"
    },
    "colab": {},
    "colab_type": "code",
    "id": "X1ttZmrI-KZX"
   },
   "outputs": [
    {
     "data": {
      "text/plain": [
       "{'target': 0.7185896990191596,\n",
       " 'params': {'lambda_l1': 0.006593899207454169,\n",
       "  'lambda_l2': 0.04423282239799171,\n",
       "  'max_depth': 9.09019996785143,\n",
       "  'min_child_samples': 3590.264194735114,\n",
       "  'min_data_in_leaf': 370.2050123569801,\n",
       "  'num_leaves': 536.614479466117}}"
      ]
     },
     "execution_count": 22,
     "metadata": {},
     "output_type": "execute_result"
    }
   ],
   "source": [
    "lgbBO.res[0]"
   ]
  },
  {
   "cell_type": "code",
   "execution_count": 39,
   "metadata": {},
   "outputs": [],
   "source": [
    "#for i, res in enumerate(lgbBO.res):\n",
    "#    print(f\"Iteration {i}: {res}\")"
   ]
  },
  {
   "cell_type": "markdown",
   "metadata": {},
   "source": [
    " **<font color='blue'> We have found the best parameters to build the lightgbm model and validate this model.</font>** "
   ]
  },
  {
   "cell_type": "code",
   "execution_count": 25,
   "metadata": {},
   "outputs": [],
   "source": [
    "# Set the parameters for lightgbm with the best parameters from Bayesian Optimization\n",
    "params_best = {'lambda_l1': 0.043516670511739075,\n",
    "  'lambda_l2': 0.014437319843176906,\n",
    "  'max_depth': 45,\n",
    "  'min_child_samples': 8688.616754111028,\n",
    "  'min_data_in_leaf': 1415,\n",
    "  'num_leaves': 2342,\n",
    "  \"objective\" : \"binary\",\n",
    "  \"metric\" : \"auc\", \n",
    "  'is_unbalance': True,\n",
    "  \"num_threads\" : 20,\n",
    "  \"learning_rate\" : 0.03,\n",
    "  \"subsample_freq\" : 5,\n",
    "  \"bagging_seed\" : 42,\n",
    "  \"verbosity\" : -1}"
   ]
  },
  {
   "cell_type": "code",
   "execution_count": 26,
   "metadata": {},
   "outputs": [],
   "source": [
    "lgb_train = lightgbm.Dataset(X_train, y_train,categorical_feature=categorical_features)\n",
    "lgb_test = lightgbm.Dataset(X_test, label=y_test)"
   ]
  },
  {
   "cell_type": "code",
   "execution_count": 27,
   "metadata": {},
   "outputs": [
    {
     "name": "stdout",
     "output_type": "stream",
     "text": [
      "[1]\tvalid_0's auc: 0.706464\n",
      "Training until validation scores don't improve for 100 rounds\n",
      "[2]\tvalid_0's auc: 0.7117\n",
      "[3]\tvalid_0's auc: 0.714467\n",
      "[4]\tvalid_0's auc: 0.716901\n",
      "[5]\tvalid_0's auc: 0.718489\n",
      "[6]\tvalid_0's auc: 0.719947\n",
      "[7]\tvalid_0's auc: 0.720844\n",
      "[8]\tvalid_0's auc: 0.72196\n",
      "[9]\tvalid_0's auc: 0.722235\n",
      "[10]\tvalid_0's auc: 0.722955\n",
      "[11]\tvalid_0's auc: 0.723725\n",
      "[12]\tvalid_0's auc: 0.72398\n",
      "[13]\tvalid_0's auc: 0.724217\n",
      "[14]\tvalid_0's auc: 0.724562\n",
      "[15]\tvalid_0's auc: 0.724756\n",
      "[16]\tvalid_0's auc: 0.724842\n",
      "[17]\tvalid_0's auc: 0.725164\n",
      "[18]\tvalid_0's auc: 0.725351\n",
      "[19]\tvalid_0's auc: 0.725396\n",
      "[20]\tvalid_0's auc: 0.725521\n",
      "[21]\tvalid_0's auc: 0.725652\n",
      "[22]\tvalid_0's auc: 0.72612\n",
      "[23]\tvalid_0's auc: 0.726392\n",
      "[24]\tvalid_0's auc: 0.726611\n",
      "[25]\tvalid_0's auc: 0.726951\n",
      "[26]\tvalid_0's auc: 0.727273\n",
      "[27]\tvalid_0's auc: 0.72753\n",
      "[28]\tvalid_0's auc: 0.727657\n",
      "[29]\tvalid_0's auc: 0.727798\n",
      "[30]\tvalid_0's auc: 0.728007\n",
      "[31]\tvalid_0's auc: 0.728062\n",
      "[32]\tvalid_0's auc: 0.728156\n",
      "[33]\tvalid_0's auc: 0.72834\n",
      "[34]\tvalid_0's auc: 0.728542\n",
      "[35]\tvalid_0's auc: 0.728579\n",
      "[36]\tvalid_0's auc: 0.728597\n",
      "[37]\tvalid_0's auc: 0.728628\n",
      "[38]\tvalid_0's auc: 0.728661\n",
      "[39]\tvalid_0's auc: 0.728608\n",
      "[40]\tvalid_0's auc: 0.728622\n",
      "[41]\tvalid_0's auc: 0.728583\n",
      "[42]\tvalid_0's auc: 0.72849\n",
      "[43]\tvalid_0's auc: 0.728584\n",
      "[44]\tvalid_0's auc: 0.728837\n",
      "[45]\tvalid_0's auc: 0.728923\n",
      "[46]\tvalid_0's auc: 0.729038\n",
      "[47]\tvalid_0's auc: 0.729056\n",
      "[48]\tvalid_0's auc: 0.729153\n",
      "[49]\tvalid_0's auc: 0.729087\n",
      "[50]\tvalid_0's auc: 0.729154\n",
      "[51]\tvalid_0's auc: 0.729165\n",
      "[52]\tvalid_0's auc: 0.729321\n",
      "[53]\tvalid_0's auc: 0.729459\n",
      "[54]\tvalid_0's auc: 0.729509\n",
      "[55]\tvalid_0's auc: 0.729546\n",
      "[56]\tvalid_0's auc: 0.729626\n",
      "[57]\tvalid_0's auc: 0.729842\n",
      "[58]\tvalid_0's auc: 0.729933\n",
      "[59]\tvalid_0's auc: 0.729993\n",
      "[60]\tvalid_0's auc: 0.73012\n",
      "[61]\tvalid_0's auc: 0.730146\n",
      "[62]\tvalid_0's auc: 0.730207\n",
      "[63]\tvalid_0's auc: 0.730352\n",
      "[64]\tvalid_0's auc: 0.730424\n",
      "[65]\tvalid_0's auc: 0.730554\n",
      "[66]\tvalid_0's auc: 0.730572\n",
      "[67]\tvalid_0's auc: 0.730655\n",
      "[68]\tvalid_0's auc: 0.730642\n",
      "[69]\tvalid_0's auc: 0.730783\n",
      "[70]\tvalid_0's auc: 0.730822\n",
      "[71]\tvalid_0's auc: 0.730894\n",
      "[72]\tvalid_0's auc: 0.730921\n",
      "[73]\tvalid_0's auc: 0.731012\n",
      "[74]\tvalid_0's auc: 0.731059\n",
      "[75]\tvalid_0's auc: 0.731076\n",
      "[76]\tvalid_0's auc: 0.731128\n",
      "[77]\tvalid_0's auc: 0.731339\n",
      "[78]\tvalid_0's auc: 0.731361\n",
      "[79]\tvalid_0's auc: 0.731401\n",
      "[80]\tvalid_0's auc: 0.731454\n",
      "[81]\tvalid_0's auc: 0.731476\n",
      "[82]\tvalid_0's auc: 0.73161\n",
      "[83]\tvalid_0's auc: 0.731713\n",
      "[84]\tvalid_0's auc: 0.731836\n",
      "[85]\tvalid_0's auc: 0.731951\n",
      "[86]\tvalid_0's auc: 0.731941\n",
      "[87]\tvalid_0's auc: 0.732111\n",
      "[88]\tvalid_0's auc: 0.732062\n",
      "[89]\tvalid_0's auc: 0.732139\n",
      "[90]\tvalid_0's auc: 0.732174\n",
      "[91]\tvalid_0's auc: 0.73223\n",
      "[92]\tvalid_0's auc: 0.732437\n",
      "[93]\tvalid_0's auc: 0.732514\n",
      "[94]\tvalid_0's auc: 0.732506\n",
      "[95]\tvalid_0's auc: 0.7326\n",
      "[96]\tvalid_0's auc: 0.732587\n",
      "[97]\tvalid_0's auc: 0.732821\n",
      "[98]\tvalid_0's auc: 0.732868\n",
      "[99]\tvalid_0's auc: 0.73297\n",
      "[100]\tvalid_0's auc: 0.733175\n",
      "[101]\tvalid_0's auc: 0.733233\n",
      "[102]\tvalid_0's auc: 0.733329\n",
      "[103]\tvalid_0's auc: 0.733392\n",
      "[104]\tvalid_0's auc: 0.73351\n",
      "[105]\tvalid_0's auc: 0.733561\n",
      "[106]\tvalid_0's auc: 0.733704\n",
      "[107]\tvalid_0's auc: 0.73373\n",
      "[108]\tvalid_0's auc: 0.73382\n",
      "[109]\tvalid_0's auc: 0.733934\n",
      "[110]\tvalid_0's auc: 0.734014\n",
      "[111]\tvalid_0's auc: 0.734234\n",
      "[112]\tvalid_0's auc: 0.734499\n",
      "[113]\tvalid_0's auc: 0.734578\n",
      "[114]\tvalid_0's auc: 0.734791\n",
      "[115]\tvalid_0's auc: 0.734859\n",
      "[116]\tvalid_0's auc: 0.734967\n",
      "[117]\tvalid_0's auc: 0.735013\n",
      "[118]\tvalid_0's auc: 0.735146\n",
      "[119]\tvalid_0's auc: 0.735232\n",
      "[120]\tvalid_0's auc: 0.7353\n",
      "[121]\tvalid_0's auc: 0.735481\n",
      "[122]\tvalid_0's auc: 0.735602\n",
      "[123]\tvalid_0's auc: 0.735708\n",
      "[124]\tvalid_0's auc: 0.735724\n",
      "[125]\tvalid_0's auc: 0.73594\n",
      "[126]\tvalid_0's auc: 0.736006\n",
      "[127]\tvalid_0's auc: 0.736047\n",
      "[128]\tvalid_0's auc: 0.736209\n",
      "[129]\tvalid_0's auc: 0.736242\n",
      "[130]\tvalid_0's auc: 0.73639\n",
      "[131]\tvalid_0's auc: 0.736473\n",
      "[132]\tvalid_0's auc: 0.736778\n",
      "[133]\tvalid_0's auc: 0.73691\n",
      "[134]\tvalid_0's auc: 0.737112\n",
      "[135]\tvalid_0's auc: 0.737211\n",
      "[136]\tvalid_0's auc: 0.737273\n",
      "[137]\tvalid_0's auc: 0.737394\n",
      "[138]\tvalid_0's auc: 0.737452\n",
      "[139]\tvalid_0's auc: 0.737625\n",
      "[140]\tvalid_0's auc: 0.737711\n",
      "[141]\tvalid_0's auc: 0.737801\n",
      "[142]\tvalid_0's auc: 0.737856\n",
      "[143]\tvalid_0's auc: 0.73806\n",
      "[144]\tvalid_0's auc: 0.738075\n",
      "[145]\tvalid_0's auc: 0.73815\n",
      "[146]\tvalid_0's auc: 0.738183\n",
      "[147]\tvalid_0's auc: 0.738241\n",
      "[148]\tvalid_0's auc: 0.73832\n",
      "[149]\tvalid_0's auc: 0.738386\n",
      "[150]\tvalid_0's auc: 0.738456\n",
      "[151]\tvalid_0's auc: 0.738507\n",
      "[152]\tvalid_0's auc: 0.738568\n",
      "[153]\tvalid_0's auc: 0.738614\n",
      "[154]\tvalid_0's auc: 0.738796\n",
      "[155]\tvalid_0's auc: 0.738845\n",
      "[156]\tvalid_0's auc: 0.738867\n",
      "[157]\tvalid_0's auc: 0.738873\n",
      "[158]\tvalid_0's auc: 0.738907\n",
      "[159]\tvalid_0's auc: 0.738982\n",
      "[160]\tvalid_0's auc: 0.738977\n",
      "[161]\tvalid_0's auc: 0.739052\n",
      "[162]\tvalid_0's auc: 0.739105\n",
      "[163]\tvalid_0's auc: 0.73916\n",
      "[164]\tvalid_0's auc: 0.739144\n",
      "[165]\tvalid_0's auc: 0.739242\n",
      "[166]\tvalid_0's auc: 0.73923\n",
      "[167]\tvalid_0's auc: 0.73926\n",
      "[168]\tvalid_0's auc: 0.739325\n",
      "[169]\tvalid_0's auc: 0.739392\n",
      "[170]\tvalid_0's auc: 0.739613\n",
      "[171]\tvalid_0's auc: 0.739673\n",
      "[172]\tvalid_0's auc: 0.739741\n",
      "[173]\tvalid_0's auc: 0.739781\n",
      "[174]\tvalid_0's auc: 0.73993\n",
      "[175]\tvalid_0's auc: 0.739982\n",
      "[176]\tvalid_0's auc: 0.740007\n",
      "[177]\tvalid_0's auc: 0.740032\n",
      "[178]\tvalid_0's auc: 0.739982\n",
      "[179]\tvalid_0's auc: 0.74017\n",
      "[180]\tvalid_0's auc: 0.740206\n",
      "[181]\tvalid_0's auc: 0.74022\n",
      "[182]\tvalid_0's auc: 0.740245\n",
      "[183]\tvalid_0's auc: 0.740308\n",
      "[184]\tvalid_0's auc: 0.74032\n",
      "[185]\tvalid_0's auc: 0.740328\n",
      "[186]\tvalid_0's auc: 0.740432\n",
      "[187]\tvalid_0's auc: 0.740475\n",
      "[188]\tvalid_0's auc: 0.740552\n",
      "[189]\tvalid_0's auc: 0.740674\n",
      "[190]\tvalid_0's auc: 0.740806\n",
      "[191]\tvalid_0's auc: 0.740923\n",
      "[192]\tvalid_0's auc: 0.740943\n",
      "[193]\tvalid_0's auc: 0.74095\n",
      "[194]\tvalid_0's auc: 0.741047\n",
      "[195]\tvalid_0's auc: 0.74109\n",
      "[196]\tvalid_0's auc: 0.741148\n",
      "[197]\tvalid_0's auc: 0.74119\n",
      "[198]\tvalid_0's auc: 0.741241\n",
      "[199]\tvalid_0's auc: 0.741283\n",
      "[200]\tvalid_0's auc: 0.741332\n",
      "[201]\tvalid_0's auc: 0.74149\n",
      "[202]\tvalid_0's auc: 0.741432\n",
      "[203]\tvalid_0's auc: 0.741495\n",
      "[204]\tvalid_0's auc: 0.741531\n",
      "[205]\tvalid_0's auc: 0.74168\n",
      "[206]\tvalid_0's auc: 0.741723\n",
      "[207]\tvalid_0's auc: 0.741779\n",
      "[208]\tvalid_0's auc: 0.741835\n",
      "[209]\tvalid_0's auc: 0.741936\n",
      "[210]\tvalid_0's auc: 0.742\n",
      "[211]\tvalid_0's auc: 0.742083\n",
      "[212]\tvalid_0's auc: 0.742119\n",
      "[213]\tvalid_0's auc: 0.742099\n",
      "[214]\tvalid_0's auc: 0.742156\n",
      "[215]\tvalid_0's auc: 0.742305\n",
      "[216]\tvalid_0's auc: 0.742345\n",
      "[217]\tvalid_0's auc: 0.742397\n",
      "[218]\tvalid_0's auc: 0.742481\n",
      "[219]\tvalid_0's auc: 0.74249\n",
      "[220]\tvalid_0's auc: 0.742564\n",
      "[221]\tvalid_0's auc: 0.742577\n",
      "[222]\tvalid_0's auc: 0.742625\n",
      "[223]\tvalid_0's auc: 0.742617\n",
      "[224]\tvalid_0's auc: 0.742646\n",
      "[225]\tvalid_0's auc: 0.742771\n",
      "[226]\tvalid_0's auc: 0.742814\n",
      "[227]\tvalid_0's auc: 0.742901\n",
      "[228]\tvalid_0's auc: 0.742987\n",
      "[229]\tvalid_0's auc: 0.743091\n",
      "[230]\tvalid_0's auc: 0.743099\n",
      "[231]\tvalid_0's auc: 0.743208\n",
      "[232]\tvalid_0's auc: 0.743275\n",
      "[233]\tvalid_0's auc: 0.743274\n",
      "[234]\tvalid_0's auc: 0.74328\n",
      "[235]\tvalid_0's auc: 0.743375\n",
      "[236]\tvalid_0's auc: 0.743491\n",
      "[237]\tvalid_0's auc: 0.743561\n",
      "[238]\tvalid_0's auc: 0.743588\n",
      "[239]\tvalid_0's auc: 0.743624\n",
      "[240]\tvalid_0's auc: 0.743674\n",
      "[241]\tvalid_0's auc: 0.743695\n",
      "[242]\tvalid_0's auc: 0.74374\n",
      "[243]\tvalid_0's auc: 0.743775\n",
      "[244]\tvalid_0's auc: 0.743851\n",
      "[245]\tvalid_0's auc: 0.743922\n",
      "[246]\tvalid_0's auc: 0.743933\n",
      "[247]\tvalid_0's auc: 0.743964\n",
      "[248]\tvalid_0's auc: 0.743982\n",
      "[249]\tvalid_0's auc: 0.74402\n",
      "[250]\tvalid_0's auc: 0.744034\n",
      "[251]\tvalid_0's auc: 0.744066\n",
      "[252]\tvalid_0's auc: 0.74404\n",
      "[253]\tvalid_0's auc: 0.744057\n",
      "[254]\tvalid_0's auc: 0.744069\n",
      "[255]\tvalid_0's auc: 0.744112\n",
      "[256]\tvalid_0's auc: 0.744122\n",
      "[257]\tvalid_0's auc: 0.744182\n",
      "[258]\tvalid_0's auc: 0.744163\n",
      "[259]\tvalid_0's auc: 0.74418\n",
      "[260]\tvalid_0's auc: 0.74422\n",
      "[261]\tvalid_0's auc: 0.744222\n",
      "[262]\tvalid_0's auc: 0.744224\n",
      "[263]\tvalid_0's auc: 0.744289\n",
      "[264]\tvalid_0's auc: 0.744325\n",
      "[265]\tvalid_0's auc: 0.744366\n",
      "[266]\tvalid_0's auc: 0.744406\n",
      "[267]\tvalid_0's auc: 0.744429\n",
      "[268]\tvalid_0's auc: 0.744457\n",
      "[269]\tvalid_0's auc: 0.744517\n",
      "[270]\tvalid_0's auc: 0.74454\n",
      "[271]\tvalid_0's auc: 0.744517\n",
      "[272]\tvalid_0's auc: 0.74454\n",
      "[273]\tvalid_0's auc: 0.744554\n",
      "[274]\tvalid_0's auc: 0.744568\n",
      "[275]\tvalid_0's auc: 0.744563\n",
      "[276]\tvalid_0's auc: 0.744652\n",
      "[277]\tvalid_0's auc: 0.744655\n",
      "[278]\tvalid_0's auc: 0.744686\n",
      "[279]\tvalid_0's auc: 0.744716\n",
      "[280]\tvalid_0's auc: 0.744739\n",
      "[281]\tvalid_0's auc: 0.744757\n",
      "[282]\tvalid_0's auc: 0.744745\n",
      "[283]\tvalid_0's auc: 0.744763\n",
      "[284]\tvalid_0's auc: 0.744733\n"
     ]
    },
    {
     "name": "stdout",
     "output_type": "stream",
     "text": [
      "[285]\tvalid_0's auc: 0.744758\n",
      "[286]\tvalid_0's auc: 0.744837\n",
      "[287]\tvalid_0's auc: 0.744858\n",
      "[288]\tvalid_0's auc: 0.744887\n",
      "[289]\tvalid_0's auc: 0.744889\n",
      "[290]\tvalid_0's auc: 0.744862\n",
      "[291]\tvalid_0's auc: 0.744864\n",
      "[292]\tvalid_0's auc: 0.744866\n",
      "[293]\tvalid_0's auc: 0.74488\n",
      "[294]\tvalid_0's auc: 0.744863\n",
      "[295]\tvalid_0's auc: 0.744848\n",
      "[296]\tvalid_0's auc: 0.744889\n",
      "[297]\tvalid_0's auc: 0.744834\n",
      "[298]\tvalid_0's auc: 0.744844\n",
      "[299]\tvalid_0's auc: 0.744858\n",
      "[300]\tvalid_0's auc: 0.74483\n",
      "[301]\tvalid_0's auc: 0.744848\n",
      "[302]\tvalid_0's auc: 0.744868\n",
      "[303]\tvalid_0's auc: 0.744896\n",
      "[304]\tvalid_0's auc: 0.744999\n",
      "[305]\tvalid_0's auc: 0.745\n",
      "[306]\tvalid_0's auc: 0.745026\n",
      "[307]\tvalid_0's auc: 0.745047\n",
      "[308]\tvalid_0's auc: 0.745021\n",
      "[309]\tvalid_0's auc: 0.745015\n",
      "[310]\tvalid_0's auc: 0.745042\n",
      "[311]\tvalid_0's auc: 0.745024\n",
      "[312]\tvalid_0's auc: 0.745005\n",
      "[313]\tvalid_0's auc: 0.744986\n",
      "[314]\tvalid_0's auc: 0.74498\n",
      "[315]\tvalid_0's auc: 0.745012\n",
      "[316]\tvalid_0's auc: 0.744973\n",
      "[317]\tvalid_0's auc: 0.744975\n",
      "[318]\tvalid_0's auc: 0.744958\n",
      "[319]\tvalid_0's auc: 0.744987\n",
      "[320]\tvalid_0's auc: 0.745012\n",
      "[321]\tvalid_0's auc: 0.744989\n",
      "[322]\tvalid_0's auc: 0.745052\n",
      "[323]\tvalid_0's auc: 0.745077\n",
      "[324]\tvalid_0's auc: 0.745091\n",
      "[325]\tvalid_0's auc: 0.745029\n",
      "[326]\tvalid_0's auc: 0.745029\n",
      "[327]\tvalid_0's auc: 0.745049\n",
      "[328]\tvalid_0's auc: 0.745125\n",
      "[329]\tvalid_0's auc: 0.745125\n",
      "[330]\tvalid_0's auc: 0.745167\n",
      "[331]\tvalid_0's auc: 0.745182\n",
      "[332]\tvalid_0's auc: 0.745186\n",
      "[333]\tvalid_0's auc: 0.745207\n",
      "[334]\tvalid_0's auc: 0.745234\n",
      "[335]\tvalid_0's auc: 0.745259\n",
      "[336]\tvalid_0's auc: 0.745291\n",
      "[337]\tvalid_0's auc: 0.745276\n",
      "[338]\tvalid_0's auc: 0.745311\n",
      "[339]\tvalid_0's auc: 0.745326\n",
      "[340]\tvalid_0's auc: 0.745307\n",
      "[341]\tvalid_0's auc: 0.745324\n",
      "[342]\tvalid_0's auc: 0.745315\n",
      "[343]\tvalid_0's auc: 0.745281\n",
      "[344]\tvalid_0's auc: 0.745302\n",
      "[345]\tvalid_0's auc: 0.745286\n",
      "[346]\tvalid_0's auc: 0.745291\n",
      "[347]\tvalid_0's auc: 0.745281\n",
      "[348]\tvalid_0's auc: 0.745246\n",
      "[349]\tvalid_0's auc: 0.745249\n",
      "[350]\tvalid_0's auc: 0.745303\n",
      "[351]\tvalid_0's auc: 0.745274\n",
      "[352]\tvalid_0's auc: 0.745242\n",
      "[353]\tvalid_0's auc: 0.745223\n",
      "[354]\tvalid_0's auc: 0.745221\n",
      "[355]\tvalid_0's auc: 0.745226\n",
      "[356]\tvalid_0's auc: 0.745214\n",
      "[357]\tvalid_0's auc: 0.745192\n",
      "[358]\tvalid_0's auc: 0.745228\n",
      "[359]\tvalid_0's auc: 0.745226\n",
      "[360]\tvalid_0's auc: 0.745244\n",
      "[361]\tvalid_0's auc: 0.745263\n",
      "[362]\tvalid_0's auc: 0.745242\n",
      "[363]\tvalid_0's auc: 0.745269\n",
      "[364]\tvalid_0's auc: 0.745266\n",
      "[365]\tvalid_0's auc: 0.745277\n",
      "[366]\tvalid_0's auc: 0.745312\n",
      "[367]\tvalid_0's auc: 0.745293\n",
      "[368]\tvalid_0's auc: 0.745313\n",
      "[369]\tvalid_0's auc: 0.745318\n",
      "[370]\tvalid_0's auc: 0.745358\n",
      "[371]\tvalid_0's auc: 0.745347\n",
      "[372]\tvalid_0's auc: 0.745378\n",
      "[373]\tvalid_0's auc: 0.745362\n",
      "[374]\tvalid_0's auc: 0.745398\n",
      "[375]\tvalid_0's auc: 0.745376\n",
      "[376]\tvalid_0's auc: 0.74534\n",
      "[377]\tvalid_0's auc: 0.745348\n",
      "[378]\tvalid_0's auc: 0.745348\n",
      "[379]\tvalid_0's auc: 0.745368\n",
      "[380]\tvalid_0's auc: 0.74541\n",
      "[381]\tvalid_0's auc: 0.745486\n",
      "[382]\tvalid_0's auc: 0.745461\n",
      "[383]\tvalid_0's auc: 0.74543\n",
      "[384]\tvalid_0's auc: 0.745428\n",
      "[385]\tvalid_0's auc: 0.745405\n",
      "[386]\tvalid_0's auc: 0.745406\n",
      "[387]\tvalid_0's auc: 0.745448\n",
      "[388]\tvalid_0's auc: 0.74543\n",
      "[389]\tvalid_0's auc: 0.745411\n",
      "[390]\tvalid_0's auc: 0.74547\n",
      "[391]\tvalid_0's auc: 0.74551\n",
      "[392]\tvalid_0's auc: 0.745455\n",
      "[393]\tvalid_0's auc: 0.745505\n",
      "[394]\tvalid_0's auc: 0.745488\n",
      "[395]\tvalid_0's auc: 0.745477\n",
      "[396]\tvalid_0's auc: 0.745463\n",
      "[397]\tvalid_0's auc: 0.745485\n",
      "[398]\tvalid_0's auc: 0.745455\n",
      "[399]\tvalid_0's auc: 0.745487\n",
      "[400]\tvalid_0's auc: 0.745526\n",
      "[401]\tvalid_0's auc: 0.745519\n",
      "[402]\tvalid_0's auc: 0.745539\n",
      "[403]\tvalid_0's auc: 0.74553\n",
      "[404]\tvalid_0's auc: 0.745488\n",
      "[405]\tvalid_0's auc: 0.74548\n",
      "[406]\tvalid_0's auc: 0.745493\n",
      "[407]\tvalid_0's auc: 0.745524\n",
      "[408]\tvalid_0's auc: 0.745527\n",
      "[409]\tvalid_0's auc: 0.745542\n",
      "[410]\tvalid_0's auc: 0.745559\n",
      "[411]\tvalid_0's auc: 0.745606\n",
      "[412]\tvalid_0's auc: 0.745628\n",
      "[413]\tvalid_0's auc: 0.745635\n",
      "[414]\tvalid_0's auc: 0.745581\n",
      "[415]\tvalid_0's auc: 0.745601\n",
      "[416]\tvalid_0's auc: 0.745608\n",
      "[417]\tvalid_0's auc: 0.745593\n",
      "[418]\tvalid_0's auc: 0.745572\n",
      "[419]\tvalid_0's auc: 0.745519\n",
      "[420]\tvalid_0's auc: 0.745523\n",
      "[421]\tvalid_0's auc: 0.745506\n",
      "[422]\tvalid_0's auc: 0.745518\n",
      "[423]\tvalid_0's auc: 0.745521\n",
      "[424]\tvalid_0's auc: 0.745538\n",
      "[425]\tvalid_0's auc: 0.745525\n",
      "[426]\tvalid_0's auc: 0.745496\n",
      "[427]\tvalid_0's auc: 0.745486\n",
      "[428]\tvalid_0's auc: 0.745483\n",
      "[429]\tvalid_0's auc: 0.745471\n",
      "[430]\tvalid_0's auc: 0.745455\n",
      "[431]\tvalid_0's auc: 0.745475\n",
      "[432]\tvalid_0's auc: 0.745491\n",
      "[433]\tvalid_0's auc: 0.745499\n",
      "[434]\tvalid_0's auc: 0.745519\n",
      "[435]\tvalid_0's auc: 0.745533\n",
      "[436]\tvalid_0's auc: 0.745498\n",
      "[437]\tvalid_0's auc: 0.745528\n",
      "[438]\tvalid_0's auc: 0.745533\n",
      "[439]\tvalid_0's auc: 0.745539\n",
      "[440]\tvalid_0's auc: 0.74552\n",
      "[441]\tvalid_0's auc: 0.745546\n",
      "[442]\tvalid_0's auc: 0.74555\n",
      "[443]\tvalid_0's auc: 0.745584\n",
      "[444]\tvalid_0's auc: 0.745561\n",
      "[445]\tvalid_0's auc: 0.745581\n",
      "[446]\tvalid_0's auc: 0.745584\n",
      "[447]\tvalid_0's auc: 0.745585\n",
      "[448]\tvalid_0's auc: 0.745648\n",
      "[449]\tvalid_0's auc: 0.745645\n",
      "[450]\tvalid_0's auc: 0.745598\n",
      "[451]\tvalid_0's auc: 0.74555\n",
      "[452]\tvalid_0's auc: 0.745563\n",
      "[453]\tvalid_0's auc: 0.745554\n",
      "[454]\tvalid_0's auc: 0.745526\n",
      "[455]\tvalid_0's auc: 0.745543\n",
      "[456]\tvalid_0's auc: 0.745537\n",
      "[457]\tvalid_0's auc: 0.745544\n",
      "[458]\tvalid_0's auc: 0.745568\n",
      "[459]\tvalid_0's auc: 0.745533\n",
      "[460]\tvalid_0's auc: 0.745501\n",
      "[461]\tvalid_0's auc: 0.745542\n",
      "[462]\tvalid_0's auc: 0.745573\n",
      "[463]\tvalid_0's auc: 0.745606\n",
      "[464]\tvalid_0's auc: 0.745576\n",
      "[465]\tvalid_0's auc: 0.745564\n",
      "[466]\tvalid_0's auc: 0.745551\n",
      "[467]\tvalid_0's auc: 0.745561\n",
      "[468]\tvalid_0's auc: 0.745544\n",
      "[469]\tvalid_0's auc: 0.74556\n",
      "[470]\tvalid_0's auc: 0.74554\n",
      "[471]\tvalid_0's auc: 0.745537\n",
      "[472]\tvalid_0's auc: 0.745535\n",
      "[473]\tvalid_0's auc: 0.745484\n",
      "[474]\tvalid_0's auc: 0.745473\n",
      "[475]\tvalid_0's auc: 0.745477\n",
      "[476]\tvalid_0's auc: 0.745495\n",
      "[477]\tvalid_0's auc: 0.745504\n",
      "[478]\tvalid_0's auc: 0.745507\n",
      "[479]\tvalid_0's auc: 0.745519\n",
      "[480]\tvalid_0's auc: 0.745483\n",
      "[481]\tvalid_0's auc: 0.745504\n",
      "[482]\tvalid_0's auc: 0.745501\n",
      "[483]\tvalid_0's auc: 0.745511\n",
      "[484]\tvalid_0's auc: 0.745515\n",
      "[485]\tvalid_0's auc: 0.745511\n",
      "[486]\tvalid_0's auc: 0.7455\n",
      "[487]\tvalid_0's auc: 0.745509\n",
      "[488]\tvalid_0's auc: 0.745505\n",
      "[489]\tvalid_0's auc: 0.745537\n",
      "[490]\tvalid_0's auc: 0.745548\n",
      "[491]\tvalid_0's auc: 0.745532\n",
      "[492]\tvalid_0's auc: 0.74555\n",
      "[493]\tvalid_0's auc: 0.745565\n",
      "[494]\tvalid_0's auc: 0.745569\n",
      "[495]\tvalid_0's auc: 0.745579\n",
      "[496]\tvalid_0's auc: 0.745598\n",
      "[497]\tvalid_0's auc: 0.745581\n",
      "[498]\tvalid_0's auc: 0.745599\n",
      "[499]\tvalid_0's auc: 0.74562\n",
      "[500]\tvalid_0's auc: 0.745608\n",
      "[501]\tvalid_0's auc: 0.745612\n",
      "[502]\tvalid_0's auc: 0.745591\n",
      "[503]\tvalid_0's auc: 0.745583\n",
      "[504]\tvalid_0's auc: 0.745603\n",
      "[505]\tvalid_0's auc: 0.745558\n",
      "[506]\tvalid_0's auc: 0.745561\n",
      "[507]\tvalid_0's auc: 0.745571\n",
      "[508]\tvalid_0's auc: 0.745567\n",
      "[509]\tvalid_0's auc: 0.74558\n",
      "[510]\tvalid_0's auc: 0.745583\n",
      "[511]\tvalid_0's auc: 0.745593\n",
      "[512]\tvalid_0's auc: 0.745618\n",
      "[513]\tvalid_0's auc: 0.745654\n",
      "[514]\tvalid_0's auc: 0.745641\n",
      "[515]\tvalid_0's auc: 0.745651\n",
      "[516]\tvalid_0's auc: 0.745634\n",
      "[517]\tvalid_0's auc: 0.745666\n",
      "[518]\tvalid_0's auc: 0.745682\n",
      "[519]\tvalid_0's auc: 0.745673\n",
      "[520]\tvalid_0's auc: 0.745676\n",
      "[521]\tvalid_0's auc: 0.74566\n",
      "[522]\tvalid_0's auc: 0.745611\n",
      "[523]\tvalid_0's auc: 0.74562\n",
      "[524]\tvalid_0's auc: 0.745612\n",
      "[525]\tvalid_0's auc: 0.745629\n",
      "[526]\tvalid_0's auc: 0.745612\n",
      "[527]\tvalid_0's auc: 0.74562\n",
      "[528]\tvalid_0's auc: 0.745613\n",
      "[529]\tvalid_0's auc: 0.745595\n",
      "[530]\tvalid_0's auc: 0.745596\n",
      "[531]\tvalid_0's auc: 0.745621\n",
      "[532]\tvalid_0's auc: 0.745615\n",
      "[533]\tvalid_0's auc: 0.745626\n",
      "[534]\tvalid_0's auc: 0.74568\n",
      "[535]\tvalid_0's auc: 0.745657\n",
      "[536]\tvalid_0's auc: 0.745642\n",
      "[537]\tvalid_0's auc: 0.745668\n",
      "[538]\tvalid_0's auc: 0.745708\n",
      "[539]\tvalid_0's auc: 0.745699\n",
      "[540]\tvalid_0's auc: 0.745722\n",
      "[541]\tvalid_0's auc: 0.74572\n",
      "[542]\tvalid_0's auc: 0.745721\n",
      "[543]\tvalid_0's auc: 0.745771\n",
      "[544]\tvalid_0's auc: 0.745773\n",
      "[545]\tvalid_0's auc: 0.745795\n",
      "[546]\tvalid_0's auc: 0.745812\n",
      "[547]\tvalid_0's auc: 0.745802\n",
      "[548]\tvalid_0's auc: 0.745804\n",
      "[549]\tvalid_0's auc: 0.74575\n",
      "[550]\tvalid_0's auc: 0.74575\n",
      "[551]\tvalid_0's auc: 0.745788\n",
      "[552]\tvalid_0's auc: 0.745807\n",
      "[553]\tvalid_0's auc: 0.745823\n",
      "[554]\tvalid_0's auc: 0.745868\n",
      "[555]\tvalid_0's auc: 0.74591\n",
      "[556]\tvalid_0's auc: 0.745916\n",
      "[557]\tvalid_0's auc: 0.745938\n",
      "[558]\tvalid_0's auc: 0.745991\n",
      "[559]\tvalid_0's auc: 0.746008\n",
      "[560]\tvalid_0's auc: 0.746012\n",
      "[561]\tvalid_0's auc: 0.745989\n",
      "[562]\tvalid_0's auc: 0.745983\n",
      "[563]\tvalid_0's auc: 0.745964\n",
      "[564]\tvalid_0's auc: 0.745976\n",
      "[565]\tvalid_0's auc: 0.745998\n",
      "[566]\tvalid_0's auc: 0.746023\n",
      "[567]\tvalid_0's auc: 0.746011\n",
      "[568]\tvalid_0's auc: 0.745984\n"
     ]
    },
    {
     "name": "stdout",
     "output_type": "stream",
     "text": [
      "[569]\tvalid_0's auc: 0.74598\n",
      "[570]\tvalid_0's auc: 0.746009\n",
      "[571]\tvalid_0's auc: 0.74604\n",
      "[572]\tvalid_0's auc: 0.746054\n",
      "[573]\tvalid_0's auc: 0.74605\n",
      "[574]\tvalid_0's auc: 0.746061\n",
      "[575]\tvalid_0's auc: 0.746064\n",
      "[576]\tvalid_0's auc: 0.74608\n",
      "[577]\tvalid_0's auc: 0.746085\n",
      "[578]\tvalid_0's auc: 0.746084\n",
      "[579]\tvalid_0's auc: 0.746061\n",
      "[580]\tvalid_0's auc: 0.746073\n",
      "[581]\tvalid_0's auc: 0.746091\n",
      "[582]\tvalid_0's auc: 0.746114\n",
      "[583]\tvalid_0's auc: 0.746082\n",
      "[584]\tvalid_0's auc: 0.746087\n",
      "[585]\tvalid_0's auc: 0.746056\n",
      "[586]\tvalid_0's auc: 0.746096\n",
      "[587]\tvalid_0's auc: 0.746079\n",
      "[588]\tvalid_0's auc: 0.746069\n",
      "[589]\tvalid_0's auc: 0.746047\n",
      "[590]\tvalid_0's auc: 0.746059\n",
      "[591]\tvalid_0's auc: 0.746077\n",
      "[592]\tvalid_0's auc: 0.746109\n",
      "[593]\tvalid_0's auc: 0.746149\n",
      "[594]\tvalid_0's auc: 0.746147\n",
      "[595]\tvalid_0's auc: 0.746152\n",
      "[596]\tvalid_0's auc: 0.746145\n",
      "[597]\tvalid_0's auc: 0.746188\n",
      "[598]\tvalid_0's auc: 0.746148\n",
      "[599]\tvalid_0's auc: 0.746155\n",
      "[600]\tvalid_0's auc: 0.746162\n",
      "[601]\tvalid_0's auc: 0.746167\n",
      "[602]\tvalid_0's auc: 0.746183\n",
      "[603]\tvalid_0's auc: 0.746183\n",
      "[604]\tvalid_0's auc: 0.746183\n",
      "[605]\tvalid_0's auc: 0.746179\n",
      "[606]\tvalid_0's auc: 0.746143\n",
      "[607]\tvalid_0's auc: 0.746171\n",
      "[608]\tvalid_0's auc: 0.74617\n",
      "[609]\tvalid_0's auc: 0.746153\n",
      "[610]\tvalid_0's auc: 0.746136\n",
      "[611]\tvalid_0's auc: 0.746118\n",
      "[612]\tvalid_0's auc: 0.746137\n",
      "[613]\tvalid_0's auc: 0.746155\n",
      "[614]\tvalid_0's auc: 0.746164\n",
      "[615]\tvalid_0's auc: 0.746129\n",
      "[616]\tvalid_0's auc: 0.746137\n",
      "[617]\tvalid_0's auc: 0.74615\n",
      "[618]\tvalid_0's auc: 0.746143\n",
      "[619]\tvalid_0's auc: 0.746155\n",
      "[620]\tvalid_0's auc: 0.746182\n",
      "[621]\tvalid_0's auc: 0.746173\n",
      "[622]\tvalid_0's auc: 0.746224\n",
      "[623]\tvalid_0's auc: 0.746221\n",
      "[624]\tvalid_0's auc: 0.746233\n",
      "[625]\tvalid_0's auc: 0.746238\n",
      "[626]\tvalid_0's auc: 0.746209\n",
      "[627]\tvalid_0's auc: 0.746261\n",
      "[628]\tvalid_0's auc: 0.746258\n",
      "[629]\tvalid_0's auc: 0.746276\n",
      "[630]\tvalid_0's auc: 0.74629\n",
      "[631]\tvalid_0's auc: 0.746281\n",
      "[632]\tvalid_0's auc: 0.746243\n",
      "[633]\tvalid_0's auc: 0.746244\n",
      "[634]\tvalid_0's auc: 0.746259\n",
      "[635]\tvalid_0's auc: 0.746224\n",
      "[636]\tvalid_0's auc: 0.746213\n",
      "[637]\tvalid_0's auc: 0.746206\n",
      "[638]\tvalid_0's auc: 0.746236\n",
      "[639]\tvalid_0's auc: 0.746226\n",
      "[640]\tvalid_0's auc: 0.746242\n",
      "[641]\tvalid_0's auc: 0.746234\n",
      "[642]\tvalid_0's auc: 0.746226\n",
      "[643]\tvalid_0's auc: 0.746243\n",
      "[644]\tvalid_0's auc: 0.746234\n",
      "[645]\tvalid_0's auc: 0.74618\n",
      "[646]\tvalid_0's auc: 0.746186\n",
      "[647]\tvalid_0's auc: 0.746201\n",
      "[648]\tvalid_0's auc: 0.746226\n",
      "[649]\tvalid_0's auc: 0.746249\n",
      "[650]\tvalid_0's auc: 0.74624\n",
      "[651]\tvalid_0's auc: 0.746273\n",
      "[652]\tvalid_0's auc: 0.746293\n",
      "[653]\tvalid_0's auc: 0.746278\n",
      "[654]\tvalid_0's auc: 0.746299\n",
      "[655]\tvalid_0's auc: 0.746287\n",
      "[656]\tvalid_0's auc: 0.746282\n",
      "[657]\tvalid_0's auc: 0.746317\n",
      "[658]\tvalid_0's auc: 0.74632\n",
      "[659]\tvalid_0's auc: 0.746299\n",
      "[660]\tvalid_0's auc: 0.74629\n",
      "[661]\tvalid_0's auc: 0.74631\n",
      "[662]\tvalid_0's auc: 0.746328\n",
      "[663]\tvalid_0's auc: 0.74632\n",
      "[664]\tvalid_0's auc: 0.746299\n",
      "[665]\tvalid_0's auc: 0.746292\n",
      "[666]\tvalid_0's auc: 0.746318\n",
      "[667]\tvalid_0's auc: 0.746295\n",
      "[668]\tvalid_0's auc: 0.746314\n",
      "[669]\tvalid_0's auc: 0.746343\n",
      "[670]\tvalid_0's auc: 0.746344\n",
      "[671]\tvalid_0's auc: 0.746324\n",
      "[672]\tvalid_0's auc: 0.746324\n",
      "[673]\tvalid_0's auc: 0.746329\n",
      "[674]\tvalid_0's auc: 0.74639\n",
      "[675]\tvalid_0's auc: 0.746416\n",
      "[676]\tvalid_0's auc: 0.746381\n",
      "[677]\tvalid_0's auc: 0.746392\n",
      "[678]\tvalid_0's auc: 0.746376\n",
      "[679]\tvalid_0's auc: 0.746394\n",
      "[680]\tvalid_0's auc: 0.746429\n",
      "[681]\tvalid_0's auc: 0.746442\n",
      "[682]\tvalid_0's auc: 0.746419\n",
      "[683]\tvalid_0's auc: 0.74641\n",
      "[684]\tvalid_0's auc: 0.746448\n",
      "[685]\tvalid_0's auc: 0.746442\n",
      "[686]\tvalid_0's auc: 0.746432\n",
      "[687]\tvalid_0's auc: 0.746433\n",
      "[688]\tvalid_0's auc: 0.746443\n",
      "[689]\tvalid_0's auc: 0.746461\n",
      "[690]\tvalid_0's auc: 0.746463\n",
      "[691]\tvalid_0's auc: 0.74649\n",
      "[692]\tvalid_0's auc: 0.746501\n",
      "[693]\tvalid_0's auc: 0.746503\n",
      "[694]\tvalid_0's auc: 0.746484\n",
      "[695]\tvalid_0's auc: 0.746522\n",
      "[696]\tvalid_0's auc: 0.746525\n",
      "[697]\tvalid_0's auc: 0.746502\n",
      "[698]\tvalid_0's auc: 0.746486\n",
      "[699]\tvalid_0's auc: 0.746488\n",
      "[700]\tvalid_0's auc: 0.746492\n",
      "[701]\tvalid_0's auc: 0.746504\n",
      "[702]\tvalid_0's auc: 0.746511\n",
      "[703]\tvalid_0's auc: 0.746517\n",
      "[704]\tvalid_0's auc: 0.74652\n",
      "[705]\tvalid_0's auc: 0.74652\n",
      "[706]\tvalid_0's auc: 0.746484\n",
      "[707]\tvalid_0's auc: 0.746495\n",
      "[708]\tvalid_0's auc: 0.746433\n",
      "[709]\tvalid_0's auc: 0.746429\n",
      "[710]\tvalid_0's auc: 0.74644\n",
      "[711]\tvalid_0's auc: 0.746472\n",
      "[712]\tvalid_0's auc: 0.746482\n",
      "[713]\tvalid_0's auc: 0.746452\n",
      "[714]\tvalid_0's auc: 0.746435\n",
      "[715]\tvalid_0's auc: 0.746441\n",
      "[716]\tvalid_0's auc: 0.746413\n",
      "[717]\tvalid_0's auc: 0.74643\n",
      "[718]\tvalid_0's auc: 0.746411\n",
      "[719]\tvalid_0's auc: 0.746386\n",
      "[720]\tvalid_0's auc: 0.746397\n",
      "[721]\tvalid_0's auc: 0.746415\n",
      "[722]\tvalid_0's auc: 0.746384\n",
      "[723]\tvalid_0's auc: 0.746374\n",
      "[724]\tvalid_0's auc: 0.746403\n",
      "[725]\tvalid_0's auc: 0.746413\n",
      "[726]\tvalid_0's auc: 0.746459\n",
      "[727]\tvalid_0's auc: 0.746463\n",
      "[728]\tvalid_0's auc: 0.746486\n",
      "[729]\tvalid_0's auc: 0.746464\n",
      "[730]\tvalid_0's auc: 0.746459\n",
      "[731]\tvalid_0's auc: 0.746447\n",
      "[732]\tvalid_0's auc: 0.746451\n",
      "[733]\tvalid_0's auc: 0.746462\n",
      "[734]\tvalid_0's auc: 0.746467\n",
      "[735]\tvalid_0's auc: 0.746442\n",
      "[736]\tvalid_0's auc: 0.746479\n",
      "[737]\tvalid_0's auc: 0.746486\n",
      "[738]\tvalid_0's auc: 0.746483\n",
      "[739]\tvalid_0's auc: 0.746466\n",
      "[740]\tvalid_0's auc: 0.746449\n",
      "[741]\tvalid_0's auc: 0.746449\n",
      "[742]\tvalid_0's auc: 0.746451\n",
      "[743]\tvalid_0's auc: 0.746451\n",
      "[744]\tvalid_0's auc: 0.746465\n",
      "[745]\tvalid_0's auc: 0.746469\n",
      "[746]\tvalid_0's auc: 0.746468\n",
      "[747]\tvalid_0's auc: 0.746465\n",
      "[748]\tvalid_0's auc: 0.746453\n",
      "[749]\tvalid_0's auc: 0.746496\n",
      "[750]\tvalid_0's auc: 0.746474\n",
      "[751]\tvalid_0's auc: 0.74649\n",
      "[752]\tvalid_0's auc: 0.746496\n",
      "[753]\tvalid_0's auc: 0.746526\n",
      "[754]\tvalid_0's auc: 0.746578\n",
      "[755]\tvalid_0's auc: 0.746596\n",
      "[756]\tvalid_0's auc: 0.746578\n",
      "[757]\tvalid_0's auc: 0.746562\n",
      "[758]\tvalid_0's auc: 0.746527\n",
      "[759]\tvalid_0's auc: 0.746517\n",
      "[760]\tvalid_0's auc: 0.746536\n",
      "[761]\tvalid_0's auc: 0.746478\n",
      "[762]\tvalid_0's auc: 0.746549\n",
      "[763]\tvalid_0's auc: 0.746569\n",
      "[764]\tvalid_0's auc: 0.746554\n",
      "[765]\tvalid_0's auc: 0.746559\n",
      "[766]\tvalid_0's auc: 0.746543\n",
      "[767]\tvalid_0's auc: 0.746538\n",
      "[768]\tvalid_0's auc: 0.746556\n",
      "[769]\tvalid_0's auc: 0.74656\n",
      "[770]\tvalid_0's auc: 0.746572\n",
      "[771]\tvalid_0's auc: 0.746514\n",
      "[772]\tvalid_0's auc: 0.746551\n",
      "[773]\tvalid_0's auc: 0.746537\n",
      "[774]\tvalid_0's auc: 0.746534\n",
      "[775]\tvalid_0's auc: 0.746533\n",
      "[776]\tvalid_0's auc: 0.746509\n",
      "[777]\tvalid_0's auc: 0.746477\n",
      "[778]\tvalid_0's auc: 0.746467\n",
      "[779]\tvalid_0's auc: 0.746464\n",
      "[780]\tvalid_0's auc: 0.746446\n",
      "[781]\tvalid_0's auc: 0.746442\n",
      "[782]\tvalid_0's auc: 0.746415\n",
      "[783]\tvalid_0's auc: 0.746413\n",
      "[784]\tvalid_0's auc: 0.746398\n",
      "[785]\tvalid_0's auc: 0.746404\n",
      "[786]\tvalid_0's auc: 0.74641\n",
      "[787]\tvalid_0's auc: 0.746386\n",
      "[788]\tvalid_0's auc: 0.746418\n",
      "[789]\tvalid_0's auc: 0.746466\n",
      "[790]\tvalid_0's auc: 0.746442\n",
      "[791]\tvalid_0's auc: 0.746436\n",
      "[792]\tvalid_0's auc: 0.746435\n",
      "[793]\tvalid_0's auc: 0.74642\n",
      "[794]\tvalid_0's auc: 0.746427\n",
      "[795]\tvalid_0's auc: 0.746414\n",
      "[796]\tvalid_0's auc: 0.746425\n",
      "[797]\tvalid_0's auc: 0.746423\n",
      "[798]\tvalid_0's auc: 0.746413\n",
      "[799]\tvalid_0's auc: 0.746425\n",
      "[800]\tvalid_0's auc: 0.74644\n",
      "[801]\tvalid_0's auc: 0.746406\n",
      "[802]\tvalid_0's auc: 0.746382\n",
      "[803]\tvalid_0's auc: 0.746404\n",
      "[804]\tvalid_0's auc: 0.746386\n",
      "[805]\tvalid_0's auc: 0.74643\n",
      "[806]\tvalid_0's auc: 0.746452\n",
      "[807]\tvalid_0's auc: 0.746431\n",
      "[808]\tvalid_0's auc: 0.746451\n",
      "[809]\tvalid_0's auc: 0.746469\n",
      "[810]\tvalid_0's auc: 0.746462\n",
      "[811]\tvalid_0's auc: 0.746494\n",
      "[812]\tvalid_0's auc: 0.746501\n",
      "[813]\tvalid_0's auc: 0.746495\n",
      "[814]\tvalid_0's auc: 0.74648\n",
      "[815]\tvalid_0's auc: 0.746494\n",
      "[816]\tvalid_0's auc: 0.746503\n",
      "[817]\tvalid_0's auc: 0.746486\n",
      "[818]\tvalid_0's auc: 0.746514\n",
      "[819]\tvalid_0's auc: 0.746482\n",
      "[820]\tvalid_0's auc: 0.74648\n",
      "[821]\tvalid_0's auc: 0.746477\n",
      "[822]\tvalid_0's auc: 0.74649\n",
      "[823]\tvalid_0's auc: 0.746496\n",
      "[824]\tvalid_0's auc: 0.74648\n",
      "[825]\tvalid_0's auc: 0.746479\n",
      "[826]\tvalid_0's auc: 0.746467\n",
      "[827]\tvalid_0's auc: 0.746453\n",
      "[828]\tvalid_0's auc: 0.746455\n",
      "[829]\tvalid_0's auc: 0.746402\n",
      "[830]\tvalid_0's auc: 0.74641\n",
      "[831]\tvalid_0's auc: 0.746422\n",
      "[832]\tvalid_0's auc: 0.746413\n",
      "[833]\tvalid_0's auc: 0.746448\n",
      "[834]\tvalid_0's auc: 0.746435\n",
      "[835]\tvalid_0's auc: 0.746426\n",
      "[836]\tvalid_0's auc: 0.746403\n",
      "[837]\tvalid_0's auc: 0.746399\n",
      "[838]\tvalid_0's auc: 0.74639\n",
      "[839]\tvalid_0's auc: 0.746452\n",
      "[840]\tvalid_0's auc: 0.746458\n",
      "[841]\tvalid_0's auc: 0.746462\n",
      "[842]\tvalid_0's auc: 0.7465\n",
      "[843]\tvalid_0's auc: 0.746501\n",
      "[844]\tvalid_0's auc: 0.746496\n",
      "[845]\tvalid_0's auc: 0.746526\n",
      "[846]\tvalid_0's auc: 0.746502\n",
      "[847]\tvalid_0's auc: 0.7465\n",
      "[848]\tvalid_0's auc: 0.746493\n"
     ]
    },
    {
     "name": "stdout",
     "output_type": "stream",
     "text": [
      "[849]\tvalid_0's auc: 0.746486\n",
      "[850]\tvalid_0's auc: 0.746473\n",
      "[851]\tvalid_0's auc: 0.746514\n",
      "[852]\tvalid_0's auc: 0.74653\n",
      "[853]\tvalid_0's auc: 0.746514\n",
      "[854]\tvalid_0's auc: 0.746504\n",
      "[855]\tvalid_0's auc: 0.746466\n",
      "Early stopping, best iteration is:\n",
      "[755]\tvalid_0's auc: 0.746596\n"
     ]
    }
   ],
   "source": [
    "lgb = lightgbm.train(params_best,\n",
    "                       lgb_train,\n",
    "                       num_boost_round=1000,\n",
    "                       early_stopping_rounds=100,\n",
    "                       valid_sets=lgb_test)"
   ]
  },
  {
   "cell_type": "code",
   "execution_count": 28,
   "metadata": {},
   "outputs": [],
   "source": [
    "y_pred = lgb.predict(X_test)\n",
    "y_pred_bool = []\n",
    "for i in range(len(y_pred)):\n",
    "    if y_pred[i]<0.5:\n",
    "        y_pred_bool.append(0)\n",
    "    else:\n",
    "        y_pred_bool.append(1)"
   ]
  },
  {
   "cell_type": "code",
   "execution_count": 29,
   "metadata": {},
   "outputs": [
    {
     "data": {
      "text/plain": [
       "array([[11837,  4490],\n",
       "       [ 1391,  2282]], dtype=int64)"
      ]
     },
     "execution_count": 29,
     "metadata": {},
     "output_type": "execute_result"
    }
   ],
   "source": [
    "from sklearn.metrics import confusion_matrix\n",
    "confusion_matrix(y_test, y_pred_bool)"
   ]
  },
  {
   "cell_type": "code",
   "execution_count": 30,
   "metadata": {},
   "outputs": [
    {
     "data": {
      "text/plain": [
       "0.70595"
      ]
     },
     "execution_count": 30,
     "metadata": {},
     "output_type": "execute_result"
    }
   ],
   "source": [
    "from sklearn.metrics import accuracy_score\n",
    "accuracy_score(y_test, y_pred_bool)"
   ]
  },
  {
   "cell_type": "markdown",
   "metadata": {},
   "source": [
    "**<font color='blue'> We can apply the model to the 'new data' for prediction. </font>** "
   ]
  },
  {
   "cell_type": "code",
   "execution_count": 31,
   "metadata": {},
   "outputs": [],
   "source": [
    "y_new_pred = lgb.predict(X_new_data)\n",
    "y_new = []\n",
    "for i in range(len(y_new_pred)):\n",
    "    if y_new_pred[i]<0.5:\n",
    "        y_new.append(0)\n",
    "    else:\n",
    "        y_new.append(1)"
   ]
  },
  {
   "cell_type": "code",
   "execution_count": 38,
   "metadata": {},
   "outputs": [
    {
     "name": "stdout",
     "output_type": "stream",
     "text": [
      "34679 100000 35 %\n"
     ]
    }
   ],
   "source": [
    "print(sum(y_new), len(y_new), round(100*sum(y_new)/len(y_new)),'%')"
   ]
  },
  {
   "cell_type": "markdown",
   "metadata": {},
   "source": [
    " **<font color='blue'> Based on the prediction, we have 34679 flights out of 100000 departing with delayed 15 mins. The percentage is about 35%. </font>** "
   ]
  },
  {
   "cell_type": "code",
   "execution_count": null,
   "metadata": {},
   "outputs": [],
   "source": []
  }
 ],
 "metadata": {
  "colab": {
   "name": "Bayesian_optimization_exercise.ipynb",
   "provenance": []
  },
  "deepnote_execution_queue": [],
  "kernelspec": {
   "display_name": "Python 3",
   "language": "python",
   "name": "python3"
  },
  "language_info": {
   "codemirror_mode": {
    "name": "ipython",
    "version": 3
   },
   "file_extension": ".py",
   "mimetype": "text/x-python",
   "name": "python",
   "nbconvert_exporter": "python",
   "pygments_lexer": "ipython3",
   "version": "3.8.5"
  },
  "varInspector": {
   "cols": {
    "lenName": 16,
    "lenType": 16,
    "lenVar": 40
   },
   "kernels_config": {
    "python": {
     "delete_cmd_postfix": "",
     "delete_cmd_prefix": "del ",
     "library": "var_list.py",
     "varRefreshCmd": "print(var_dic_list())"
    },
    "r": {
     "delete_cmd_postfix": ") ",
     "delete_cmd_prefix": "rm(",
     "library": "var_list.r",
     "varRefreshCmd": "cat(var_dic_list()) "
    }
   },
   "types_to_exclude": [
    "module",
    "function",
    "builtin_function_or_method",
    "instance",
    "_Feature"
   ],
   "window_display": false
  }
 },
 "nbformat": 4,
 "nbformat_minor": 1
}
