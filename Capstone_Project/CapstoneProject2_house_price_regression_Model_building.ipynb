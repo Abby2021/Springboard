{
 "cells": [
  {
   "cell_type": "markdown",
   "metadata": {},
   "source": [
    "# Capstone Project 2: Model building\n",
    "\n",
    "We have cleaned the data. Now it is the time to build models.\n",
    "\n",
    "We will test different modeling methods and compare them.\n",
    "\n",
    "The dataset is download from Kaggle. It is about house price. The goal will be use this dataset and build a predictive model for house pricing.\n",
    "\n",
    "https://www.kaggle.com/c/house-prices-advanced-regression-techniques/overview"
   ]
  },
  {
   "cell_type": "markdown",
   "metadata": {},
   "source": [
    "## The objective \n",
    "The objective of this project would be building a predictive model for house pricing. The result can be used to negotiate house price.\n",
    "The modeling method can be logistic regression, random forest, gradient boosting, and SVM...\n",
    "And compare them and pick the best performance one for prediction"
   ]
  },
  {
   "cell_type": "code",
   "execution_count": 1,
   "metadata": {},
   "outputs": [
    {
     "name": "stdout",
     "output_type": "stream",
     "text": [
      "Requirement already satisfied: xgboost in c:\\users\\prue1\\anaconda3\\lib\\site-packages (1.3.3)\n",
      "Requirement already satisfied: numpy in c:\\users\\prue1\\anaconda3\\lib\\site-packages (from xgboost) (1.19.2)\n",
      "Requirement already satisfied: scipy in c:\\users\\prue1\\anaconda3\\lib\\site-packages (from xgboost) (1.5.2)\n"
     ]
    }
   ],
   "source": [
    "!pip install xgboost"
   ]
  },
  {
   "cell_type": "markdown",
   "metadata": {},
   "source": [
    "### STEP1: Load the tools"
   ]
  },
  {
   "cell_type": "code",
   "execution_count": 2,
   "metadata": {},
   "outputs": [],
   "source": [
    "import numpy as np\n",
    "import pandas as pd\n",
    "\n",
    "import matplotlib.pyplot as plt\n",
    "%matplotlib inline\n",
    "\n",
    "import seaborn as sns\n",
    "\n",
    "from sklearn.linear_model import LogisticRegression\n",
    "from sklearn.linear_model import Ridge\n",
    "from sklearn.linear_model import Lasso\n",
    "from sklearn.model_selection import cross_validate\n",
    "from sklearn.model_selection import cross_val_predict\n",
    "from sklearn.model_selection import GridSearchCV\n",
    "from sklearn.svm import SVR\n",
    "from sklearn.ensemble import RandomForestRegressor\n",
    "import xgboost\n",
    "#from xgboost import XBGRegressor\n",
    "from sklearn.linear_model import ElasticNet\n",
    "\n",
    "import pickle\n",
    "\n",
    "from sklearn.metrics import r2_score, mean_squared_error\n",
    "\n",
    "from sklearn.preprocessing import StandardScaler\n",
    "from sklearn.model_selection import train_test_split\n",
    "import warnings\n",
    "warnings.filterwarnings('ignore')"
   ]
  },
  {
   "cell_type": "markdown",
   "metadata": {},
   "source": [
    "### STEP2: Load the dataset"
   ]
  },
  {
   "cell_type": "code",
   "execution_count": 3,
   "metadata": {},
   "outputs": [],
   "source": [
    "# load the data for training validate and the model\n",
    "X_train = pd.read_csv('X_train.csv')\n",
    "X_test = pd.read_csv('X_test.csv')\n",
    "y_train = pd.read_csv('y_train.csv')\n",
    "y_test = pd.read_csv('y_test.csv')"
   ]
  },
  {
   "cell_type": "code",
   "execution_count": 4,
   "metadata": {},
   "outputs": [],
   "source": [
    "X_train = X_train.drop(columns=['Unnamed: 0']).values\n",
    "X_test = X_test.drop(columns=['Unnamed: 0']).values"
   ]
  },
  {
   "cell_type": "code",
   "execution_count": 5,
   "metadata": {},
   "outputs": [],
   "source": [
    "y_train = y_train.drop(columns=['Unnamed: 0']).values\n",
    "y_test = y_test.drop(columns=['Unnamed: 0']).values"
   ]
  },
  {
   "cell_type": "markdown",
   "metadata": {},
   "source": [
    "### STEP5: Modeling"
   ]
  },
  {
   "cell_type": "code",
   "execution_count": 6,
   "metadata": {},
   "outputs": [],
   "source": [
    "### this dictionary will be used to save all the RMSE scores of using different regression method.\n",
    "score = {}"
   ]
  },
  {
   "cell_type": "markdown",
   "metadata": {},
   "source": [
    "#### 5.1 Logistic regression"
   ]
  },
  {
   "cell_type": "code",
   "execution_count": 7,
   "metadata": {},
   "outputs": [],
   "source": [
    "lr = LogisticRegression()\n",
    "lr.fit(X_train, y_train)\n",
    "y_pred = lr.predict(X_test)"
   ]
  },
  {
   "cell_type": "code",
   "execution_count": 8,
   "metadata": {},
   "outputs": [
    {
     "name": "stdout",
     "output_type": "stream",
     "text": [
      "R2 score is 0.6861941384072454\n",
      "MSE score is 1607625937.1583333\n",
      "RMSE score is 40095.21090053441\n"
     ]
    }
   ],
   "source": [
    "R2 = r2_score(y_test, y_pred)\n",
    "MSE = mean_squared_error(y_test, y_pred, squared=True)\n",
    "RMSE = mean_squared_error(y_test, y_pred, squared=False)\n",
    "print(f'R2 score is {R2}\\nMSE score is {MSE}\\nRMSE score is {RMSE}')"
   ]
  },
  {
   "cell_type": "code",
   "execution_count": 9,
   "metadata": {},
   "outputs": [
    {
     "name": "stdout",
     "output_type": "stream",
     "text": [
      "{'logistic': 36366.42724508722}\n"
     ]
    }
   ],
   "source": [
    "score['logistic'] = 36366.42724508722\n",
    "print (score)"
   ]
  },
  {
   "cell_type": "markdown",
   "metadata": {},
   "source": [
    "#### 5.2 Ridge regression"
   ]
  },
  {
   "cell_type": "markdown",
   "metadata": {},
   "source": [
    "##### For the Ridge method, alpha is a parameter needed to be tuned. I am using the GridSearch method to find the best alpha for this modeling"
   ]
  },
  {
   "cell_type": "code",
   "execution_count": 10,
   "metadata": {},
   "outputs": [
    {
     "data": {
      "text/plain": [
       "GridSearchCV(cv=5, estimator=Ridge(),\n",
       "             param_grid={'alpha': [0.5, 1.0, 1.5, 2.0, 3.0, 5.0, 8, 10, 15,\n",
       "                                   20]})"
      ]
     },
     "execution_count": 10,
     "metadata": {},
     "output_type": "execute_result"
    }
   ],
   "source": [
    "rr = Ridge()\n",
    "param = {'alpha': [0.5, 1.0, 1.5, 2.0, 3.0, 5.0, 8, 10, 15, 20]}\n",
    "rr_cv = GridSearchCV(rr, param, cv=5)\n",
    "rr_cv.fit(X_train, y_train)"
   ]
  },
  {
   "cell_type": "code",
   "execution_count": 11,
   "metadata": {},
   "outputs": [
    {
     "name": "stdout",
     "output_type": "stream",
     "text": [
      "Best Score:0.8596310495142314\n",
      "Best Parameters: {'alpha': 15}\n"
     ]
    }
   ],
   "source": [
    "print(\"Best Score:\" + str(rr_cv.best_score_))\n",
    "print(\"Best Parameters: \" + str(rr_cv.best_params_))"
   ]
  },
  {
   "cell_type": "code",
   "execution_count": 12,
   "metadata": {},
   "outputs": [
    {
     "name": "stdout",
     "output_type": "stream",
     "text": [
      "R2 score is 0.8062513475239872\n",
      "MSE score is 992573425.5854505\n",
      "RMSE score is 31505.13332118197\n"
     ]
    }
   ],
   "source": [
    "y_pred = rr_cv.predict(X_test)\n",
    "\n",
    "R2 = r2_score(y_test, y_pred)\n",
    "MSE = mean_squared_error(y_test, y_pred, squared=True)\n",
    "RMSE = mean_squared_error(y_test, y_pred, squared=False)\n",
    "print(f'R2 score is {R2}\\nMSE score is {MSE}\\nRMSE score is {RMSE}')"
   ]
  },
  {
   "cell_type": "code",
   "execution_count": 13,
   "metadata": {},
   "outputs": [
    {
     "name": "stdout",
     "output_type": "stream",
     "text": [
      "{'logistic': 36366.42724508722, 'ridge': 26946}\n"
     ]
    }
   ],
   "source": [
    "score['ridge'] = 26946\n",
    "print (score)"
   ]
  },
  {
   "cell_type": "markdown",
   "metadata": {},
   "source": [
    "#### 5.3 Lasso regression"
   ]
  },
  {
   "cell_type": "code",
   "execution_count": 14,
   "metadata": {},
   "outputs": [
    {
     "data": {
      "text/plain": [
       "GridSearchCV(cv=5, estimator=Lasso(),\n",
       "             param_grid={'alpha': array([600, 610, 620, 630, 640, 650, 660, 670, 680, 690])})"
      ]
     },
     "execution_count": 14,
     "metadata": {},
     "output_type": "execute_result"
    }
   ],
   "source": [
    "lr = Lasso()\n",
    "param = {'alpha': 600+10*np.arange(10)}\n",
    "lr_cv = GridSearchCV(lr, param, cv=5)\n",
    "lr_cv.fit(X_train, y_train)"
   ]
  },
  {
   "cell_type": "markdown",
   "metadata": {},
   "source": [
    "##### I tuned the alpha parameter to get the best socre."
   ]
  },
  {
   "cell_type": "code",
   "execution_count": 15,
   "metadata": {},
   "outputs": [
    {
     "name": "stdout",
     "output_type": "stream",
     "text": [
      "Best Score:0.8622923855972326\n",
      "Best Parameters: {'alpha': 690}\n"
     ]
    }
   ],
   "source": [
    "print(\"Best Score:\" + str(lr_cv.best_score_))\n",
    "print(\"Best Parameters: \" + str(lr_cv.best_params_))"
   ]
  },
  {
   "cell_type": "code",
   "execution_count": 16,
   "metadata": {},
   "outputs": [
    {
     "name": "stdout",
     "output_type": "stream",
     "text": [
      "R2 score is 0.8069771170853558\n",
      "MSE score is 988855311.5727483\n",
      "RMSE score is 31446.069890731153\n"
     ]
    }
   ],
   "source": [
    "y_pred = lr_cv.predict(X_test)\n",
    "\n",
    "R2 = r2_score(y_test, y_pred)\n",
    "MSE = mean_squared_error(y_test, y_pred, squared=True)\n",
    "RMSE = mean_squared_error(y_test, y_pred, squared=False)\n",
    "print(f'R2 score is {R2}\\nMSE score is {MSE}\\nRMSE score is {RMSE}')"
   ]
  },
  {
   "cell_type": "code",
   "execution_count": 17,
   "metadata": {},
   "outputs": [
    {
     "name": "stdout",
     "output_type": "stream",
     "text": [
      "{'logistic': 36366.42724508722, 'ridge': 26946, 'lasso': 26783.751354683114}\n"
     ]
    }
   ],
   "source": [
    "score['lasso'] = 26783.751354683114\n",
    "print (score)"
   ]
  },
  {
   "cell_type": "code",
   "execution_count": 18,
   "metadata": {},
   "outputs": [
    {
     "data": {
      "image/png": "[encoded data removed]",
      "text/plain": [
       "<Figure size 360x360 with 1 Axes>"
      ]
     },
     "metadata": {
      "needs_background": "light"
     },
     "output_type": "display_data"
    }
   ],
   "source": [
    "plt.figure(figsize=(5, 5))\n",
    "sns.scatterplot(y_test[:, 0], y_pred, color = 'blue');\n",
    "plt.plot([0, 500000], [0, 500000], color = 'orange')\n",
    "plt.xlabel('y_test')\n",
    "plt.ylabel('y_pred_lasso')\n",
    "plt.xlim(0, 500000)\n",
    "plt.ylim(0, 500000)\n",
    "plt.grid()"
   ]
  },
  {
   "cell_type": "markdown",
   "metadata": {},
   "source": [
    "#### From the above plot, we can see the prediction results is pretty good. "
   ]
  },
  {
   "cell_type": "markdown",
   "metadata": {},
   "source": [
    "#### 5.4. SVR"
   ]
  },
  {
   "cell_type": "code",
   "execution_count": 19,
   "metadata": {},
   "outputs": [
    {
     "data": {
      "text/plain": [
       "GridSearchCV(cv=5, estimator=SVR(),\n",
       "             param_grid={'C': array([250000, 300000, 350000, 400000, 450000, 500000, 550000, 600000,\n",
       "       650000, 700000]),\n",
       "                         'epsilon': array([ 200,  400,  600,  800, 1000, 1200, 1400, 1600, 1800, 2000])})"
      ]
     },
     "execution_count": 19,
     "metadata": {},
     "output_type": "execute_result"
    }
   ],
   "source": [
    "svr = SVR()\n",
    "params = {'C': 200000+50000*(1+np.arange(10)), 'epsilon': 200*(1+np.arange(10))}\n",
    "svr_cv = GridSearchCV(svr, params, cv=5)\n",
    "svr_cv.fit(X_train, y_train)"
   ]
  },
  {
   "cell_type": "code",
   "execution_count": 20,
   "metadata": {},
   "outputs": [
    {
     "name": "stdout",
     "output_type": "stream",
     "text": [
      "Best Score:0.7898382929517856\n",
      "Best Parameters: {'C': 300000, 'epsilon': 2000}\n"
     ]
    }
   ],
   "source": [
    "print(\"Best Score:\" + str(svr_cv.best_score_))\n",
    "print(\"Best Parameters: \" + str(svr_cv.best_params_))"
   ]
  },
  {
   "cell_type": "code",
   "execution_count": 21,
   "metadata": {},
   "outputs": [
    {
     "name": "stdout",
     "output_type": "stream",
     "text": [
      "R2 score is 0.8047774778686757\n",
      "MSE score is 1000124052.8230784\n",
      "RMSE score is 31624.737988212302\n"
     ]
    }
   ],
   "source": [
    "y_pred = svr_cv.predict(X_test)\n",
    "\n",
    "R2 = r2_score(y_test, y_pred)\n",
    "MSE = mean_squared_error(y_test, y_pred, squared=True)\n",
    "RMSE = mean_squared_error(y_test, y_pred, squared=False)\n",
    "print(f'R2 score is {R2}\\nMSE score is {MSE}\\nRMSE score is {RMSE}')"
   ]
  },
  {
   "cell_type": "code",
   "execution_count": 22,
   "metadata": {},
   "outputs": [
    {
     "name": "stdout",
     "output_type": "stream",
     "text": [
      "{'logistic': 36366.42724508722, 'ridge': 26946, 'lasso': 26783.751354683114, 'svr': 30167.047887518962}\n"
     ]
    }
   ],
   "source": [
    "score['svr'] = 30167.047887518962\n",
    "print (score)"
   ]
  },
  {
   "cell_type": "markdown",
   "metadata": {},
   "source": [
    "#### 5.5. Random Forest"
   ]
  },
  {
   "cell_type": "code",
   "execution_count": null,
   "metadata": {},
   "outputs": [],
   "source": [
    "rfr = RandomForestRegressor()\n",
    "params = {'n_estimators': 650+ 10*(1+np.arange(10))}\n",
    "rfr_cv = GridSearchCV(rfr, params, cv=5)\n",
    "rfr_cv.fit(X_train, y_train)"
   ]
  },
  {
   "cell_type": "code",
   "execution_count": null,
   "metadata": {},
   "outputs": [],
   "source": [
    "print(\"Best Score:\" + str(rfr_cv.best_score_))\n",
    "print(\"Best Parameters: \" + str(rfr_cv.best_params_))"
   ]
  },
  {
   "cell_type": "code",
   "execution_count": null,
   "metadata": {},
   "outputs": [],
   "source": [
    "y_pred = rfr_cv.predict(X_test)\n",
    "\n",
    "R2 = r2_score(y_test, y_pred)\n",
    "MSE = mean_squared_error(y_test, y_pred, squared=True)\n",
    "RMSE = mean_squared_error(y_test, y_pred, squared=False)\n",
    "print(f'R2 score is {R2}\\nMSE score is {MSE}\\nRMSE score is {RMSE}')"
   ]
  },
  {
   "cell_type": "code",
   "execution_count": null,
   "metadata": {},
   "outputs": [],
   "source": [
    "score['random_forest'] = 27181.81616853467\n",
    "print (score)"
   ]
  },
  {
   "cell_type": "markdown",
   "metadata": {},
   "source": [
    "#### 5.6 XGBoost"
   ]
  },
  {
   "cell_type": "code",
   "execution_count": null,
   "metadata": {},
   "outputs": [],
   "source": [
    "xgbr = xgboost.XGBRegressor(objective='reg:linear')\n",
    "params = {'n_estimators': 10*(1+np.arange(10))}\n",
    "xgbr_cv = GridSearchCV(xgbr, params, cv=5)\n",
    "xgbr_cv.fit(X_train, y_train)"
   ]
  },
  {
   "cell_type": "code",
   "execution_count": null,
   "metadata": {},
   "outputs": [],
   "source": [
    "print(\"Best Score:\" + str(xgbr_cv.best_score_))\n",
    "print(\"Best Parameters: \" + str(xgbr_cv.best_params_))"
   ]
  },
  {
   "cell_type": "code",
   "execution_count": null,
   "metadata": {},
   "outputs": [],
   "source": [
    "y_pred = xgbr_cv.predict(X_test)\n",
    "\n",
    "R2 = r2_score(y_test, y_pred)\n",
    "MSE = mean_squared_error(y_test, y_pred, squared=True)\n",
    "RMSE = mean_squared_error(y_test, y_pred, squared=False)\n",
    "print(f'R2 score is {R2}\\nMSE score is {MSE}\\nRMSE score is {RMSE}')"
   ]
  },
  {
   "cell_type": "code",
   "execution_count": null,
   "metadata": {},
   "outputs": [],
   "source": [
    "score['xgboost'] = 28544.242354555445\n",
    "print (score)"
   ]
  },
  {
   "cell_type": "markdown",
   "metadata": {},
   "source": [
    "##### Next we are goign to test another way of using XGBoost. Firstly we need to convert the data to dmatrix by xgboost.DMatrix"
   ]
  },
  {
   "cell_type": "code",
   "execution_count": null,
   "metadata": {},
   "outputs": [],
   "source": [
    "# convert the train and test data to dmatrix\n",
    "train_dmatrix = xgboost.DMatrix(data=X_train, label=y_train)\n",
    "test_dmatrix = xgboost.DMatrix(data=X_test, label=y_test)\n",
    "\n",
    "param = {'booster': 'gblinear', 'objective': 'reg:linear'}\n",
    "\n",
    "xg_score=[]\n",
    "for i in range(1, 10):\n",
    "    xgb_r = xgboost.train(params=param, dtrain=train_dmatrix, num_boost_round=i)\n",
    "    y_pred = xgb_r.predict(test_dmatrix)\n",
    "    #R2 = r2_score(y_test, y_pred)\n",
    "    #MSE = mean_squared_error(y_test, y_pred, squared=True)\n",
    "    RMSE = mean_squared_error(y_test, y_pred, squared=False)\n",
    "    xg_score.append(RMSE)    \n",
    "    \n",
    "print(xg_score)\n",
    "    \n",
    "#print(f'R2 score is {R2}\\nMSE score is {MSE}\\nRMSE score is {RMSE}')"
   ]
  },
  {
   "cell_type": "code",
   "execution_count": null,
   "metadata": {},
   "outputs": [],
   "source": [
    "plt.plot(np.arange(1, 10), xg_score)\n",
    "plt.xlabel('num_boost_round')\n",
    "plt.ylabel('RMSE')\n",
    "plt.show()"
   ]
  },
  {
   "cell_type": "markdown",
   "metadata": {},
   "source": [
    "The best 'num_boost_round' is 5"
   ]
  },
  {
   "cell_type": "code",
   "execution_count": null,
   "metadata": {},
   "outputs": [],
   "source": [
    "xgb_r = xgboost.train(params=param, dtrain=train_dmatrix, num_boost_round=5)\n",
    "y_pred = xgb_r.predict(test_dmatrix)\n",
    "R2 = r2_score(y_test, y_pred)\n",
    "MSE = mean_squared_error(y_test, y_pred, squared=True)\n",
    "RMSE = mean_squared_error(y_test, y_pred, squared=False)\n",
    "\n",
    "print(f'R2 score is {R2}\\nMSE score is {MSE}\\nRMSE score is {RMSE}')"
   ]
  },
  {
   "cell_type": "code",
   "execution_count": null,
   "metadata": {},
   "outputs": [],
   "source": [
    "score['xgboost_dmatrix'] = 26653.17599397943\n",
    "print (score)"
   ]
  },
  {
   "cell_type": "markdown",
   "metadata": {},
   "source": [
    "### 5.7 ElasticNet"
   ]
  },
  {
   "cell_type": "code",
   "execution_count": null,
   "metadata": {},
   "outputs": [],
   "source": [
    "en = ElasticNet()\n",
    "params = {'alpha': [650, 700, 750], 'l1_ratio': [0, 0.2, 0.4, 0.6, 0.8, 1]}\n",
    "en_cv = GridSearchCV(en, params, cv=5)\n",
    "en_cv.fit(X_train, y_train)"
   ]
  },
  {
   "cell_type": "markdown",
   "metadata": {},
   "source": [
    "###### The best l1_ratio is 1. So l2 norm is used for the penalty term. I guess it should be similar as Ridge method. "
   ]
  },
  {
   "cell_type": "code",
   "execution_count": null,
   "metadata": {},
   "outputs": [],
   "source": [
    "print(\"Best Score:\" + str(en_cv.best_score_))\n",
    "print(\"Best Parameters: \" + str(en_cv.best_params_))"
   ]
  },
  {
   "cell_type": "code",
   "execution_count": null,
   "metadata": {},
   "outputs": [],
   "source": [
    "y_pred = en_cv.predict(X_test)\n",
    "R2 = r2_score(y_test, y_pred)\n",
    "MSE = mean_squared_error(y_test, y_pred, squared=True)\n",
    "RMSE = mean_squared_error(y_test, y_pred, squared=False)\n",
    "\n",
    "print(f'R2 score is {R2}\\nMSE score is {MSE}\\nRMSE score is {RMSE}')"
   ]
  },
  {
   "cell_type": "code",
   "execution_count": null,
   "metadata": {},
   "outputs": [],
   "source": [
    "score['ElasticNet'] = 26779.383486667426\n",
    "print (score)"
   ]
  },
  {
   "cell_type": "markdown",
   "metadata": {},
   "source": [
    "### STEP6. Compare the models"
   ]
  },
  {
   "cell_type": "code",
   "execution_count": null,
   "metadata": {},
   "outputs": [],
   "source": [
    "df_score = pd.DataFrame(score.items())"
   ]
  },
  {
   "cell_type": "code",
   "execution_count": null,
   "metadata": {},
   "outputs": [],
   "source": [
    "df_score.columns = ['Method', 'RMSE']"
   ]
  },
  {
   "cell_type": "code",
   "execution_count": null,
   "metadata": {},
   "outputs": [],
   "source": [
    "plt.figure(figsize=(12, 4))\n",
    "sns.barplot(df_score.Method, df_score.RMSE)\n",
    "plt.grid()\n",
    "plt.ylim(15000, 40000)\n",
    "plt.show()"
   ]
  },
  {
   "cell_type": "markdown",
   "metadata": {},
   "source": [
    "The above RMSE plot shows that Ridge, Lasso, Random Forest, XGBoost_dmatrix, and ElasticNet all have similar error.\n",
    "\n",
    "Next I am going to use Lasso and xgboost_dmatrix method to run the prediction."
   ]
  },
  {
   "cell_type": "code",
   "execution_count": null,
   "metadata": {},
   "outputs": [],
   "source": [
    "filename = 'lasso_model.sav'\n",
    "pickle.dump(lr_cv, open(filename, 'wb'))"
   ]
  },
  {
   "cell_type": "code",
   "execution_count": null,
   "metadata": {},
   "outputs": [],
   "source": [
    "filename = 'xgboost_dmatrix_model.sav'\n",
    "pickle.dump(xgb_r, open(filename, 'wb'))"
   ]
  },
  {
   "cell_type": "markdown",
   "metadata": {},
   "source": [
    "### Summary \n",
    "\n",
    "For this linear regression problem, I use several methods and compare the results. They all return similar result except 'logistic' and 'svr' method. \n",
    "\n",
    "The indepedent and response variables are original values, and not transformed to log format."
   ]
  },
  {
   "cell_type": "code",
   "execution_count": null,
   "metadata": {},
   "outputs": [],
   "source": []
  }
 ],
 "metadata": {
  "kernelspec": {
   "display_name": "Python 3",
   "language": "python",
   "name": "python3"
  },
  "language_info": {
   "codemirror_mode": {
    "name": "ipython",
    "version": 3
   },
   "file_extension": ".py",
   "mimetype": "text/x-python",
   "name": "python",
   "nbconvert_exporter": "python",
   "pygments_lexer": "ipython3",
   "version": "3.8.5"
  }
 },
 "nbformat": 4,
 "nbformat_minor": 4
}
