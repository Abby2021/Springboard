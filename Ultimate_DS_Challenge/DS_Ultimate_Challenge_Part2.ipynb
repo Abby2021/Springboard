{
 "cells": [
  {
   "cell_type": "markdown",
   "metadata": {},
   "source": [
    "# Part 2 ‑ Experiment and metrics design\n",
    "\n",
    "The neighboring cities of Gotham and Metropolis have complementary circadian rhythms: on weekdays, Ultimate Gotham is most active at night, and Ultimate Metropolis is most active during the day. On weekends, there is reasonable activity in both cities. However, a toll bridge, with a two way toll, between the two cities causes driver partners to tend to be exclusive to each city. The Ultimate managers of city operations for the two cities have proposed an experiment to encourage driver partners to be available in both cities, by reimbursing all toll costs.\n",
    "\n",
    "1. What would you choose as the key measure of success of this experiment in encouraging driver partners to serve both cities, and why would you choose this metric?\n",
    "2. Describe a practical experiment you would design to compare the effectiveness of the proposed change in relation to the key measure of success. Please provide details on:\n",
    "   - a. how you will implement the experiment\n",
    "   - b. what statistical test(s) you will conduct to verify the significance of the observation\n",
    "   - c. how you would interpret the results and provide recommendations to the city operations team along with any caveats."
   ]
  },
  {
   "cell_type": "markdown",
   "metadata": {},
   "source": [
    "## ANSWER:\n",
    "\n"
   ]
  },
  {
   "cell_type": "markdown",
   "metadata": {},
   "source": [
    "My understanding to the problem:\n",
    "Driver partners tend to serve one city exclusively because of the toll costs. These two cities have complementary circadian rhythms during the weekdays. It is possible that during the weekdays both of them don't have enough driver partners during their busy hours. To balance the driving service and demand in both cities, the Untimate managers plan to reimburse all the tolls costs to those driver partners who serve both cities.\n",
    "\n",
    "1. The metric would be the traffic volume increasement for both ways after carrying out the reimbursement policy. Specificly, more cars going to Metropolis from Gotham from 6 am to 6 pm on weekdays and more cars going to Gotham from Metropolis from 6 pm to 6 am on weekdays. If the traffic volume increasement is significant at the beginning, that means the new policy does the work. If the traffic volume increasement become not significant after a period of time, that means there is a new balance for the driver partners of serving both cities. \n",
    "  \n",
    "2. The experiment would be to measure the traffic volume both ways 1 month before and 3 months after carrying out the reimbursement policy. For this experiment, I would use two hypothesis tests:\n",
    "  1. - H0: There is no traffic volume increase from Gotham to Metropolis from 6 am to 6 pm on weekdays.\n",
    "     - H1: There is increased traffic volume from Gotham to Metropolis from 6 am to 6 pm on weekdays.\n",
    "  2. - H0: There is no traffic volume increase from Metropolis to Gotham from 6 pm to 6 am on weekdays.\n",
    "     - H1: There is increased traffic volume from Metropolis to Gotham from 6 pm to 6 am on weekdays.\n",
    "\n",
    "  I would use a one-tailed Z-test to determine the p-value of each hypothesis.\n",
    "\n",
    "  If the p-value is less than 0.05 for BOTH tests I would reject the null hypotheses and recommend the reimbursement program continue, and extend the experiment for more data.\n",
    "\n",
    "  If the p-value is greater than 0.05 for BOTH tests I would fail to reject the null hypotheses and recommend that a different program be developed to increase partner driving between the two cities.\n",
    "\n",
    "  If the p-value is mixed, so only one hypothesis has a p-value less than 0.05 I would recommend that the analysis is inconclusive and that further investigation is needed.\n",
    "\n"
   ]
  },
  {
   "cell_type": "code",
   "execution_count": null,
   "metadata": {},
   "outputs": [],
   "source": []
  }
 ],
 "metadata": {
  "kernelspec": {
   "display_name": "Python 3",
   "language": "python",
   "name": "python3"
  },
  "language_info": {
   "codemirror_mode": {
    "name": "ipython",
    "version": 3
   },
   "file_extension": ".py",
   "mimetype": "text/x-python",
   "name": "python",
   "nbconvert_exporter": "python",
   "pygments_lexer": "ipython3",
   "version": "3.8.5"
  }
 },
 "nbformat": 4,
 "nbformat_minor": 4
}
