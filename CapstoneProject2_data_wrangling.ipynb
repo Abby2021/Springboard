{
 "cells": [
  {
   "cell_type": "markdown",
   "metadata": {},
   "source": [
    "# Capstone Project 2 Data Wrangling"
   ]
  },
  {
   "cell_type": "markdown",
   "metadata": {},
   "source": [
    "## Problem Statement:\n",
    "COVID-19 pandemic has heavily impacted the United States from March 2020. Up to date, the total cases has accumulated to 28 million and deaths ~ 0.5 million with fatality rate ~1.8% nationly. In this study we are going to work on how did COVID-19 impact state by state over time, how did COVID-19 impact two gender groups, and how did COVID-19 impact age groups. Potentially we will look into how government policy influences covid-19 cases/deaths. This work will take about 1 month time. And the results could give guidance to people and/or the state government in future. \n",
    " \n",
    "\n",
    "\n",
    "## Data Sources:\n",
    "CDC webpage provides certain dataset. The dataset for this study is United States COVID-19 Cases and Deaths by State over Time.\n",
    "The downloading link is https://covid.cdc.gov/covid-data-tracker/#datatracker-home\n",
    "Potential other data needed: \n",
    "1. Population in US states (US census, or state webpage)\n",
    "2. COVID-19 government policy in US states (state webpage)\n"
   ]
  },
  {
   "cell_type": "markdown",
   "metadata": {},
   "source": [
    "### import modules and import data"
   ]
  },
  {
   "cell_type": "code",
   "execution_count": 272,
   "metadata": {},
   "outputs": [],
   "source": [
    "# import modules\n",
    "\n",
    "import pandas as pd\n",
    "import numpy as np\n",
    "import matplotlib.pyplot as plt\n",
    "import seaborn as sns"
   ]
  },
  {
   "cell_type": "code",
   "execution_count": 273,
   "metadata": {},
   "outputs": [],
   "source": [
    "# import data\n",
    "data = pd.read_csv('United_States_COVID-19_Cases_and_Deaths_by_State_over_Time.csv')"
   ]
  },
  {
   "cell_type": "code",
   "execution_count": 274,
   "metadata": {},
   "outputs": [
    {
     "data": {
      "text/html": [
       "<div>\n",
       "<style scoped>\n",
       "    .dataframe tbody tr th:only-of-type {\n",
       "        vertical-align: middle;\n",
       "    }\n",
       "\n",
       "    .dataframe tbody tr th {\n",
       "        vertical-align: top;\n",
       "    }\n",
       "\n",
       "    .dataframe thead th {\n",
       "        text-align: right;\n",
       "    }\n",
       "</style>\n",
       "<table border=\"1\" class=\"dataframe\">\n",
       "  <thead>\n",
       "    <tr style=\"text-align: right;\">\n",
       "      <th></th>\n",
       "      <th>submission_date</th>\n",
       "      <th>state</th>\n",
       "      <th>tot_cases</th>\n",
       "      <th>conf_cases</th>\n",
       "      <th>prob_cases</th>\n",
       "      <th>new_case</th>\n",
       "      <th>pnew_case</th>\n",
       "      <th>tot_death</th>\n",
       "      <th>conf_death</th>\n",
       "      <th>prob_death</th>\n",
       "      <th>new_death</th>\n",
       "      <th>pnew_death</th>\n",
       "      <th>created_at</th>\n",
       "      <th>consent_cases</th>\n",
       "      <th>consent_deaths</th>\n",
       "    </tr>\n",
       "  </thead>\n",
       "  <tbody>\n",
       "    <tr>\n",
       "      <th>0</th>\n",
       "      <td>05/04/2020</td>\n",
       "      <td>KY</td>\n",
       "      <td>5245</td>\n",
       "      <td>5245.0</td>\n",
       "      <td>0.0</td>\n",
       "      <td>115</td>\n",
       "      <td>0.0</td>\n",
       "      <td>261</td>\n",
       "      <td>261.0</td>\n",
       "      <td>0.0</td>\n",
       "      <td>8</td>\n",
       "      <td>0.0</td>\n",
       "      <td>05/05/2020 05:25:08 PM</td>\n",
       "      <td>Agree</td>\n",
       "      <td>Agree</td>\n",
       "    </tr>\n",
       "    <tr>\n",
       "      <th>1</th>\n",
       "      <td>03/23/2020</td>\n",
       "      <td>NH</td>\n",
       "      <td>101</td>\n",
       "      <td>NaN</td>\n",
       "      <td>NaN</td>\n",
       "      <td>23</td>\n",
       "      <td>NaN</td>\n",
       "      <td>1</td>\n",
       "      <td>NaN</td>\n",
       "      <td>NaN</td>\n",
       "      <td>1</td>\n",
       "      <td>NaN</td>\n",
       "      <td>03/26/2020 04:22:39 PM</td>\n",
       "      <td>Not agree</td>\n",
       "      <td>Not agree</td>\n",
       "    </tr>\n",
       "    <tr>\n",
       "      <th>2</th>\n",
       "      <td>04/11/2020</td>\n",
       "      <td>IL</td>\n",
       "      <td>19180</td>\n",
       "      <td>NaN</td>\n",
       "      <td>NaN</td>\n",
       "      <td>1293</td>\n",
       "      <td>NaN</td>\n",
       "      <td>677</td>\n",
       "      <td>NaN</td>\n",
       "      <td>NaN</td>\n",
       "      <td>81</td>\n",
       "      <td>NaN</td>\n",
       "      <td>04/10/2020 04:22:39 PM</td>\n",
       "      <td>Agree</td>\n",
       "      <td>Agree</td>\n",
       "    </tr>\n",
       "    <tr>\n",
       "      <th>3</th>\n",
       "      <td>01/01/2021</td>\n",
       "      <td>FL</td>\n",
       "      <td>1300528</td>\n",
       "      <td>NaN</td>\n",
       "      <td>NaN</td>\n",
       "      <td>0</td>\n",
       "      <td>6063.0</td>\n",
       "      <td>21673</td>\n",
       "      <td>NaN</td>\n",
       "      <td>NaN</td>\n",
       "      <td>0</td>\n",
       "      <td>7.0</td>\n",
       "      <td>01/02/2021 02:50:51 PM</td>\n",
       "      <td>Not agree</td>\n",
       "      <td>Not agree</td>\n",
       "    </tr>\n",
       "    <tr>\n",
       "      <th>4</th>\n",
       "      <td>04/09/2020</td>\n",
       "      <td>PA</td>\n",
       "      <td>18228</td>\n",
       "      <td>NaN</td>\n",
       "      <td>NaN</td>\n",
       "      <td>1989</td>\n",
       "      <td>NaN</td>\n",
       "      <td>338</td>\n",
       "      <td>NaN</td>\n",
       "      <td>NaN</td>\n",
       "      <td>28</td>\n",
       "      <td>NaN</td>\n",
       "      <td>04/08/2020 04:22:39 PM</td>\n",
       "      <td>Agree</td>\n",
       "      <td>Not agree</td>\n",
       "    </tr>\n",
       "  </tbody>\n",
       "</table>\n",
       "</div>"
      ],
      "text/plain": [
       "  submission_date state  tot_cases  conf_cases  prob_cases  new_case  \\\n",
       "0      05/04/2020    KY       5245      5245.0         0.0       115   \n",
       "1      03/23/2020    NH        101         NaN         NaN        23   \n",
       "2      04/11/2020    IL      19180         NaN         NaN      1293   \n",
       "3      01/01/2021    FL    1300528         NaN         NaN         0   \n",
       "4      04/09/2020    PA      18228         NaN         NaN      1989   \n",
       "\n",
       "   pnew_case  tot_death  conf_death  prob_death  new_death  pnew_death  \\\n",
       "0        0.0        261       261.0         0.0          8         0.0   \n",
       "1        NaN          1         NaN         NaN          1         NaN   \n",
       "2        NaN        677         NaN         NaN         81         NaN   \n",
       "3     6063.0      21673         NaN         NaN          0         7.0   \n",
       "4        NaN        338         NaN         NaN         28         NaN   \n",
       "\n",
       "               created_at consent_cases consent_deaths  \n",
       "0  05/05/2020 05:25:08 PM         Agree          Agree  \n",
       "1  03/26/2020 04:22:39 PM     Not agree      Not agree  \n",
       "2  04/10/2020 04:22:39 PM         Agree          Agree  \n",
       "3  01/02/2021 02:50:51 PM     Not agree      Not agree  \n",
       "4  04/08/2020 04:22:39 PM         Agree      Not agree  "
      ]
     },
     "execution_count": 274,
     "metadata": {},
     "output_type": "execute_result"
    }
   ],
   "source": [
    "data.head()"
   ]
  },
  {
   "cell_type": "markdown",
   "metadata": {},
   "source": [
    "### Remove features with too many NaN values and not needed for the study"
   ]
  },
  {
   "cell_type": "code",
   "execution_count": 275,
   "metadata": {},
   "outputs": [
    {
     "data": {
      "text/html": [
       "<div>\n",
       "<style scoped>\n",
       "    .dataframe tbody tr th:only-of-type {\n",
       "        vertical-align: middle;\n",
       "    }\n",
       "\n",
       "    .dataframe tbody tr th {\n",
       "        vertical-align: top;\n",
       "    }\n",
       "\n",
       "    .dataframe thead th {\n",
       "        text-align: right;\n",
       "    }\n",
       "</style>\n",
       "<table border=\"1\" class=\"dataframe\">\n",
       "  <thead>\n",
       "    <tr style=\"text-align: right;\">\n",
       "      <th></th>\n",
       "      <th>submission_date</th>\n",
       "      <th>state</th>\n",
       "      <th>tot_cases</th>\n",
       "      <th>tot_death</th>\n",
       "      <th>created_at</th>\n",
       "    </tr>\n",
       "  </thead>\n",
       "  <tbody>\n",
       "    <tr>\n",
       "      <th>0</th>\n",
       "      <td>05/04/2020</td>\n",
       "      <td>KY</td>\n",
       "      <td>5245</td>\n",
       "      <td>261</td>\n",
       "      <td>05/05/2020 05:25:08 PM</td>\n",
       "    </tr>\n",
       "    <tr>\n",
       "      <th>1</th>\n",
       "      <td>03/23/2020</td>\n",
       "      <td>NH</td>\n",
       "      <td>101</td>\n",
       "      <td>1</td>\n",
       "      <td>03/26/2020 04:22:39 PM</td>\n",
       "    </tr>\n",
       "    <tr>\n",
       "      <th>2</th>\n",
       "      <td>04/11/2020</td>\n",
       "      <td>IL</td>\n",
       "      <td>19180</td>\n",
       "      <td>677</td>\n",
       "      <td>04/10/2020 04:22:39 PM</td>\n",
       "    </tr>\n",
       "    <tr>\n",
       "      <th>3</th>\n",
       "      <td>01/01/2021</td>\n",
       "      <td>FL</td>\n",
       "      <td>1300528</td>\n",
       "      <td>21673</td>\n",
       "      <td>01/02/2021 02:50:51 PM</td>\n",
       "    </tr>\n",
       "    <tr>\n",
       "      <th>4</th>\n",
       "      <td>04/09/2020</td>\n",
       "      <td>PA</td>\n",
       "      <td>18228</td>\n",
       "      <td>338</td>\n",
       "      <td>04/08/2020 04:22:39 PM</td>\n",
       "    </tr>\n",
       "  </tbody>\n",
       "</table>\n",
       "</div>"
      ],
      "text/plain": [
       "  submission_date state  tot_cases  tot_death              created_at\n",
       "0      05/04/2020    KY       5245        261  05/05/2020 05:25:08 PM\n",
       "1      03/23/2020    NH        101          1  03/26/2020 04:22:39 PM\n",
       "2      04/11/2020    IL      19180        677  04/10/2020 04:22:39 PM\n",
       "3      01/01/2021    FL    1300528      21673  01/02/2021 02:50:51 PM\n",
       "4      04/09/2020    PA      18228        338  04/08/2020 04:22:39 PM"
      ]
     },
     "execution_count": 275,
     "metadata": {},
     "output_type": "execute_result"
    }
   ],
   "source": [
    "# we will focus on the features of 'submission_date', 'state', 'tot_cases', 'tot_death', 'created_at', since others have a lot of NaN values\n",
    "\n",
    "df = data[['submission_date', 'state', 'tot_cases', 'tot_death', 'created_at']]\n",
    "df.head()"
   ]
  },
  {
   "cell_type": "code",
   "execution_count": 276,
   "metadata": {},
   "outputs": [
    {
     "name": "stdout",
     "output_type": "stream",
     "text": [
      "<class 'pandas.core.frame.DataFrame'>\n",
      "RangeIndex: 23880 entries, 0 to 23879\n",
      "Data columns (total 5 columns):\n",
      " #   Column           Non-Null Count  Dtype \n",
      "---  ------           --------------  ----- \n",
      " 0   submission_date  23880 non-null  object\n",
      " 1   state            23880 non-null  object\n",
      " 2   tot_cases        23880 non-null  int64 \n",
      " 3   tot_death        23880 non-null  int64 \n",
      " 4   created_at       23880 non-null  object\n",
      "dtypes: int64(2), object(3)\n",
      "memory usage: 932.9+ KB\n"
     ]
    }
   ],
   "source": [
    "df.info()\n",
    "# need to convert the date to date format"
   ]
  },
  {
   "cell_type": "code",
   "execution_count": 277,
   "metadata": {},
   "outputs": [
    {
     "data": {
      "text/html": [
       "<div>\n",
       "<style scoped>\n",
       "    .dataframe tbody tr th:only-of-type {\n",
       "        vertical-align: middle;\n",
       "    }\n",
       "\n",
       "    .dataframe tbody tr th {\n",
       "        vertical-align: top;\n",
       "    }\n",
       "\n",
       "    .dataframe thead th {\n",
       "        text-align: right;\n",
       "    }\n",
       "</style>\n",
       "<table border=\"1\" class=\"dataframe\">\n",
       "  <thead>\n",
       "    <tr style=\"text-align: right;\">\n",
       "      <th></th>\n",
       "      <th>tot_cases</th>\n",
       "      <th>tot_death</th>\n",
       "    </tr>\n",
       "  </thead>\n",
       "  <tbody>\n",
       "    <tr>\n",
       "      <th>count</th>\n",
       "      <td>2.388000e+04</td>\n",
       "      <td>23880.000000</td>\n",
       "    </tr>\n",
       "    <tr>\n",
       "      <th>mean</th>\n",
       "      <td>1.274837e+05</td>\n",
       "      <td>2884.435595</td>\n",
       "    </tr>\n",
       "    <tr>\n",
       "      <th>std</th>\n",
       "      <td>2.760387e+05</td>\n",
       "      <td>5372.139813</td>\n",
       "    </tr>\n",
       "    <tr>\n",
       "      <th>min</th>\n",
       "      <td>0.000000e+00</td>\n",
       "      <td>0.000000</td>\n",
       "    </tr>\n",
       "    <tr>\n",
       "      <th>25%</th>\n",
       "      <td>4.567500e+02</td>\n",
       "      <td>8.000000</td>\n",
       "    </tr>\n",
       "    <tr>\n",
       "      <th>50%</th>\n",
       "      <td>2.385500e+04</td>\n",
       "      <td>561.000000</td>\n",
       "    </tr>\n",
       "    <tr>\n",
       "      <th>75%</th>\n",
       "      <td>1.374790e+05</td>\n",
       "      <td>3278.750000</td>\n",
       "    </tr>\n",
       "    <tr>\n",
       "      <th>max</th>\n",
       "      <td>3.446611e+06</td>\n",
       "      <td>49338.000000</td>\n",
       "    </tr>\n",
       "  </tbody>\n",
       "</table>\n",
       "</div>"
      ],
      "text/plain": [
       "          tot_cases     tot_death\n",
       "count  2.388000e+04  23880.000000\n",
       "mean   1.274837e+05   2884.435595\n",
       "std    2.760387e+05   5372.139813\n",
       "min    0.000000e+00      0.000000\n",
       "25%    4.567500e+02      8.000000\n",
       "50%    2.385500e+04    561.000000\n",
       "75%    1.374790e+05   3278.750000\n",
       "max    3.446611e+06  49338.000000"
      ]
     },
     "execution_count": 277,
     "metadata": {},
     "output_type": "execute_result"
    }
   ],
   "source": [
    "df.describe()"
   ]
  },
  {
   "cell_type": "code",
   "execution_count": 278,
   "metadata": {},
   "outputs": [
    {
     "data": {
      "text/plain": [
       "(23880, 5)"
      ]
     },
     "execution_count": 278,
     "metadata": {},
     "output_type": "execute_result"
    }
   ],
   "source": [
    "df.shape"
   ]
  },
  {
   "cell_type": "markdown",
   "metadata": {},
   "source": [
    "### check null values"
   ]
  },
  {
   "cell_type": "code",
   "execution_count": 279,
   "metadata": {},
   "outputs": [
    {
     "data": {
      "text/plain": [
       "submission_date    0\n",
       "state              0\n",
       "tot_cases          0\n",
       "tot_death          0\n",
       "created_at         0\n",
       "dtype: int64"
      ]
     },
     "execution_count": 279,
     "metadata": {},
     "output_type": "execute_result"
    }
   ],
   "source": [
    "# check to see weather we have null values or not. 0 is found....\n",
    "df.isnull().sum()"
   ]
  },
  {
   "cell_type": "markdown",
   "metadata": {},
   "source": [
    "### convert the date to datetime"
   ]
  },
  {
   "cell_type": "code",
   "execution_count": 280,
   "metadata": {},
   "outputs": [
    {
     "name": "stderr",
     "output_type": "stream",
     "text": [
      "<ipython-input-280-aa4ab1fbfa75>:3: SettingWithCopyWarning: \n",
      "A value is trying to be set on a copy of a slice from a DataFrame.\n",
      "Try using .loc[row_indexer,col_indexer] = value instead\n",
      "\n",
      "See the caveats in the documentation: https://pandas.pydata.org/pandas-docs/stable/user_guide/indexing.html#returning-a-view-versus-a-copy\n",
      "  df['submission_date'] = pd.to_datetime(df.submission_date)\n"
     ]
    }
   ],
   "source": [
    "# convert the time to datetime\n",
    "\n",
    "df['submission_date'] = pd.to_datetime(df.submission_date)"
   ]
  },
  {
   "cell_type": "code",
   "execution_count": 281,
   "metadata": {},
   "outputs": [
    {
     "data": {
      "text/html": [
       "<div>\n",
       "<style scoped>\n",
       "    .dataframe tbody tr th:only-of-type {\n",
       "        vertical-align: middle;\n",
       "    }\n",
       "\n",
       "    .dataframe tbody tr th {\n",
       "        vertical-align: top;\n",
       "    }\n",
       "\n",
       "    .dataframe thead th {\n",
       "        text-align: right;\n",
       "    }\n",
       "</style>\n",
       "<table border=\"1\" class=\"dataframe\">\n",
       "  <thead>\n",
       "    <tr style=\"text-align: right;\">\n",
       "      <th></th>\n",
       "      <th>submission_date</th>\n",
       "      <th>state</th>\n",
       "      <th>tot_cases</th>\n",
       "      <th>tot_death</th>\n",
       "      <th>created_at</th>\n",
       "    </tr>\n",
       "  </thead>\n",
       "  <tbody>\n",
       "    <tr>\n",
       "      <th>0</th>\n",
       "      <td>2020-05-04</td>\n",
       "      <td>KY</td>\n",
       "      <td>5245</td>\n",
       "      <td>261</td>\n",
       "      <td>05/05/2020 05:25:08 PM</td>\n",
       "    </tr>\n",
       "    <tr>\n",
       "      <th>1</th>\n",
       "      <td>2020-03-23</td>\n",
       "      <td>NH</td>\n",
       "      <td>101</td>\n",
       "      <td>1</td>\n",
       "      <td>03/26/2020 04:22:39 PM</td>\n",
       "    </tr>\n",
       "    <tr>\n",
       "      <th>2</th>\n",
       "      <td>2020-04-11</td>\n",
       "      <td>IL</td>\n",
       "      <td>19180</td>\n",
       "      <td>677</td>\n",
       "      <td>04/10/2020 04:22:39 PM</td>\n",
       "    </tr>\n",
       "    <tr>\n",
       "      <th>3</th>\n",
       "      <td>2021-01-01</td>\n",
       "      <td>FL</td>\n",
       "      <td>1300528</td>\n",
       "      <td>21673</td>\n",
       "      <td>01/02/2021 02:50:51 PM</td>\n",
       "    </tr>\n",
       "    <tr>\n",
       "      <th>4</th>\n",
       "      <td>2020-04-09</td>\n",
       "      <td>PA</td>\n",
       "      <td>18228</td>\n",
       "      <td>338</td>\n",
       "      <td>04/08/2020 04:22:39 PM</td>\n",
       "    </tr>\n",
       "  </tbody>\n",
       "</table>\n",
       "</div>"
      ],
      "text/plain": [
       "  submission_date state  tot_cases  tot_death              created_at\n",
       "0      2020-05-04    KY       5245        261  05/05/2020 05:25:08 PM\n",
       "1      2020-03-23    NH        101          1  03/26/2020 04:22:39 PM\n",
       "2      2020-04-11    IL      19180        677  04/10/2020 04:22:39 PM\n",
       "3      2021-01-01    FL    1300528      21673  01/02/2021 02:50:51 PM\n",
       "4      2020-04-09    PA      18228        338  04/08/2020 04:22:39 PM"
      ]
     },
     "execution_count": 281,
     "metadata": {},
     "output_type": "execute_result"
    }
   ],
   "source": [
    "df.head()"
   ]
  },
  {
   "cell_type": "markdown",
   "metadata": {},
   "source": [
    "### remove the rows with 0 total cases. Those days are before the pandemic"
   ]
  },
  {
   "cell_type": "code",
   "execution_count": 282,
   "metadata": {},
   "outputs": [],
   "source": [
    "# drop tot_death ==0 the rows\n",
    "df = df[df.tot_cases!=0]"
   ]
  },
  {
   "cell_type": "markdown",
   "metadata": {},
   "source": [
    "### Add total_death_rate to df "
   ]
  },
  {
   "cell_type": "code",
   "execution_count": 283,
   "metadata": {},
   "outputs": [],
   "source": [
    "df['tot_death_rate'] = df.tot_death/df.tot_cases"
   ]
  },
  {
   "cell_type": "code",
   "execution_count": 284,
   "metadata": {},
   "outputs": [
    {
     "data": {
      "text/html": [
       "<div>\n",
       "<style scoped>\n",
       "    .dataframe tbody tr th:only-of-type {\n",
       "        vertical-align: middle;\n",
       "    }\n",
       "\n",
       "    .dataframe tbody tr th {\n",
       "        vertical-align: top;\n",
       "    }\n",
       "\n",
       "    .dataframe thead th {\n",
       "        text-align: right;\n",
       "    }\n",
       "</style>\n",
       "<table border=\"1\" class=\"dataframe\">\n",
       "  <thead>\n",
       "    <tr style=\"text-align: right;\">\n",
       "      <th></th>\n",
       "      <th>submission_date</th>\n",
       "      <th>state</th>\n",
       "      <th>tot_cases</th>\n",
       "      <th>tot_death</th>\n",
       "      <th>created_at</th>\n",
       "      <th>tot_death_rate</th>\n",
       "    </tr>\n",
       "  </thead>\n",
       "  <tbody>\n",
       "    <tr>\n",
       "      <th>0</th>\n",
       "      <td>2020-05-04</td>\n",
       "      <td>KY</td>\n",
       "      <td>5245</td>\n",
       "      <td>261</td>\n",
       "      <td>05/05/2020 05:25:08 PM</td>\n",
       "      <td>0.049762</td>\n",
       "    </tr>\n",
       "    <tr>\n",
       "      <th>1</th>\n",
       "      <td>2020-03-23</td>\n",
       "      <td>NH</td>\n",
       "      <td>101</td>\n",
       "      <td>1</td>\n",
       "      <td>03/26/2020 04:22:39 PM</td>\n",
       "      <td>0.009901</td>\n",
       "    </tr>\n",
       "    <tr>\n",
       "      <th>2</th>\n",
       "      <td>2020-04-11</td>\n",
       "      <td>IL</td>\n",
       "      <td>19180</td>\n",
       "      <td>677</td>\n",
       "      <td>04/10/2020 04:22:39 PM</td>\n",
       "      <td>0.035297</td>\n",
       "    </tr>\n",
       "    <tr>\n",
       "      <th>3</th>\n",
       "      <td>2021-01-01</td>\n",
       "      <td>FL</td>\n",
       "      <td>1300528</td>\n",
       "      <td>21673</td>\n",
       "      <td>01/02/2021 02:50:51 PM</td>\n",
       "      <td>0.016665</td>\n",
       "    </tr>\n",
       "    <tr>\n",
       "      <th>4</th>\n",
       "      <td>2020-04-09</td>\n",
       "      <td>PA</td>\n",
       "      <td>18228</td>\n",
       "      <td>338</td>\n",
       "      <td>04/08/2020 04:22:39 PM</td>\n",
       "      <td>0.018543</td>\n",
       "    </tr>\n",
       "  </tbody>\n",
       "</table>\n",
       "</div>"
      ],
      "text/plain": [
       "  submission_date state  tot_cases  tot_death              created_at  \\\n",
       "0      2020-05-04    KY       5245        261  05/05/2020 05:25:08 PM   \n",
       "1      2020-03-23    NH        101          1  03/26/2020 04:22:39 PM   \n",
       "2      2020-04-11    IL      19180        677  04/10/2020 04:22:39 PM   \n",
       "3      2021-01-01    FL    1300528      21673  01/02/2021 02:50:51 PM   \n",
       "4      2020-04-09    PA      18228        338  04/08/2020 04:22:39 PM   \n",
       "\n",
       "   tot_death_rate  \n",
       "0        0.049762  \n",
       "1        0.009901  \n",
       "2        0.035297  \n",
       "3        0.016665  \n",
       "4        0.018543  "
      ]
     },
     "execution_count": 284,
     "metadata": {},
     "output_type": "execute_result"
    }
   ],
   "source": [
    "df.head()"
   ]
  },
  {
   "cell_type": "markdown",
   "metadata": {},
   "source": [
    "### This part is to get the daily cases, daily death, and daily death rate\n",
    "We will sort the dataframe by date and then calculate the daily case, daily death, and daily death rate for each state\n"
   ]
  },
  {
   "cell_type": "code",
   "execution_count": 287,
   "metadata": {},
   "outputs": [],
   "source": [
    "states = list(set(df.state))\n",
    "\n",
    "df_v1 = pd.DataFrame()\n",
    "\n",
    "for st in states:\n",
    "    daily_cases=[]\n",
    "    daily_death=[]\n",
    "    \n",
    "    df_st = df[df.state == st].sort_values(by=['submission_date'])\n",
    "    df_st.reset_index(inplace=True)\n",
    "    \n",
    "    daily_cases.append(df_st.iloc[0][3])\n",
    "    daily_death.append(df_st.iloc[0][4])\n",
    "    \n",
    "    for i in range(1, len(df_st.tot_cases)):\n",
    "        daily_cases.append(df_st.tot_cases[i]-df_st.tot_cases[i-1]) \n",
    "        daily_death.append(df_st.tot_death[i]-df_st.tot_death[i-1])\n",
    "    df_st['daily_cases'] = daily_cases\n",
    "    df_st['daily_death'] = daily_death\n",
    "    df_v1 = df_v1.append(df_st)\n",
    "    #df_st = pd.DataFrame()\n"
   ]
  },
  {
   "cell_type": "code",
   "execution_count": 289,
   "metadata": {},
   "outputs": [
    {
     "data": {
      "text/plain": [
       "(20182, 9)"
      ]
     },
     "execution_count": 289,
     "metadata": {},
     "output_type": "execute_result"
    }
   ],
   "source": [
    "df_v1.shape"
   ]
  },
  {
   "cell_type": "code",
   "execution_count": 290,
   "metadata": {},
   "outputs": [
    {
     "data": {
      "text/html": [
       "<div>\n",
       "<style scoped>\n",
       "    .dataframe tbody tr th:only-of-type {\n",
       "        vertical-align: middle;\n",
       "    }\n",
       "\n",
       "    .dataframe tbody tr th {\n",
       "        vertical-align: top;\n",
       "    }\n",
       "\n",
       "    .dataframe thead th {\n",
       "        text-align: right;\n",
       "    }\n",
       "</style>\n",
       "<table border=\"1\" class=\"dataframe\">\n",
       "  <thead>\n",
       "    <tr style=\"text-align: right;\">\n",
       "      <th></th>\n",
       "      <th>index</th>\n",
       "      <th>submission_date</th>\n",
       "      <th>state</th>\n",
       "      <th>tot_cases</th>\n",
       "      <th>tot_death</th>\n",
       "      <th>created_at</th>\n",
       "      <th>tot_death_rate</th>\n",
       "      <th>daily_cases</th>\n",
       "      <th>daily_death</th>\n",
       "    </tr>\n",
       "  </thead>\n",
       "  <tbody>\n",
       "    <tr>\n",
       "      <th>391</th>\n",
       "      <td>11587</td>\n",
       "      <td>2021-02-18</td>\n",
       "      <td>IL</td>\n",
       "      <td>1168683</td>\n",
       "      <td>22297</td>\n",
       "      <td>02/19/2021 03:33:51 PM</td>\n",
       "      <td>0.019079</td>\n",
       "      <td>1966</td>\n",
       "      <td>73</td>\n",
       "    </tr>\n",
       "    <tr>\n",
       "      <th>392</th>\n",
       "      <td>2247</td>\n",
       "      <td>2021-02-19</td>\n",
       "      <td>IL</td>\n",
       "      <td>1170902</td>\n",
       "      <td>22368</td>\n",
       "      <td>02/20/2021 02:45:37 PM</td>\n",
       "      <td>0.019103</td>\n",
       "      <td>2219</td>\n",
       "      <td>71</td>\n",
       "    </tr>\n",
       "    <tr>\n",
       "      <th>393</th>\n",
       "      <td>10613</td>\n",
       "      <td>2021-02-20</td>\n",
       "      <td>IL</td>\n",
       "      <td>1172824</td>\n",
       "      <td>22426</td>\n",
       "      <td>02/21/2021 02:57:50 PM</td>\n",
       "      <td>0.019121</td>\n",
       "      <td>1922</td>\n",
       "      <td>58</td>\n",
       "    </tr>\n",
       "    <tr>\n",
       "      <th>394</th>\n",
       "      <td>8469</td>\n",
       "      <td>2021-02-21</td>\n",
       "      <td>IL</td>\n",
       "      <td>1174409</td>\n",
       "      <td>22466</td>\n",
       "      <td>02/22/2021 02:53:38 PM</td>\n",
       "      <td>0.019130</td>\n",
       "      <td>1585</td>\n",
       "      <td>40</td>\n",
       "    </tr>\n",
       "    <tr>\n",
       "      <th>395</th>\n",
       "      <td>1335</td>\n",
       "      <td>2021-02-22</td>\n",
       "      <td>IL</td>\n",
       "      <td>1175655</td>\n",
       "      <td>22506</td>\n",
       "      <td>02/23/2021 02:51:13 PM</td>\n",
       "      <td>0.019143</td>\n",
       "      <td>1246</td>\n",
       "      <td>40</td>\n",
       "    </tr>\n",
       "  </tbody>\n",
       "</table>\n",
       "</div>"
      ],
      "text/plain": [
       "     index submission_date state  tot_cases  tot_death  \\\n",
       "391  11587      2021-02-18    IL    1168683      22297   \n",
       "392   2247      2021-02-19    IL    1170902      22368   \n",
       "393  10613      2021-02-20    IL    1172824      22426   \n",
       "394   8469      2021-02-21    IL    1174409      22466   \n",
       "395   1335      2021-02-22    IL    1175655      22506   \n",
       "\n",
       "                 created_at  tot_death_rate  daily_cases  daily_death  \n",
       "391  02/19/2021 03:33:51 PM        0.019079         1966           73  \n",
       "392  02/20/2021 02:45:37 PM        0.019103         2219           71  \n",
       "393  02/21/2021 02:57:50 PM        0.019121         1922           58  \n",
       "394  02/22/2021 02:53:38 PM        0.019130         1585           40  \n",
       "395  02/23/2021 02:51:13 PM        0.019143         1246           40  "
      ]
     },
     "execution_count": 290,
     "metadata": {},
     "output_type": "execute_result"
    }
   ],
   "source": [
    "df_v1.tail()"
   ]
  },
  {
   "cell_type": "markdown",
   "metadata": {},
   "source": [
    "### check daily cases and daily death for nagative values"
   ]
  },
  {
   "cell_type": "code",
   "execution_count": 294,
   "metadata": {},
   "outputs": [
    {
     "data": {
      "text/plain": [
       "index              75\n",
       "submission_date    75\n",
       "state              75\n",
       "tot_cases          75\n",
       "tot_death          75\n",
       "created_at         75\n",
       "tot_death_rate     75\n",
       "daily_cases        75\n",
       "daily_death        75\n",
       "dtype: int64"
      ]
     },
     "execution_count": 294,
     "metadata": {},
     "output_type": "execute_result"
    }
   ],
   "source": [
    "df_v1[df_v1.daily_cases < 0].count()"
   ]
  },
  {
   "cell_type": "code",
   "execution_count": 295,
   "metadata": {},
   "outputs": [
    {
     "data": {
      "text/plain": [
       "index              160\n",
       "submission_date    160\n",
       "state              160\n",
       "tot_cases          160\n",
       "tot_death          160\n",
       "created_at         160\n",
       "tot_death_rate     160\n",
       "daily_cases        160\n",
       "daily_death        160\n",
       "dtype: int64"
      ]
     },
     "execution_count": 295,
     "metadata": {},
     "output_type": "execute_result"
    }
   ],
   "source": [
    "df_v1[df_v1.daily_death < 0].count()"
   ]
  },
  {
   "cell_type": "markdown",
   "metadata": {},
   "source": [
    "we found a lot of negative values for daily cases and daily death. This is not making sense. \n",
    "we need to figure out how to handle them"
   ]
  },
  {
   "cell_type": "markdown",
   "metadata": {},
   "source": [
    "### I will pick one state or two to do a deeper investigation"
   ]
  },
  {
   "cell_type": "code",
   "execution_count": 317,
   "metadata": {},
   "outputs": [],
   "source": [
    "FL = df_v1[df_v1.state == 'FL']\n",
    "CA = df_v1[df_v1.state == 'CA']\n",
    "NY = df_v1[df_v1.state == 'NY']\n",
    "SD = df_v1[df_v1.state == 'SD']"
   ]
  },
  {
   "cell_type": "code",
   "execution_count": 334,
   "metadata": {},
   "outputs": [
    {
     "data": {
      "image/png": "[encoded data removed]",
      "text/plain": [
       "<Figure size 432x288 with 1 Axes>"
      ]
     },
     "metadata": {
      "needs_background": "light"
     },
     "output_type": "display_data"
    }
   ],
   "source": [
    "plt.plot(FL.submission_date, FL.daily_cases, color='red',label='FL')\n",
    "plt.plot(SD.submission_date, SD.daily_cases, color='orange',label='SD')\n",
    "plt.plot(CA.submission_date, CA.daily_cases, color='blue', label='CA')\n",
    "plt.plot(NY.submission_date, NY.daily_cases, color='green', label='NY')\n",
    "plt.ylim(-5000, 55000)\n",
    "plt.xlabel('date')\n",
    "plt.ylabel('daily cases')\n",
    "plt.legend()\n",
    "plt.show()"
   ]
  },
  {
   "cell_type": "code",
   "execution_count": 337,
   "metadata": {},
   "outputs": [
    {
     "data": {
      "image/png": "[encoded data removed]",
      "text/plain": [
       "<Figure size 432x288 with 1 Axes>"
      ]
     },
     "metadata": {
      "needs_background": "light"
     },
     "output_type": "display_data"
    }
   ],
   "source": [
    "plt.plot(FL.submission_date, FL.daily_death, color='red',label='FL')\n",
    "plt.plot(SD.submission_date, SD.daily_death, color='orange',label='SD')\n",
    "plt.plot(CA.submission_date, CA.daily_death, color='blue', label='CA')\n",
    "plt.plot(NY.submission_date, NY.daily_death, color='green', label='NY')\n",
    "plt.ylim(-100, 800)\n",
    "plt.xlabel('date')\n",
    "plt.ylabel('daily death')\n",
    "plt.legend()\n",
    "plt.show()"
   ]
  },
  {
   "cell_type": "markdown",
   "metadata": {},
   "source": [
    "The daily death of CA has very weird pattern. Is this true or ...???? Daily cases also have notches...."
   ]
  },
  {
   "cell_type": "code",
   "execution_count": 329,
   "metadata": {},
   "outputs": [
    {
     "data": {
      "image/png": "[encoded data removed]",
      "text/plain": [
       "<Figure size 432x288 with 1 Axes>"
      ]
     },
     "metadata": {
      "needs_background": "light"
     },
     "output_type": "display_data"
    }
   ],
   "source": [
    "plt.plot(FL.submission_date, FL.tot_cases, color='red',label='FL')\n",
    "plt.plot(SD.submission_date, SD.tot_cases, color='orange',label='SD')\n",
    "plt.plot(CA.submission_date, CA.tot_cases, color='blue', label='CA')\n",
    "plt.plot(NY.submission_date, NY.tot_cases, color='green', label='NY')\n",
    "plt.xlabel('date')\n",
    "plt.ylabel('total cases')\n",
    "plt.legend()\n",
    "plt.show()"
   ]
  },
  {
   "cell_type": "code",
   "execution_count": 326,
   "metadata": {},
   "outputs": [
    {
     "data": {
      "image/png": "[encoded data removed]",
      "text/plain": [
       "<Figure size 432x288 with 1 Axes>"
      ]
     },
     "metadata": {
      "needs_background": "light"
     },
     "output_type": "display_data"
    }
   ],
   "source": [
    "plt.plot(FL.submission_date, FL.tot_death, color='red',label='FL')\n",
    "plt.plot(SD.submission_date, SD.tot_death, color='orange',label='SD')\n",
    "plt.plot(CA.submission_date, CA.tot_death, color='blue', label='CA')\n",
    "plt.plot(NY.submission_date, NY.tot_death, color='green', label='NY')\n",
    "plt.xlabel('date')\n",
    "plt.ylabel('total death')\n",
    "plt.legend()\n",
    "plt.show()"
   ]
  },
  {
   "cell_type": "markdown",
   "metadata": {},
   "source": [
    "Total cases and total death have very smooth curves. \n",
    "They look ok."
   ]
  },
  {
   "cell_type": "code",
   "execution_count": 339,
   "metadata": {},
   "outputs": [
    {
     "data": {
      "image/png": "[encoded data removed]",
      "text/plain": [
       "<Figure size 432x288 with 1 Axes>"
      ]
     },
     "metadata": {
      "needs_background": "light"
     },
     "output_type": "display_data"
    }
   ],
   "source": [
    "plt.plot(FL.submission_date, FL.tot_death_rate, color='red',label='FL')\n",
    "plt.plot(SD.submission_date, SD.tot_death_rate, color='orange',label='SD')\n",
    "plt.plot(CA.submission_date, CA.tot_death_rate, color='blue', label='CA')\n",
    "plt.plot(NY.submission_date, NY.tot_death_rate, color='green', label='NY')\n",
    "plt.xlabel('date')\n",
    "plt.ylabel('total death rate')\n",
    "plt.legend()\n",
    "plt.show()"
   ]
  },
  {
   "cell_type": "markdown",
   "metadata": {},
   "source": [
    "Total death rate looks ok here. We will leave it to EDA for more dig in"
   ]
  },
  {
   "cell_type": "markdown",
   "metadata": {},
   "source": [
    "### This is a preliminary check on the dataset. We stop here for the data wrangling part.\n",
    "\n",
    "We added daily cases, daily death to the dataset, but we found negative values, and weird patterns for daily death.\n",
    "\n",
    "It is arguable weather daily cases and daily death are trustable data.\n",
    "\n",
    "I will talk with my mentor first. \n"
   ]
  },
  {
   "cell_type": "code",
   "execution_count": null,
   "metadata": {},
   "outputs": [],
   "source": []
  }
 ],
 "metadata": {
  "kernelspec": {
   "display_name": "Python 3",
   "language": "python",
   "name": "python3"
  },
  "language_info": {
   "codemirror_mode": {
    "name": "ipython",
    "version": 3
   },
   "file_extension": ".py",
   "mimetype": "text/x-python",
   "name": "python",
   "nbconvert_exporter": "python",
   "pygments_lexer": "ipython3",
   "version": "3.8.5"
  }
 },
 "nbformat": 4,
 "nbformat_minor": 4
}
